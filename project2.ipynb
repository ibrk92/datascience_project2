{
 "cells": [
  {
   "cell_type": "markdown",
   "id": "5cdb0e1c-9690-4fb0-97d3-b9c1a316c174",
   "metadata": {
    "tags": []
   },
   "source": [
    "## Classification Modeling For Bank Marketing Project\n",
    "\n",
    "- Ibrahim Kiceci \n",
    "- Furkan Bozokluoglu \n",
    "- Mae Macenas Vega "
   ]
  },
  {
   "cell_type": "markdown",
   "id": "c4cd2e70-202b-4c0a-91aa-7d012cf3ac6a",
   "metadata": {},
   "source": [
    "### 2. Data Loading"
   ]
  },
  {
   "cell_type": "code",
   "execution_count": 1,
   "id": "62b17066-1e02-4015-8976-82dcf0ec5753",
   "metadata": {
    "tags": []
   },
   "outputs": [],
   "source": [
    "import pandas as pd"
   ]
  },
  {
   "cell_type": "code",
   "execution_count": 2,
   "id": "22403a9c-3b1c-4fdc-acc5-6ac4167249d5",
   "metadata": {
    "tags": []
   },
   "outputs": [],
   "source": [
    "unclean_data = pd.read_csv(\"bank-sampled-9K.csv\",sep = \",\" )"
   ]
  },
  {
   "cell_type": "code",
   "execution_count": 3,
   "id": "3544e691-eae0-43a0-af8f-c332e0757d30",
   "metadata": {
    "tags": []
   },
   "outputs": [],
   "source": [
    "df = unclean_data.copy()"
   ]
  },
  {
   "cell_type": "code",
   "execution_count": 4,
   "id": "5e254611-86e3-4c8e-a458-7e36f9653b21",
   "metadata": {
    "tags": []
   },
   "outputs": [
    {
     "data": {
      "text/html": [
       "<div>\n",
       "<style scoped>\n",
       "    .dataframe tbody tr th:only-of-type {\n",
       "        vertical-align: middle;\n",
       "    }\n",
       "\n",
       "    .dataframe tbody tr th {\n",
       "        vertical-align: top;\n",
       "    }\n",
       "\n",
       "    .dataframe thead th {\n",
       "        text-align: right;\n",
       "    }\n",
       "</style>\n",
       "<table border=\"1\" class=\"dataframe\">\n",
       "  <thead>\n",
       "    <tr style=\"text-align: right;\">\n",
       "      <th></th>\n",
       "      <th>Unnamed: 0</th>\n",
       "      <th>age</th>\n",
       "      <th>job</th>\n",
       "      <th>marital</th>\n",
       "      <th>education</th>\n",
       "      <th>default</th>\n",
       "      <th>balance</th>\n",
       "      <th>housing</th>\n",
       "      <th>loan</th>\n",
       "      <th>contact</th>\n",
       "      <th>day</th>\n",
       "      <th>month</th>\n",
       "      <th>duration</th>\n",
       "      <th>campaign</th>\n",
       "      <th>pdays</th>\n",
       "      <th>previous</th>\n",
       "      <th>poutcome</th>\n",
       "      <th>y</th>\n",
       "    </tr>\n",
       "  </thead>\n",
       "  <tbody>\n",
       "    <tr>\n",
       "      <th>0</th>\n",
       "      <td>0</td>\n",
       "      <td>58</td>\n",
       "      <td>management</td>\n",
       "      <td>married</td>\n",
       "      <td>tertiary</td>\n",
       "      <td>no</td>\n",
       "      <td>2143</td>\n",
       "      <td>yes</td>\n",
       "      <td>no</td>\n",
       "      <td>unknown</td>\n",
       "      <td>5</td>\n",
       "      <td>may</td>\n",
       "      <td>261</td>\n",
       "      <td>1</td>\n",
       "      <td>-1</td>\n",
       "      <td>0</td>\n",
       "      <td>unknown</td>\n",
       "      <td>no</td>\n",
       "    </tr>\n",
       "    <tr>\n",
       "      <th>1</th>\n",
       "      <td>2</td>\n",
       "      <td>33</td>\n",
       "      <td>entrepreneur</td>\n",
       "      <td>married</td>\n",
       "      <td>secondary</td>\n",
       "      <td>no</td>\n",
       "      <td>2</td>\n",
       "      <td>yes</td>\n",
       "      <td>yes</td>\n",
       "      <td>unknown</td>\n",
       "      <td>5</td>\n",
       "      <td>may</td>\n",
       "      <td>76</td>\n",
       "      <td>1</td>\n",
       "      <td>-1</td>\n",
       "      <td>0</td>\n",
       "      <td>unknown</td>\n",
       "      <td>no</td>\n",
       "    </tr>\n",
       "    <tr>\n",
       "      <th>2</th>\n",
       "      <td>11</td>\n",
       "      <td>29</td>\n",
       "      <td>admin.</td>\n",
       "      <td>single</td>\n",
       "      <td>secondary</td>\n",
       "      <td>no</td>\n",
       "      <td>390</td>\n",
       "      <td>yes</td>\n",
       "      <td>no</td>\n",
       "      <td>unknown</td>\n",
       "      <td>5</td>\n",
       "      <td>may</td>\n",
       "      <td>137</td>\n",
       "      <td>1</td>\n",
       "      <td>-1</td>\n",
       "      <td>0</td>\n",
       "      <td>unknown</td>\n",
       "      <td>no</td>\n",
       "    </tr>\n",
       "    <tr>\n",
       "      <th>3</th>\n",
       "      <td>12</td>\n",
       "      <td>53</td>\n",
       "      <td>technician</td>\n",
       "      <td>married</td>\n",
       "      <td>secondary</td>\n",
       "      <td>no</td>\n",
       "      <td>6</td>\n",
       "      <td>yes</td>\n",
       "      <td>no</td>\n",
       "      <td>unknown</td>\n",
       "      <td>5</td>\n",
       "      <td>may</td>\n",
       "      <td>517</td>\n",
       "      <td>1</td>\n",
       "      <td>-1</td>\n",
       "      <td>0</td>\n",
       "      <td>unknown</td>\n",
       "      <td>no</td>\n",
       "    </tr>\n",
       "    <tr>\n",
       "      <th>4</th>\n",
       "      <td>17</td>\n",
       "      <td>57</td>\n",
       "      <td>blue-collar</td>\n",
       "      <td>married</td>\n",
       "      <td>primary</td>\n",
       "      <td>no</td>\n",
       "      <td>52</td>\n",
       "      <td>yes</td>\n",
       "      <td>no</td>\n",
       "      <td>unknown</td>\n",
       "      <td>5</td>\n",
       "      <td>may</td>\n",
       "      <td>38</td>\n",
       "      <td>1</td>\n",
       "      <td>-1</td>\n",
       "      <td>0</td>\n",
       "      <td>unknown</td>\n",
       "      <td>no</td>\n",
       "    </tr>\n",
       "  </tbody>\n",
       "</table>\n",
       "</div>"
      ],
      "text/plain": [
       "   Unnamed: 0  age           job  marital  education default  balance housing  \\\n",
       "0           0   58    management  married   tertiary      no     2143     yes   \n",
       "1           2   33  entrepreneur  married  secondary      no        2     yes   \n",
       "2          11   29        admin.   single  secondary      no      390     yes   \n",
       "3          12   53    technician  married  secondary      no        6     yes   \n",
       "4          17   57   blue-collar  married    primary      no       52     yes   \n",
       "\n",
       "  loan  contact  day month  duration  campaign  pdays  previous poutcome   y  \n",
       "0   no  unknown    5   may       261         1     -1         0  unknown  no  \n",
       "1  yes  unknown    5   may        76         1     -1         0  unknown  no  \n",
       "2   no  unknown    5   may       137         1     -1         0  unknown  no  \n",
       "3   no  unknown    5   may       517         1     -1         0  unknown  no  \n",
       "4   no  unknown    5   may        38         1     -1         0  unknown  no  "
      ]
     },
     "execution_count": 4,
     "metadata": {},
     "output_type": "execute_result"
    }
   ],
   "source": [
    "df.head()"
   ]
  },
  {
   "cell_type": "code",
   "execution_count": 5,
   "id": "4045e8ab-774d-4e37-a9c6-0fb685f73eee",
   "metadata": {
    "tags": []
   },
   "outputs": [
    {
     "name": "stdout",
     "output_type": "stream",
     "text": [
      "<class 'pandas.core.frame.DataFrame'>\n",
      "RangeIndex: 9000 entries, 0 to 8999\n",
      "Data columns (total 18 columns):\n",
      " #   Column      Non-Null Count  Dtype \n",
      "---  ------      --------------  ----- \n",
      " 0   Unnamed: 0  9000 non-null   int64 \n",
      " 1   age         9000 non-null   int64 \n",
      " 2   job         9000 non-null   object\n",
      " 3   marital     9000 non-null   object\n",
      " 4   education   9000 non-null   object\n",
      " 5   default     9000 non-null   object\n",
      " 6   balance     9000 non-null   int64 \n",
      " 7   housing     9000 non-null   object\n",
      " 8   loan        9000 non-null   object\n",
      " 9   contact     9000 non-null   object\n",
      " 10  day         9000 non-null   int64 \n",
      " 11  month       9000 non-null   object\n",
      " 12  duration    9000 non-null   int64 \n",
      " 13  campaign    9000 non-null   int64 \n",
      " 14  pdays       9000 non-null   int64 \n",
      " 15  previous    9000 non-null   int64 \n",
      " 16  poutcome    9000 non-null   object\n",
      " 17  y           9000 non-null   object\n",
      "dtypes: int64(8), object(10)\n",
      "memory usage: 1.2+ MB\n"
     ]
    }
   ],
   "source": [
    "df.info()"
   ]
  },
  {
   "cell_type": "markdown",
   "id": "4d1e8893-ca09-4dd9-9dbb-7f6cf47a1cda",
   "metadata": {},
   "source": [
    "## 3. Data Analysis, Preparation and Wrangling"
   ]
  },
  {
   "cell_type": "markdown",
   "id": "e2c1598a-dea2-4bf0-988a-4025392f5902",
   "metadata": {
    "tags": []
   },
   "source": [
    "### Dropping the duration column"
   ]
  },
  {
   "cell_type": "code",
   "execution_count": 6,
   "id": "5d9129d9-bd8c-440a-bba9-5ada00c39a95",
   "metadata": {
    "tags": []
   },
   "outputs": [],
   "source": [
    "df.drop('duration', axis = 1, inplace = True)"
   ]
  },
  {
   "cell_type": "markdown",
   "id": "23625524-6c71-4006-8a96-1fbd41f30c83",
   "metadata": {
    "tags": []
   },
   "source": [
    "### Converting time and creating last_contact column"
   ]
  },
  {
   "cell_type": "code",
   "execution_count": 7,
   "id": "1bba9817-2461-4654-bba9-468123921b7a",
   "metadata": {
    "tags": []
   },
   "outputs": [],
   "source": [
    "from datetime import datetime as dt"
   ]
  },
  {
   "cell_type": "code",
   "execution_count": 8,
   "id": "8814bd82-95f0-46d6-8caa-6f4b45094159",
   "metadata": {
    "tags": []
   },
   "outputs": [],
   "source": [
    "last_date  = \"18 Nov, 2010\" ## this is the analysis date (assumed)\n",
    "dt_1 = dt.strptime(last_date, \"%d %b, %Y\")   ## converting to the last_date as a defined format"
   ]
  },
  {
   "cell_type": "code",
   "execution_count": 9,
   "id": "3529534e-1920-45c7-bfc4-477d19079639",
   "metadata": {
    "tags": []
   },
   "outputs": [],
   "source": [
    "# the months should start with a capital letter\n",
    "df[\"month\"] = df[\"month\"].apply(lambda x: x.capitalize())\n",
    "df[\"date\"] = df[\"day\"].astype(str) + \" \" + df[\"month\"] + \", 2010\" ## creating date column by using day, month and 2010 and converting the day type to string\n",
    "\n",
    "# calculate the duration btw two dates\n",
    "\n",
    "df[\"last_contact\"] = df[\"date\"].apply(lambda x:(dt_1 - dt.strptime(x, \"%d %b, %Y\")).days) ## anlaysed day - last contacted day = number of days since last contact date\n",
    "df.drop(columns = {'day', 'date', 'month'}, axis = 1, inplace = True )  ## dropping day, date, month\n"
   ]
  },
  {
   "cell_type": "code",
   "execution_count": 10,
   "id": "749feb9a-421c-4337-ae0e-a3d37a557020",
   "metadata": {
    "tags": []
   },
   "outputs": [
    {
     "data": {
      "text/html": [
       "<div>\n",
       "<style scoped>\n",
       "    .dataframe tbody tr th:only-of-type {\n",
       "        vertical-align: middle;\n",
       "    }\n",
       "\n",
       "    .dataframe tbody tr th {\n",
       "        vertical-align: top;\n",
       "    }\n",
       "\n",
       "    .dataframe thead th {\n",
       "        text-align: right;\n",
       "    }\n",
       "</style>\n",
       "<table border=\"1\" class=\"dataframe\">\n",
       "  <thead>\n",
       "    <tr style=\"text-align: right;\">\n",
       "      <th></th>\n",
       "      <th>Unnamed: 0</th>\n",
       "      <th>age</th>\n",
       "      <th>job</th>\n",
       "      <th>marital</th>\n",
       "      <th>education</th>\n",
       "      <th>default</th>\n",
       "      <th>balance</th>\n",
       "      <th>housing</th>\n",
       "      <th>loan</th>\n",
       "      <th>contact</th>\n",
       "      <th>campaign</th>\n",
       "      <th>pdays</th>\n",
       "      <th>previous</th>\n",
       "      <th>poutcome</th>\n",
       "      <th>y</th>\n",
       "      <th>last_contact</th>\n",
       "    </tr>\n",
       "  </thead>\n",
       "  <tbody>\n",
       "    <tr>\n",
       "      <th>0</th>\n",
       "      <td>0</td>\n",
       "      <td>58</td>\n",
       "      <td>management</td>\n",
       "      <td>married</td>\n",
       "      <td>tertiary</td>\n",
       "      <td>no</td>\n",
       "      <td>2143</td>\n",
       "      <td>yes</td>\n",
       "      <td>no</td>\n",
       "      <td>unknown</td>\n",
       "      <td>1</td>\n",
       "      <td>-1</td>\n",
       "      <td>0</td>\n",
       "      <td>unknown</td>\n",
       "      <td>no</td>\n",
       "      <td>197</td>\n",
       "    </tr>\n",
       "    <tr>\n",
       "      <th>1</th>\n",
       "      <td>2</td>\n",
       "      <td>33</td>\n",
       "      <td>entrepreneur</td>\n",
       "      <td>married</td>\n",
       "      <td>secondary</td>\n",
       "      <td>no</td>\n",
       "      <td>2</td>\n",
       "      <td>yes</td>\n",
       "      <td>yes</td>\n",
       "      <td>unknown</td>\n",
       "      <td>1</td>\n",
       "      <td>-1</td>\n",
       "      <td>0</td>\n",
       "      <td>unknown</td>\n",
       "      <td>no</td>\n",
       "      <td>197</td>\n",
       "    </tr>\n",
       "    <tr>\n",
       "      <th>2</th>\n",
       "      <td>11</td>\n",
       "      <td>29</td>\n",
       "      <td>admin.</td>\n",
       "      <td>single</td>\n",
       "      <td>secondary</td>\n",
       "      <td>no</td>\n",
       "      <td>390</td>\n",
       "      <td>yes</td>\n",
       "      <td>no</td>\n",
       "      <td>unknown</td>\n",
       "      <td>1</td>\n",
       "      <td>-1</td>\n",
       "      <td>0</td>\n",
       "      <td>unknown</td>\n",
       "      <td>no</td>\n",
       "      <td>197</td>\n",
       "    </tr>\n",
       "    <tr>\n",
       "      <th>3</th>\n",
       "      <td>12</td>\n",
       "      <td>53</td>\n",
       "      <td>technician</td>\n",
       "      <td>married</td>\n",
       "      <td>secondary</td>\n",
       "      <td>no</td>\n",
       "      <td>6</td>\n",
       "      <td>yes</td>\n",
       "      <td>no</td>\n",
       "      <td>unknown</td>\n",
       "      <td>1</td>\n",
       "      <td>-1</td>\n",
       "      <td>0</td>\n",
       "      <td>unknown</td>\n",
       "      <td>no</td>\n",
       "      <td>197</td>\n",
       "    </tr>\n",
       "    <tr>\n",
       "      <th>4</th>\n",
       "      <td>17</td>\n",
       "      <td>57</td>\n",
       "      <td>blue-collar</td>\n",
       "      <td>married</td>\n",
       "      <td>primary</td>\n",
       "      <td>no</td>\n",
       "      <td>52</td>\n",
       "      <td>yes</td>\n",
       "      <td>no</td>\n",
       "      <td>unknown</td>\n",
       "      <td>1</td>\n",
       "      <td>-1</td>\n",
       "      <td>0</td>\n",
       "      <td>unknown</td>\n",
       "      <td>no</td>\n",
       "      <td>197</td>\n",
       "    </tr>\n",
       "  </tbody>\n",
       "</table>\n",
       "</div>"
      ],
      "text/plain": [
       "   Unnamed: 0  age           job  marital  education default  balance housing  \\\n",
       "0           0   58    management  married   tertiary      no     2143     yes   \n",
       "1           2   33  entrepreneur  married  secondary      no        2     yes   \n",
       "2          11   29        admin.   single  secondary      no      390     yes   \n",
       "3          12   53    technician  married  secondary      no        6     yes   \n",
       "4          17   57   blue-collar  married    primary      no       52     yes   \n",
       "\n",
       "  loan  contact  campaign  pdays  previous poutcome   y  last_contact  \n",
       "0   no  unknown         1     -1         0  unknown  no           197  \n",
       "1  yes  unknown         1     -1         0  unknown  no           197  \n",
       "2   no  unknown         1     -1         0  unknown  no           197  \n",
       "3   no  unknown         1     -1         0  unknown  no           197  \n",
       "4   no  unknown         1     -1         0  unknown  no           197  "
      ]
     },
     "execution_count": 10,
     "metadata": {},
     "output_type": "execute_result"
    }
   ],
   "source": [
    "df.head()"
   ]
  },
  {
   "cell_type": "markdown",
   "id": "688034e6-6917-40fb-9af8-3f99c2da42d5",
   "metadata": {},
   "source": [
    "### The summary statistics of the data"
   ]
  },
  {
   "cell_type": "code",
   "execution_count": 11,
   "id": "85e87766-0cad-408d-a36c-8a1a8481719b",
   "metadata": {
    "tags": []
   },
   "outputs": [
    {
     "data": {
      "text/html": [
       "<div>\n",
       "<style scoped>\n",
       "    .dataframe tbody tr th:only-of-type {\n",
       "        vertical-align: middle;\n",
       "    }\n",
       "\n",
       "    .dataframe tbody tr th {\n",
       "        vertical-align: top;\n",
       "    }\n",
       "\n",
       "    .dataframe thead th {\n",
       "        text-align: right;\n",
       "    }\n",
       "</style>\n",
       "<table border=\"1\" class=\"dataframe\">\n",
       "  <thead>\n",
       "    <tr style=\"text-align: right;\">\n",
       "      <th></th>\n",
       "      <th>Unnamed: 0</th>\n",
       "      <th>age</th>\n",
       "      <th>balance</th>\n",
       "      <th>campaign</th>\n",
       "      <th>pdays</th>\n",
       "      <th>previous</th>\n",
       "      <th>last_contact</th>\n",
       "    </tr>\n",
       "  </thead>\n",
       "  <tbody>\n",
       "    <tr>\n",
       "      <th>count</th>\n",
       "      <td>9000.000000</td>\n",
       "      <td>9000.000000</td>\n",
       "      <td>9000.000000</td>\n",
       "      <td>9000.000000</td>\n",
       "      <td>9000.000000</td>\n",
       "      <td>9000.000000</td>\n",
       "      <td>9000.000000</td>\n",
       "    </tr>\n",
       "    <tr>\n",
       "      <th>mean</th>\n",
       "      <td>22552.799889</td>\n",
       "      <td>41.035667</td>\n",
       "      <td>1372.970222</td>\n",
       "      <td>2.767667</td>\n",
       "      <td>39.906444</td>\n",
       "      <td>0.609556</td>\n",
       "      <td>150.289000</td>\n",
       "    </tr>\n",
       "    <tr>\n",
       "      <th>std</th>\n",
       "      <td>13076.016479</td>\n",
       "      <td>10.561698</td>\n",
       "      <td>3363.690197</td>\n",
       "      <td>3.011022</td>\n",
       "      <td>99.440498</td>\n",
       "      <td>3.499115</td>\n",
       "      <td>74.721977</td>\n",
       "    </tr>\n",
       "    <tr>\n",
       "      <th>min</th>\n",
       "      <td>0.000000</td>\n",
       "      <td>18.000000</td>\n",
       "      <td>-4057.000000</td>\n",
       "      <td>1.000000</td>\n",
       "      <td>-1.000000</td>\n",
       "      <td>0.000000</td>\n",
       "      <td>-42.000000</td>\n",
       "    </tr>\n",
       "    <tr>\n",
       "      <th>25%</th>\n",
       "      <td>11247.000000</td>\n",
       "      <td>33.000000</td>\n",
       "      <td>68.000000</td>\n",
       "      <td>1.000000</td>\n",
       "      <td>-1.000000</td>\n",
       "      <td>0.000000</td>\n",
       "      <td>104.000000</td>\n",
       "    </tr>\n",
       "    <tr>\n",
       "      <th>50%</th>\n",
       "      <td>22556.000000</td>\n",
       "      <td>39.000000</td>\n",
       "      <td>450.000000</td>\n",
       "      <td>2.000000</td>\n",
       "      <td>-1.000000</td>\n",
       "      <td>0.000000</td>\n",
       "      <td>166.000000</td>\n",
       "    </tr>\n",
       "    <tr>\n",
       "      <th>75%</th>\n",
       "      <td>33941.250000</td>\n",
       "      <td>48.000000</td>\n",
       "      <td>1453.250000</td>\n",
       "      <td>3.000000</td>\n",
       "      <td>-1.000000</td>\n",
       "      <td>0.000000</td>\n",
       "      <td>193.000000</td>\n",
       "    </tr>\n",
       "    <tr>\n",
       "      <th>max</th>\n",
       "      <td>45207.000000</td>\n",
       "      <td>90.000000</td>\n",
       "      <td>102127.000000</td>\n",
       "      <td>51.000000</td>\n",
       "      <td>831.000000</td>\n",
       "      <td>275.000000</td>\n",
       "      <td>316.000000</td>\n",
       "    </tr>\n",
       "  </tbody>\n",
       "</table>\n",
       "</div>"
      ],
      "text/plain": [
       "         Unnamed: 0          age        balance     campaign        pdays  \\\n",
       "count   9000.000000  9000.000000    9000.000000  9000.000000  9000.000000   \n",
       "mean   22552.799889    41.035667    1372.970222     2.767667    39.906444   \n",
       "std    13076.016479    10.561698    3363.690197     3.011022    99.440498   \n",
       "min        0.000000    18.000000   -4057.000000     1.000000    -1.000000   \n",
       "25%    11247.000000    33.000000      68.000000     1.000000    -1.000000   \n",
       "50%    22556.000000    39.000000     450.000000     2.000000    -1.000000   \n",
       "75%    33941.250000    48.000000    1453.250000     3.000000    -1.000000   \n",
       "max    45207.000000    90.000000  102127.000000    51.000000   831.000000   \n",
       "\n",
       "          previous  last_contact  \n",
       "count  9000.000000   9000.000000  \n",
       "mean      0.609556    150.289000  \n",
       "std       3.499115     74.721977  \n",
       "min       0.000000    -42.000000  \n",
       "25%       0.000000    104.000000  \n",
       "50%       0.000000    166.000000  \n",
       "75%       0.000000    193.000000  \n",
       "max     275.000000    316.000000  "
      ]
     },
     "execution_count": 11,
     "metadata": {},
     "output_type": "execute_result"
    }
   ],
   "source": [
    "df.describe()"
   ]
  },
  {
   "cell_type": "markdown",
   "id": "f026d963-5d5d-4d59-8649-eb07f8bf16e8",
   "metadata": {},
   "source": [
    "### Creating Dummy Variables for Each Categorical Features"
   ]
  },
  {
   "cell_type": "code",
   "execution_count": 12,
   "id": "f1834198-8646-4af6-ac9f-2cb0b418ee80",
   "metadata": {
    "tags": []
   },
   "outputs": [
    {
     "name": "stdout",
     "output_type": "stream",
     "text": [
      "<class 'pandas.core.frame.DataFrame'>\n",
      "RangeIndex: 9000 entries, 0 to 8999\n",
      "Data columns (total 16 columns):\n",
      " #   Column        Non-Null Count  Dtype \n",
      "---  ------        --------------  ----- \n",
      " 0   Unnamed: 0    9000 non-null   int64 \n",
      " 1   age           9000 non-null   int64 \n",
      " 2   job           9000 non-null   object\n",
      " 3   marital       9000 non-null   object\n",
      " 4   education     9000 non-null   object\n",
      " 5   default       9000 non-null   object\n",
      " 6   balance       9000 non-null   int64 \n",
      " 7   housing       9000 non-null   object\n",
      " 8   loan          9000 non-null   object\n",
      " 9   contact       9000 non-null   object\n",
      " 10  campaign      9000 non-null   int64 \n",
      " 11  pdays         9000 non-null   int64 \n",
      " 12  previous      9000 non-null   int64 \n",
      " 13  poutcome      9000 non-null   object\n",
      " 14  y             9000 non-null   object\n",
      " 15  last_contact  9000 non-null   int64 \n",
      "dtypes: int64(7), object(9)\n",
      "memory usage: 1.1+ MB\n"
     ]
    }
   ],
   "source": [
    "## checking of the catregorical features\n",
    "df.info()"
   ]
  },
  {
   "cell_type": "code",
   "execution_count": 13,
   "id": "e1ed4bd7-eff2-4519-b1c4-3226c588e43e",
   "metadata": {
    "tags": []
   },
   "outputs": [],
   "source": [
    "## getting categorical features\n",
    "\n",
    "categorical_columns = df.select_dtypes('object').columns"
   ]
  },
  {
   "cell_type": "code",
   "execution_count": 14,
   "id": "2179a173-783e-46c5-96b4-b146665847e6",
   "metadata": {
    "tags": []
   },
   "outputs": [
    {
     "data": {
      "text/plain": [
       "Index(['job', 'marital', 'education', 'default', 'housing', 'loan', 'contact',\n",
       "       'poutcome', 'y'],\n",
       "      dtype='object')"
      ]
     },
     "execution_count": 14,
     "metadata": {},
     "output_type": "execute_result"
    }
   ],
   "source": [
    "categorical_columns"
   ]
  },
  {
   "cell_type": "code",
   "execution_count": 15,
   "id": "0983b651-d1ce-48aa-a893-eda0a642f38b",
   "metadata": {
    "tags": []
   },
   "outputs": [],
   "source": [
    "## implementing dummies method to the all categorical columns\n",
    "\n",
    "for my_column in categorical_columns:\n",
    "    dummy_columns = pd.get_dummies(df[my_column], prefix = my_column, drop_first = True)\n",
    "    df = df.join(dummy_columns)\n",
    "    df.drop(my_column, axis = 1, inplace = True)"
   ]
  },
  {
   "cell_type": "code",
   "execution_count": 16,
   "id": "23e317ee-441c-4005-a542-4232effc2e89",
   "metadata": {
    "tags": []
   },
   "outputs": [
    {
     "data": {
      "text/html": [
       "<div>\n",
       "<style scoped>\n",
       "    .dataframe tbody tr th:only-of-type {\n",
       "        vertical-align: middle;\n",
       "    }\n",
       "\n",
       "    .dataframe tbody tr th {\n",
       "        vertical-align: top;\n",
       "    }\n",
       "\n",
       "    .dataframe thead th {\n",
       "        text-align: right;\n",
       "    }\n",
       "</style>\n",
       "<table border=\"1\" class=\"dataframe\">\n",
       "  <thead>\n",
       "    <tr style=\"text-align: right;\">\n",
       "      <th></th>\n",
       "      <th>Unnamed: 0</th>\n",
       "      <th>age</th>\n",
       "      <th>balance</th>\n",
       "      <th>campaign</th>\n",
       "      <th>pdays</th>\n",
       "      <th>previous</th>\n",
       "      <th>last_contact</th>\n",
       "      <th>job_blue-collar</th>\n",
       "      <th>job_entrepreneur</th>\n",
       "      <th>job_housemaid</th>\n",
       "      <th>...</th>\n",
       "      <th>education_unknown</th>\n",
       "      <th>default_yes</th>\n",
       "      <th>housing_yes</th>\n",
       "      <th>loan_yes</th>\n",
       "      <th>contact_telephone</th>\n",
       "      <th>contact_unknown</th>\n",
       "      <th>poutcome_other</th>\n",
       "      <th>poutcome_success</th>\n",
       "      <th>poutcome_unknown</th>\n",
       "      <th>y_yes</th>\n",
       "    </tr>\n",
       "  </thead>\n",
       "  <tbody>\n",
       "    <tr>\n",
       "      <th>0</th>\n",
       "      <td>0</td>\n",
       "      <td>58</td>\n",
       "      <td>2143</td>\n",
       "      <td>1</td>\n",
       "      <td>-1</td>\n",
       "      <td>0</td>\n",
       "      <td>197</td>\n",
       "      <td>0</td>\n",
       "      <td>0</td>\n",
       "      <td>0</td>\n",
       "      <td>...</td>\n",
       "      <td>0</td>\n",
       "      <td>0</td>\n",
       "      <td>1</td>\n",
       "      <td>0</td>\n",
       "      <td>0</td>\n",
       "      <td>1</td>\n",
       "      <td>0</td>\n",
       "      <td>0</td>\n",
       "      <td>1</td>\n",
       "      <td>0</td>\n",
       "    </tr>\n",
       "    <tr>\n",
       "      <th>1</th>\n",
       "      <td>2</td>\n",
       "      <td>33</td>\n",
       "      <td>2</td>\n",
       "      <td>1</td>\n",
       "      <td>-1</td>\n",
       "      <td>0</td>\n",
       "      <td>197</td>\n",
       "      <td>0</td>\n",
       "      <td>1</td>\n",
       "      <td>0</td>\n",
       "      <td>...</td>\n",
       "      <td>0</td>\n",
       "      <td>0</td>\n",
       "      <td>1</td>\n",
       "      <td>1</td>\n",
       "      <td>0</td>\n",
       "      <td>1</td>\n",
       "      <td>0</td>\n",
       "      <td>0</td>\n",
       "      <td>1</td>\n",
       "      <td>0</td>\n",
       "    </tr>\n",
       "    <tr>\n",
       "      <th>2</th>\n",
       "      <td>11</td>\n",
       "      <td>29</td>\n",
       "      <td>390</td>\n",
       "      <td>1</td>\n",
       "      <td>-1</td>\n",
       "      <td>0</td>\n",
       "      <td>197</td>\n",
       "      <td>0</td>\n",
       "      <td>0</td>\n",
       "      <td>0</td>\n",
       "      <td>...</td>\n",
       "      <td>0</td>\n",
       "      <td>0</td>\n",
       "      <td>1</td>\n",
       "      <td>0</td>\n",
       "      <td>0</td>\n",
       "      <td>1</td>\n",
       "      <td>0</td>\n",
       "      <td>0</td>\n",
       "      <td>1</td>\n",
       "      <td>0</td>\n",
       "    </tr>\n",
       "    <tr>\n",
       "      <th>3</th>\n",
       "      <td>12</td>\n",
       "      <td>53</td>\n",
       "      <td>6</td>\n",
       "      <td>1</td>\n",
       "      <td>-1</td>\n",
       "      <td>0</td>\n",
       "      <td>197</td>\n",
       "      <td>0</td>\n",
       "      <td>0</td>\n",
       "      <td>0</td>\n",
       "      <td>...</td>\n",
       "      <td>0</td>\n",
       "      <td>0</td>\n",
       "      <td>1</td>\n",
       "      <td>0</td>\n",
       "      <td>0</td>\n",
       "      <td>1</td>\n",
       "      <td>0</td>\n",
       "      <td>0</td>\n",
       "      <td>1</td>\n",
       "      <td>0</td>\n",
       "    </tr>\n",
       "    <tr>\n",
       "      <th>4</th>\n",
       "      <td>17</td>\n",
       "      <td>57</td>\n",
       "      <td>52</td>\n",
       "      <td>1</td>\n",
       "      <td>-1</td>\n",
       "      <td>0</td>\n",
       "      <td>197</td>\n",
       "      <td>1</td>\n",
       "      <td>0</td>\n",
       "      <td>0</td>\n",
       "      <td>...</td>\n",
       "      <td>0</td>\n",
       "      <td>0</td>\n",
       "      <td>1</td>\n",
       "      <td>0</td>\n",
       "      <td>0</td>\n",
       "      <td>1</td>\n",
       "      <td>0</td>\n",
       "      <td>0</td>\n",
       "      <td>1</td>\n",
       "      <td>0</td>\n",
       "    </tr>\n",
       "  </tbody>\n",
       "</table>\n",
       "<p>5 rows × 32 columns</p>\n",
       "</div>"
      ],
      "text/plain": [
       "   Unnamed: 0  age  balance  campaign  pdays  previous  last_contact  \\\n",
       "0           0   58     2143         1     -1         0           197   \n",
       "1           2   33        2         1     -1         0           197   \n",
       "2          11   29      390         1     -1         0           197   \n",
       "3          12   53        6         1     -1         0           197   \n",
       "4          17   57       52         1     -1         0           197   \n",
       "\n",
       "   job_blue-collar  job_entrepreneur  job_housemaid  ...  education_unknown  \\\n",
       "0                0                 0              0  ...                  0   \n",
       "1                0                 1              0  ...                  0   \n",
       "2                0                 0              0  ...                  0   \n",
       "3                0                 0              0  ...                  0   \n",
       "4                1                 0              0  ...                  0   \n",
       "\n",
       "   default_yes  housing_yes  loan_yes  contact_telephone  contact_unknown  \\\n",
       "0            0            1         0                  0                1   \n",
       "1            0            1         1                  0                1   \n",
       "2            0            1         0                  0                1   \n",
       "3            0            1         0                  0                1   \n",
       "4            0            1         0                  0                1   \n",
       "\n",
       "   poutcome_other  poutcome_success  poutcome_unknown  y_yes  \n",
       "0               0                 0                 1      0  \n",
       "1               0                 0                 1      0  \n",
       "2               0                 0                 1      0  \n",
       "3               0                 0                 1      0  \n",
       "4               0                 0                 1      0  \n",
       "\n",
       "[5 rows x 32 columns]"
      ]
     },
     "execution_count": 16,
     "metadata": {},
     "output_type": "execute_result"
    }
   ],
   "source": [
    "df.head()"
   ]
  },
  {
   "cell_type": "code",
   "execution_count": 17,
   "id": "8888cdd9-ad1d-4282-b8bd-f1a31a1f2d6b",
   "metadata": {
    "tags": []
   },
   "outputs": [
    {
     "name": "stdout",
     "output_type": "stream",
     "text": [
      "<class 'pandas.core.frame.DataFrame'>\n",
      "RangeIndex: 9000 entries, 0 to 8999\n",
      "Data columns (total 32 columns):\n",
      " #   Column               Non-Null Count  Dtype\n",
      "---  ------               --------------  -----\n",
      " 0   Unnamed: 0           9000 non-null   int64\n",
      " 1   age                  9000 non-null   int64\n",
      " 2   balance              9000 non-null   int64\n",
      " 3   campaign             9000 non-null   int64\n",
      " 4   pdays                9000 non-null   int64\n",
      " 5   previous             9000 non-null   int64\n",
      " 6   last_contact         9000 non-null   int64\n",
      " 7   job_blue-collar      9000 non-null   uint8\n",
      " 8   job_entrepreneur     9000 non-null   uint8\n",
      " 9   job_housemaid        9000 non-null   uint8\n",
      " 10  job_management       9000 non-null   uint8\n",
      " 11  job_retired          9000 non-null   uint8\n",
      " 12  job_self-employed    9000 non-null   uint8\n",
      " 13  job_services         9000 non-null   uint8\n",
      " 14  job_student          9000 non-null   uint8\n",
      " 15  job_technician       9000 non-null   uint8\n",
      " 16  job_unemployed       9000 non-null   uint8\n",
      " 17  job_unknown          9000 non-null   uint8\n",
      " 18  marital_married      9000 non-null   uint8\n",
      " 19  marital_single       9000 non-null   uint8\n",
      " 20  education_secondary  9000 non-null   uint8\n",
      " 21  education_tertiary   9000 non-null   uint8\n",
      " 22  education_unknown    9000 non-null   uint8\n",
      " 23  default_yes          9000 non-null   uint8\n",
      " 24  housing_yes          9000 non-null   uint8\n",
      " 25  loan_yes             9000 non-null   uint8\n",
      " 26  contact_telephone    9000 non-null   uint8\n",
      " 27  contact_unknown      9000 non-null   uint8\n",
      " 28  poutcome_other       9000 non-null   uint8\n",
      " 29  poutcome_success     9000 non-null   uint8\n",
      " 30  poutcome_unknown     9000 non-null   uint8\n",
      " 31  y_yes                9000 non-null   uint8\n",
      "dtypes: int64(7), uint8(25)\n",
      "memory usage: 712.0 KB\n"
     ]
    }
   ],
   "source": [
    "## checking the features types\n",
    "df.info() "
   ]
  },
  {
   "cell_type": "code",
   "execution_count": 18,
   "id": "65001728-0a29-4ffd-bfb3-19b11dc706d0",
   "metadata": {
    "tags": []
   },
   "outputs": [],
   "source": [
    "## replacing hyphens with underscore in column names"
   ]
  },
  {
   "cell_type": "code",
   "execution_count": 19,
   "id": "e2a82df9-865d-443b-bd89-11fa1f96cfeb",
   "metadata": {
    "tags": []
   },
   "outputs": [],
   "source": [
    "df.columns = df.columns.str.replace('-', '_')"
   ]
  },
  {
   "cell_type": "code",
   "execution_count": 20,
   "id": "168a2b02-2f3f-4c08-bcb5-b2b8e532c6d0",
   "metadata": {
    "tags": []
   },
   "outputs": [
    {
     "name": "stdout",
     "output_type": "stream",
     "text": [
      "<class 'pandas.core.frame.DataFrame'>\n",
      "RangeIndex: 9000 entries, 0 to 8999\n",
      "Data columns (total 32 columns):\n",
      " #   Column               Non-Null Count  Dtype\n",
      "---  ------               --------------  -----\n",
      " 0   Unnamed: 0           9000 non-null   int64\n",
      " 1   age                  9000 non-null   int64\n",
      " 2   balance              9000 non-null   int64\n",
      " 3   campaign             9000 non-null   int64\n",
      " 4   pdays                9000 non-null   int64\n",
      " 5   previous             9000 non-null   int64\n",
      " 6   last_contact         9000 non-null   int64\n",
      " 7   job_blue_collar      9000 non-null   uint8\n",
      " 8   job_entrepreneur     9000 non-null   uint8\n",
      " 9   job_housemaid        9000 non-null   uint8\n",
      " 10  job_management       9000 non-null   uint8\n",
      " 11  job_retired          9000 non-null   uint8\n",
      " 12  job_self_employed    9000 non-null   uint8\n",
      " 13  job_services         9000 non-null   uint8\n",
      " 14  job_student          9000 non-null   uint8\n",
      " 15  job_technician       9000 non-null   uint8\n",
      " 16  job_unemployed       9000 non-null   uint8\n",
      " 17  job_unknown          9000 non-null   uint8\n",
      " 18  marital_married      9000 non-null   uint8\n",
      " 19  marital_single       9000 non-null   uint8\n",
      " 20  education_secondary  9000 non-null   uint8\n",
      " 21  education_tertiary   9000 non-null   uint8\n",
      " 22  education_unknown    9000 non-null   uint8\n",
      " 23  default_yes          9000 non-null   uint8\n",
      " 24  housing_yes          9000 non-null   uint8\n",
      " 25  loan_yes             9000 non-null   uint8\n",
      " 26  contact_telephone    9000 non-null   uint8\n",
      " 27  contact_unknown      9000 non-null   uint8\n",
      " 28  poutcome_other       9000 non-null   uint8\n",
      " 29  poutcome_success     9000 non-null   uint8\n",
      " 30  poutcome_unknown     9000 non-null   uint8\n",
      " 31  y_yes                9000 non-null   uint8\n",
      "dtypes: int64(7), uint8(25)\n",
      "memory usage: 712.0 KB\n"
     ]
    }
   ],
   "source": [
    "df.info()"
   ]
  },
  {
   "cell_type": "markdown",
   "id": "6224bf1f-fe20-4ac1-8978-4d9b45914d9a",
   "metadata": {},
   "source": [
    "## 4.Feature Selection and Scaling"
   ]
  },
  {
   "cell_type": "code",
   "execution_count": 21,
   "id": "960588e7-7a45-4f89-8502-59d55cf9a7f8",
   "metadata": {
    "tags": []
   },
   "outputs": [
    {
     "data": {
      "text/plain": [
       "0    7969\n",
       "1    1031\n",
       "Name: y_yes, dtype: int64"
      ]
     },
     "execution_count": 21,
     "metadata": {},
     "output_type": "execute_result"
    }
   ],
   "source": [
    "## checking of the y_yes column values\n",
    "df[\"y_yes\"].value_counts()"
   ]
  },
  {
   "cell_type": "code",
   "execution_count": 22,
   "id": "4aeb7244-4e85-4143-b67e-c4f0fc97bfe2",
   "metadata": {
    "tags": []
   },
   "outputs": [
    {
     "data": {
      "text/html": [
       "<div>\n",
       "<style scoped>\n",
       "    .dataframe tbody tr th:only-of-type {\n",
       "        vertical-align: middle;\n",
       "    }\n",
       "\n",
       "    .dataframe tbody tr th {\n",
       "        vertical-align: top;\n",
       "    }\n",
       "\n",
       "    .dataframe thead th {\n",
       "        text-align: right;\n",
       "    }\n",
       "</style>\n",
       "<table border=\"1\" class=\"dataframe\">\n",
       "  <thead>\n",
       "    <tr style=\"text-align: right;\">\n",
       "      <th></th>\n",
       "      <th>count</th>\n",
       "      <th>mean</th>\n",
       "      <th>std</th>\n",
       "      <th>min</th>\n",
       "      <th>25%</th>\n",
       "      <th>50%</th>\n",
       "      <th>75%</th>\n",
       "      <th>max</th>\n",
       "    </tr>\n",
       "  </thead>\n",
       "  <tbody>\n",
       "    <tr>\n",
       "      <th>Unnamed: 0</th>\n",
       "      <td>9000.0</td>\n",
       "      <td>22552.799889</td>\n",
       "      <td>13076.016479</td>\n",
       "      <td>0.0</td>\n",
       "      <td>11247.0</td>\n",
       "      <td>22556.0</td>\n",
       "      <td>33941.25</td>\n",
       "      <td>45207.0</td>\n",
       "    </tr>\n",
       "    <tr>\n",
       "      <th>age</th>\n",
       "      <td>9000.0</td>\n",
       "      <td>41.035667</td>\n",
       "      <td>10.561698</td>\n",
       "      <td>18.0</td>\n",
       "      <td>33.0</td>\n",
       "      <td>39.0</td>\n",
       "      <td>48.00</td>\n",
       "      <td>90.0</td>\n",
       "    </tr>\n",
       "    <tr>\n",
       "      <th>balance</th>\n",
       "      <td>9000.0</td>\n",
       "      <td>1372.970222</td>\n",
       "      <td>3363.690197</td>\n",
       "      <td>-4057.0</td>\n",
       "      <td>68.0</td>\n",
       "      <td>450.0</td>\n",
       "      <td>1453.25</td>\n",
       "      <td>102127.0</td>\n",
       "    </tr>\n",
       "    <tr>\n",
       "      <th>campaign</th>\n",
       "      <td>9000.0</td>\n",
       "      <td>2.767667</td>\n",
       "      <td>3.011022</td>\n",
       "      <td>1.0</td>\n",
       "      <td>1.0</td>\n",
       "      <td>2.0</td>\n",
       "      <td>3.00</td>\n",
       "      <td>51.0</td>\n",
       "    </tr>\n",
       "    <tr>\n",
       "      <th>pdays</th>\n",
       "      <td>9000.0</td>\n",
       "      <td>39.906444</td>\n",
       "      <td>99.440498</td>\n",
       "      <td>-1.0</td>\n",
       "      <td>-1.0</td>\n",
       "      <td>-1.0</td>\n",
       "      <td>-1.00</td>\n",
       "      <td>831.0</td>\n",
       "    </tr>\n",
       "    <tr>\n",
       "      <th>previous</th>\n",
       "      <td>9000.0</td>\n",
       "      <td>0.609556</td>\n",
       "      <td>3.499115</td>\n",
       "      <td>0.0</td>\n",
       "      <td>0.0</td>\n",
       "      <td>0.0</td>\n",
       "      <td>0.00</td>\n",
       "      <td>275.0</td>\n",
       "    </tr>\n",
       "    <tr>\n",
       "      <th>last_contact</th>\n",
       "      <td>9000.0</td>\n",
       "      <td>150.289000</td>\n",
       "      <td>74.721977</td>\n",
       "      <td>-42.0</td>\n",
       "      <td>104.0</td>\n",
       "      <td>166.0</td>\n",
       "      <td>193.00</td>\n",
       "      <td>316.0</td>\n",
       "    </tr>\n",
       "    <tr>\n",
       "      <th>job_blue_collar</th>\n",
       "      <td>9000.0</td>\n",
       "      <td>0.211444</td>\n",
       "      <td>0.408356</td>\n",
       "      <td>0.0</td>\n",
       "      <td>0.0</td>\n",
       "      <td>0.0</td>\n",
       "      <td>0.00</td>\n",
       "      <td>1.0</td>\n",
       "    </tr>\n",
       "    <tr>\n",
       "      <th>job_entrepreneur</th>\n",
       "      <td>9000.0</td>\n",
       "      <td>0.034000</td>\n",
       "      <td>0.181239</td>\n",
       "      <td>0.0</td>\n",
       "      <td>0.0</td>\n",
       "      <td>0.0</td>\n",
       "      <td>0.00</td>\n",
       "      <td>1.0</td>\n",
       "    </tr>\n",
       "    <tr>\n",
       "      <th>job_housemaid</th>\n",
       "      <td>9000.0</td>\n",
       "      <td>0.029222</td>\n",
       "      <td>0.168438</td>\n",
       "      <td>0.0</td>\n",
       "      <td>0.0</td>\n",
       "      <td>0.0</td>\n",
       "      <td>0.00</td>\n",
       "      <td>1.0</td>\n",
       "    </tr>\n",
       "    <tr>\n",
       "      <th>job_management</th>\n",
       "      <td>9000.0</td>\n",
       "      <td>0.211000</td>\n",
       "      <td>0.408041</td>\n",
       "      <td>0.0</td>\n",
       "      <td>0.0</td>\n",
       "      <td>0.0</td>\n",
       "      <td>0.00</td>\n",
       "      <td>1.0</td>\n",
       "    </tr>\n",
       "    <tr>\n",
       "      <th>job_retired</th>\n",
       "      <td>9000.0</td>\n",
       "      <td>0.047667</td>\n",
       "      <td>0.213072</td>\n",
       "      <td>0.0</td>\n",
       "      <td>0.0</td>\n",
       "      <td>0.0</td>\n",
       "      <td>0.00</td>\n",
       "      <td>1.0</td>\n",
       "    </tr>\n",
       "    <tr>\n",
       "      <th>job_self_employed</th>\n",
       "      <td>9000.0</td>\n",
       "      <td>0.037111</td>\n",
       "      <td>0.189045</td>\n",
       "      <td>0.0</td>\n",
       "      <td>0.0</td>\n",
       "      <td>0.0</td>\n",
       "      <td>0.00</td>\n",
       "      <td>1.0</td>\n",
       "    </tr>\n",
       "    <tr>\n",
       "      <th>job_services</th>\n",
       "      <td>9000.0</td>\n",
       "      <td>0.096333</td>\n",
       "      <td>0.295064</td>\n",
       "      <td>0.0</td>\n",
       "      <td>0.0</td>\n",
       "      <td>0.0</td>\n",
       "      <td>0.00</td>\n",
       "      <td>1.0</td>\n",
       "    </tr>\n",
       "    <tr>\n",
       "      <th>job_student</th>\n",
       "      <td>9000.0</td>\n",
       "      <td>0.015778</td>\n",
       "      <td>0.124622</td>\n",
       "      <td>0.0</td>\n",
       "      <td>0.0</td>\n",
       "      <td>0.0</td>\n",
       "      <td>0.00</td>\n",
       "      <td>1.0</td>\n",
       "    </tr>\n",
       "    <tr>\n",
       "      <th>job_technician</th>\n",
       "      <td>9000.0</td>\n",
       "      <td>0.164111</td>\n",
       "      <td>0.370397</td>\n",
       "      <td>0.0</td>\n",
       "      <td>0.0</td>\n",
       "      <td>0.0</td>\n",
       "      <td>0.00</td>\n",
       "      <td>1.0</td>\n",
       "    </tr>\n",
       "    <tr>\n",
       "      <th>job_unemployed</th>\n",
       "      <td>9000.0</td>\n",
       "      <td>0.028667</td>\n",
       "      <td>0.166877</td>\n",
       "      <td>0.0</td>\n",
       "      <td>0.0</td>\n",
       "      <td>0.0</td>\n",
       "      <td>0.00</td>\n",
       "      <td>1.0</td>\n",
       "    </tr>\n",
       "    <tr>\n",
       "      <th>job_unknown</th>\n",
       "      <td>9000.0</td>\n",
       "      <td>0.006000</td>\n",
       "      <td>0.077231</td>\n",
       "      <td>0.0</td>\n",
       "      <td>0.0</td>\n",
       "      <td>0.0</td>\n",
       "      <td>0.00</td>\n",
       "      <td>1.0</td>\n",
       "    </tr>\n",
       "    <tr>\n",
       "      <th>marital_married</th>\n",
       "      <td>9000.0</td>\n",
       "      <td>0.602778</td>\n",
       "      <td>0.489350</td>\n",
       "      <td>0.0</td>\n",
       "      <td>0.0</td>\n",
       "      <td>1.0</td>\n",
       "      <td>1.00</td>\n",
       "      <td>1.0</td>\n",
       "    </tr>\n",
       "    <tr>\n",
       "      <th>marital_single</th>\n",
       "      <td>9000.0</td>\n",
       "      <td>0.280444</td>\n",
       "      <td>0.449241</td>\n",
       "      <td>0.0</td>\n",
       "      <td>0.0</td>\n",
       "      <td>0.0</td>\n",
       "      <td>1.00</td>\n",
       "      <td>1.0</td>\n",
       "    </tr>\n",
       "    <tr>\n",
       "      <th>education_secondary</th>\n",
       "      <td>9000.0</td>\n",
       "      <td>0.514444</td>\n",
       "      <td>0.499819</td>\n",
       "      <td>0.0</td>\n",
       "      <td>0.0</td>\n",
       "      <td>1.0</td>\n",
       "      <td>1.00</td>\n",
       "      <td>1.0</td>\n",
       "    </tr>\n",
       "    <tr>\n",
       "      <th>education_tertiary</th>\n",
       "      <td>9000.0</td>\n",
       "      <td>0.293000</td>\n",
       "      <td>0.455164</td>\n",
       "      <td>0.0</td>\n",
       "      <td>0.0</td>\n",
       "      <td>0.0</td>\n",
       "      <td>1.00</td>\n",
       "      <td>1.0</td>\n",
       "    </tr>\n",
       "    <tr>\n",
       "      <th>education_unknown</th>\n",
       "      <td>9000.0</td>\n",
       "      <td>0.042889</td>\n",
       "      <td>0.202618</td>\n",
       "      <td>0.0</td>\n",
       "      <td>0.0</td>\n",
       "      <td>0.0</td>\n",
       "      <td>0.00</td>\n",
       "      <td>1.0</td>\n",
       "    </tr>\n",
       "    <tr>\n",
       "      <th>default_yes</th>\n",
       "      <td>9000.0</td>\n",
       "      <td>0.016667</td>\n",
       "      <td>0.128026</td>\n",
       "      <td>0.0</td>\n",
       "      <td>0.0</td>\n",
       "      <td>0.0</td>\n",
       "      <td>0.00</td>\n",
       "      <td>1.0</td>\n",
       "    </tr>\n",
       "    <tr>\n",
       "      <th>housing_yes</th>\n",
       "      <td>9000.0</td>\n",
       "      <td>0.560222</td>\n",
       "      <td>0.496388</td>\n",
       "      <td>0.0</td>\n",
       "      <td>0.0</td>\n",
       "      <td>1.0</td>\n",
       "      <td>1.00</td>\n",
       "      <td>1.0</td>\n",
       "    </tr>\n",
       "    <tr>\n",
       "      <th>loan_yes</th>\n",
       "      <td>9000.0</td>\n",
       "      <td>0.158556</td>\n",
       "      <td>0.365281</td>\n",
       "      <td>0.0</td>\n",
       "      <td>0.0</td>\n",
       "      <td>0.0</td>\n",
       "      <td>0.00</td>\n",
       "      <td>1.0</td>\n",
       "    </tr>\n",
       "    <tr>\n",
       "      <th>contact_telephone</th>\n",
       "      <td>9000.0</td>\n",
       "      <td>0.063222</td>\n",
       "      <td>0.243376</td>\n",
       "      <td>0.0</td>\n",
       "      <td>0.0</td>\n",
       "      <td>0.0</td>\n",
       "      <td>0.00</td>\n",
       "      <td>1.0</td>\n",
       "    </tr>\n",
       "    <tr>\n",
       "      <th>contact_unknown</th>\n",
       "      <td>9000.0</td>\n",
       "      <td>0.287556</td>\n",
       "      <td>0.452648</td>\n",
       "      <td>0.0</td>\n",
       "      <td>0.0</td>\n",
       "      <td>0.0</td>\n",
       "      <td>1.00</td>\n",
       "      <td>1.0</td>\n",
       "    </tr>\n",
       "    <tr>\n",
       "      <th>poutcome_other</th>\n",
       "      <td>9000.0</td>\n",
       "      <td>0.039222</td>\n",
       "      <td>0.194134</td>\n",
       "      <td>0.0</td>\n",
       "      <td>0.0</td>\n",
       "      <td>0.0</td>\n",
       "      <td>0.00</td>\n",
       "      <td>1.0</td>\n",
       "    </tr>\n",
       "    <tr>\n",
       "      <th>poutcome_success</th>\n",
       "      <td>9000.0</td>\n",
       "      <td>0.032444</td>\n",
       "      <td>0.177187</td>\n",
       "      <td>0.0</td>\n",
       "      <td>0.0</td>\n",
       "      <td>0.0</td>\n",
       "      <td>0.00</td>\n",
       "      <td>1.0</td>\n",
       "    </tr>\n",
       "    <tr>\n",
       "      <th>poutcome_unknown</th>\n",
       "      <td>9000.0</td>\n",
       "      <td>0.817556</td>\n",
       "      <td>0.386232</td>\n",
       "      <td>0.0</td>\n",
       "      <td>1.0</td>\n",
       "      <td>1.0</td>\n",
       "      <td>1.00</td>\n",
       "      <td>1.0</td>\n",
       "    </tr>\n",
       "    <tr>\n",
       "      <th>y_yes</th>\n",
       "      <td>9000.0</td>\n",
       "      <td>0.114556</td>\n",
       "      <td>0.318503</td>\n",
       "      <td>0.0</td>\n",
       "      <td>0.0</td>\n",
       "      <td>0.0</td>\n",
       "      <td>0.00</td>\n",
       "      <td>1.0</td>\n",
       "    </tr>\n",
       "  </tbody>\n",
       "</table>\n",
       "</div>"
      ],
      "text/plain": [
       "                      count          mean           std     min      25%  \\\n",
       "Unnamed: 0           9000.0  22552.799889  13076.016479     0.0  11247.0   \n",
       "age                  9000.0     41.035667     10.561698    18.0     33.0   \n",
       "balance              9000.0   1372.970222   3363.690197 -4057.0     68.0   \n",
       "campaign             9000.0      2.767667      3.011022     1.0      1.0   \n",
       "pdays                9000.0     39.906444     99.440498    -1.0     -1.0   \n",
       "previous             9000.0      0.609556      3.499115     0.0      0.0   \n",
       "last_contact         9000.0    150.289000     74.721977   -42.0    104.0   \n",
       "job_blue_collar      9000.0      0.211444      0.408356     0.0      0.0   \n",
       "job_entrepreneur     9000.0      0.034000      0.181239     0.0      0.0   \n",
       "job_housemaid        9000.0      0.029222      0.168438     0.0      0.0   \n",
       "job_management       9000.0      0.211000      0.408041     0.0      0.0   \n",
       "job_retired          9000.0      0.047667      0.213072     0.0      0.0   \n",
       "job_self_employed    9000.0      0.037111      0.189045     0.0      0.0   \n",
       "job_services         9000.0      0.096333      0.295064     0.0      0.0   \n",
       "job_student          9000.0      0.015778      0.124622     0.0      0.0   \n",
       "job_technician       9000.0      0.164111      0.370397     0.0      0.0   \n",
       "job_unemployed       9000.0      0.028667      0.166877     0.0      0.0   \n",
       "job_unknown          9000.0      0.006000      0.077231     0.0      0.0   \n",
       "marital_married      9000.0      0.602778      0.489350     0.0      0.0   \n",
       "marital_single       9000.0      0.280444      0.449241     0.0      0.0   \n",
       "education_secondary  9000.0      0.514444      0.499819     0.0      0.0   \n",
       "education_tertiary   9000.0      0.293000      0.455164     0.0      0.0   \n",
       "education_unknown    9000.0      0.042889      0.202618     0.0      0.0   \n",
       "default_yes          9000.0      0.016667      0.128026     0.0      0.0   \n",
       "housing_yes          9000.0      0.560222      0.496388     0.0      0.0   \n",
       "loan_yes             9000.0      0.158556      0.365281     0.0      0.0   \n",
       "contact_telephone    9000.0      0.063222      0.243376     0.0      0.0   \n",
       "contact_unknown      9000.0      0.287556      0.452648     0.0      0.0   \n",
       "poutcome_other       9000.0      0.039222      0.194134     0.0      0.0   \n",
       "poutcome_success     9000.0      0.032444      0.177187     0.0      0.0   \n",
       "poutcome_unknown     9000.0      0.817556      0.386232     0.0      1.0   \n",
       "y_yes                9000.0      0.114556      0.318503     0.0      0.0   \n",
       "\n",
       "                         50%       75%       max  \n",
       "Unnamed: 0           22556.0  33941.25   45207.0  \n",
       "age                     39.0     48.00      90.0  \n",
       "balance                450.0   1453.25  102127.0  \n",
       "campaign                 2.0      3.00      51.0  \n",
       "pdays                   -1.0     -1.00     831.0  \n",
       "previous                 0.0      0.00     275.0  \n",
       "last_contact           166.0    193.00     316.0  \n",
       "job_blue_collar          0.0      0.00       1.0  \n",
       "job_entrepreneur         0.0      0.00       1.0  \n",
       "job_housemaid            0.0      0.00       1.0  \n",
       "job_management           0.0      0.00       1.0  \n",
       "job_retired              0.0      0.00       1.0  \n",
       "job_self_employed        0.0      0.00       1.0  \n",
       "job_services             0.0      0.00       1.0  \n",
       "job_student              0.0      0.00       1.0  \n",
       "job_technician           0.0      0.00       1.0  \n",
       "job_unemployed           0.0      0.00       1.0  \n",
       "job_unknown              0.0      0.00       1.0  \n",
       "marital_married          1.0      1.00       1.0  \n",
       "marital_single           0.0      1.00       1.0  \n",
       "education_secondary      1.0      1.00       1.0  \n",
       "education_tertiary       0.0      1.00       1.0  \n",
       "education_unknown        0.0      0.00       1.0  \n",
       "default_yes              0.0      0.00       1.0  \n",
       "housing_yes              1.0      1.00       1.0  \n",
       "loan_yes                 0.0      0.00       1.0  \n",
       "contact_telephone        0.0      0.00       1.0  \n",
       "contact_unknown          0.0      1.00       1.0  \n",
       "poutcome_other           0.0      0.00       1.0  \n",
       "poutcome_success         0.0      0.00       1.0  \n",
       "poutcome_unknown         1.0      1.00       1.0  \n",
       "y_yes                    0.0      0.00       1.0  "
      ]
     },
     "execution_count": 22,
     "metadata": {},
     "output_type": "execute_result"
    }
   ],
   "source": [
    "df.describe().T"
   ]
  },
  {
   "cell_type": "code",
   "execution_count": 23,
   "id": "bfdededd-3155-4252-a5c3-53ebfe59480b",
   "metadata": {
    "tags": []
   },
   "outputs": [],
   "source": [
    "##importing the necessary libraries\n",
    "from sklearn.model_selection import train_test_split\n",
    "from sklearn.linear_model import LogisticRegression\n",
    "from sklearn.svm import LinearSVC\n",
    "from sklearn.feature_selection import SelectKBest, mutual_info_classif\n",
    "from sklearn.preprocessing import RobustScaler\n",
    "from sklearn.pipeline import Pipeline\n",
    "from sklearn import metrics\n",
    "import numpy as np\n",
    "from sklearn.feature_selection import SelectFromModel\n"
   ]
  },
  {
   "cell_type": "code",
   "execution_count": 24,
   "id": "cf6a81d8-7958-43f4-84dd-04000d588f8c",
   "metadata": {
    "tags": []
   },
   "outputs": [],
   "source": [
    "## Separate features (X) and target (y)\n",
    "X = df.drop(\"y_yes\", axis = 1) ##independent features\n",
    "y = df[\"y_yes\"] ## dependent feature"
   ]
  },
  {
   "cell_type": "markdown",
   "id": "0c697f12-5641-49ad-b29c-5219be517b75",
   "metadata": {
    "tags": []
   },
   "source": [
    "## Feature Selection Models"
   ]
  },
  {
   "cell_type": "markdown",
   "id": "6b27c6c4-acc6-4173-84e7-e0aa85f98949",
   "metadata": {
    "tags": []
   },
   "source": [
    "### Method 1: Logistic Regression Feature Selection "
   ]
  },
  {
   "cell_type": "markdown",
   "id": "4d7e4117-b1b8-44ee-a00b-09202614ef37",
   "metadata": {},
   "source": [
    "How method1.fit(X,y) works ? \n",
    "\n",
    "Applies the selected feature selection method on the training data. That is, this method performs the learning process using the dataset.\n",
    "This training process involves the feature selection method evaluating the importance of features using a specific model or criterion. For example, if SelectFromModel is used, this process involves determining the importance of features in the learning process of a particular model.\n",
    "\n",
    "How method1.fit(X,y) works ?\n",
    "\n",
    "this method must be tarined according to data set !! so using of this model, you can select features (Mesela sacma olur ama bu modeli gidip baska data setlerine uygulayip buradaki katsayilara gore bir secim yapar). Yani artik egitildi.\n"
   ]
  },
  {
   "cell_type": "code",
   "execution_count": 25,
   "id": "14688938-2695-4908-8596-fc155408db9f",
   "metadata": {
    "tags": []
   },
   "outputs": [
    {
     "data": {
      "text/html": [
       "<div>\n",
       "<style scoped>\n",
       "    .dataframe tbody tr th:only-of-type {\n",
       "        vertical-align: middle;\n",
       "    }\n",
       "\n",
       "    .dataframe tbody tr th {\n",
       "        vertical-align: top;\n",
       "    }\n",
       "\n",
       "    .dataframe thead th {\n",
       "        text-align: right;\n",
       "    }\n",
       "</style>\n",
       "<table border=\"1\" class=\"dataframe\">\n",
       "  <thead>\n",
       "    <tr style=\"text-align: right;\">\n",
       "      <th></th>\n",
       "      <th>coef</th>\n",
       "      <th>select_feature</th>\n",
       "    </tr>\n",
       "  </thead>\n",
       "  <tbody>\n",
       "    <tr>\n",
       "      <th>Unnamed: 0</th>\n",
       "      <td>0.000048</td>\n",
       "      <td>False</td>\n",
       "    </tr>\n",
       "    <tr>\n",
       "      <th>age</th>\n",
       "      <td>-0.043152</td>\n",
       "      <td>True</td>\n",
       "    </tr>\n",
       "    <tr>\n",
       "      <th>balance</th>\n",
       "      <td>0.000014</td>\n",
       "      <td>False</td>\n",
       "    </tr>\n",
       "    <tr>\n",
       "      <th>campaign</th>\n",
       "      <td>-0.320401</td>\n",
       "      <td>True</td>\n",
       "    </tr>\n",
       "    <tr>\n",
       "      <th>pdays</th>\n",
       "      <td>-0.000954</td>\n",
       "      <td>False</td>\n",
       "    </tr>\n",
       "    <tr>\n",
       "      <th>previous</th>\n",
       "      <td>0.039765</td>\n",
       "      <td>True</td>\n",
       "    </tr>\n",
       "    <tr>\n",
       "      <th>last_contact</th>\n",
       "      <td>-0.003681</td>\n",
       "      <td>False</td>\n",
       "    </tr>\n",
       "    <tr>\n",
       "      <th>job_blue_collar</th>\n",
       "      <td>-0.023563</td>\n",
       "      <td>False</td>\n",
       "    </tr>\n",
       "    <tr>\n",
       "      <th>job_entrepreneur</th>\n",
       "      <td>-0.005607</td>\n",
       "      <td>False</td>\n",
       "    </tr>\n",
       "    <tr>\n",
       "      <th>job_housemaid</th>\n",
       "      <td>-0.003128</td>\n",
       "      <td>False</td>\n",
       "    </tr>\n",
       "    <tr>\n",
       "      <th>job_management</th>\n",
       "      <td>-0.015367</td>\n",
       "      <td>False</td>\n",
       "    </tr>\n",
       "    <tr>\n",
       "      <th>job_retired</th>\n",
       "      <td>0.033563</td>\n",
       "      <td>True</td>\n",
       "    </tr>\n",
       "    <tr>\n",
       "      <th>job_self_employed</th>\n",
       "      <td>-0.004772</td>\n",
       "      <td>False</td>\n",
       "    </tr>\n",
       "    <tr>\n",
       "      <th>job_services</th>\n",
       "      <td>-0.012760</td>\n",
       "      <td>False</td>\n",
       "    </tr>\n",
       "    <tr>\n",
       "      <th>job_student</th>\n",
       "      <td>-0.002659</td>\n",
       "      <td>False</td>\n",
       "    </tr>\n",
       "    <tr>\n",
       "      <th>job_technician</th>\n",
       "      <td>-0.020206</td>\n",
       "      <td>False</td>\n",
       "    </tr>\n",
       "    <tr>\n",
       "      <th>job_unemployed</th>\n",
       "      <td>0.001974</td>\n",
       "      <td>False</td>\n",
       "    </tr>\n",
       "    <tr>\n",
       "      <th>job_unknown</th>\n",
       "      <td>0.001100</td>\n",
       "      <td>False</td>\n",
       "    </tr>\n",
       "    <tr>\n",
       "      <th>marital_married</th>\n",
       "      <td>-0.023457</td>\n",
       "      <td>False</td>\n",
       "    </tr>\n",
       "    <tr>\n",
       "      <th>marital_single</th>\n",
       "      <td>-0.043882</td>\n",
       "      <td>True</td>\n",
       "    </tr>\n",
       "    <tr>\n",
       "      <th>education_secondary</th>\n",
       "      <td>-0.048288</td>\n",
       "      <td>True</td>\n",
       "    </tr>\n",
       "    <tr>\n",
       "      <th>education_tertiary</th>\n",
       "      <td>-0.011495</td>\n",
       "      <td>False</td>\n",
       "    </tr>\n",
       "    <tr>\n",
       "      <th>education_unknown</th>\n",
       "      <td>0.004404</td>\n",
       "      <td>False</td>\n",
       "    </tr>\n",
       "    <tr>\n",
       "      <th>default_yes</th>\n",
       "      <td>-0.003397</td>\n",
       "      <td>False</td>\n",
       "    </tr>\n",
       "    <tr>\n",
       "      <th>housing_yes</th>\n",
       "      <td>-0.095098</td>\n",
       "      <td>True</td>\n",
       "    </tr>\n",
       "    <tr>\n",
       "      <th>loan_yes</th>\n",
       "      <td>-0.031384</td>\n",
       "      <td>True</td>\n",
       "    </tr>\n",
       "    <tr>\n",
       "      <th>contact_telephone</th>\n",
       "      <td>0.000847</td>\n",
       "      <td>False</td>\n",
       "    </tr>\n",
       "    <tr>\n",
       "      <th>contact_unknown</th>\n",
       "      <td>-0.016997</td>\n",
       "      <td>False</td>\n",
       "    </tr>\n",
       "    <tr>\n",
       "      <th>poutcome_other</th>\n",
       "      <td>-0.005792</td>\n",
       "      <td>False</td>\n",
       "    </tr>\n",
       "    <tr>\n",
       "      <th>poutcome_success</th>\n",
       "      <td>0.045827</td>\n",
       "      <td>True</td>\n",
       "    </tr>\n",
       "    <tr>\n",
       "      <th>poutcome_unknown</th>\n",
       "      <td>-0.073419</td>\n",
       "      <td>True</td>\n",
       "    </tr>\n",
       "  </tbody>\n",
       "</table>\n",
       "</div>"
      ],
      "text/plain": [
       "                         coef  select_feature\n",
       "Unnamed: 0           0.000048           False\n",
       "age                 -0.043152            True\n",
       "balance              0.000014           False\n",
       "campaign            -0.320401            True\n",
       "pdays               -0.000954           False\n",
       "previous             0.039765            True\n",
       "last_contact        -0.003681           False\n",
       "job_blue_collar     -0.023563           False\n",
       "job_entrepreneur    -0.005607           False\n",
       "job_housemaid       -0.003128           False\n",
       "job_management      -0.015367           False\n",
       "job_retired          0.033563            True\n",
       "job_self_employed   -0.004772           False\n",
       "job_services        -0.012760           False\n",
       "job_student         -0.002659           False\n",
       "job_technician      -0.020206           False\n",
       "job_unemployed       0.001974           False\n",
       "job_unknown          0.001100           False\n",
       "marital_married     -0.023457           False\n",
       "marital_single      -0.043882            True\n",
       "education_secondary -0.048288            True\n",
       "education_tertiary  -0.011495           False\n",
       "education_unknown    0.004404           False\n",
       "default_yes         -0.003397           False\n",
       "housing_yes         -0.095098            True\n",
       "loan_yes            -0.031384            True\n",
       "contact_telephone    0.000847           False\n",
       "contact_unknown     -0.016997           False\n",
       "poutcome_other      -0.005792           False\n",
       "poutcome_success     0.045827            True\n",
       "poutcome_unknown    -0.073419            True"
      ]
     },
     "execution_count": 25,
     "metadata": {},
     "output_type": "execute_result"
    }
   ],
   "source": [
    "log_reg = LogisticRegression(max_iter=5000) ## repeating max 5000 times\n",
    "## Logistic regression and similar models attempt to adjust the model's parameters to best fit the data, often using an optimization algorithm.\n",
    "\n",
    "##is a parameter of this class. Here log_reg is a logistic regression model (or could be another model). \n",
    "##The SelectFromModel class selects features that are more than a certain threshold value during the learning process of this model.\n",
    "method1 = SelectFromModel(estimator= log_reg)\n",
    "method1.fit(X,y) ## Yani LogisticRegression max 5000 defa repeat edilecek en iyi model parametrelerini bulmak icin. ne kullanilacak SelectFrom model. Peki hangi veri setine gore egitilip secimler yapacak \n",
    "##showing the selected features result\n",
    "\n",
    "pd.DataFrame({'coef': method1.estimator_.coef_[0], 'select_feature': method1.get_support()}, index=X.columns) ## getting the features greater than the threshold value"
   ]
  },
  {
   "cell_type": "markdown",
   "id": "d4ebc6b9-f2cc-41c7-a431-5da45ae7a372",
   "metadata": {},
   "source": [
    "Asagidaki kodda sunu yaptik egitilmis olan modelimizi (model1) kullanarak, secimlerimizi yapiyoruz.\n",
    "get_support(indices = True) -- > True veya False dondurur yani secilenler True, secilmeyenler False"
   ]
  },
  {
   "cell_type": "code",
   "execution_count": 26,
   "id": "1eef666c-3a97-4d36-a095-43dbb4517613",
   "metadata": {
    "tags": []
   },
   "outputs": [
    {
     "data": {
      "text/plain": [
       "Index(['age', 'campaign', 'previous', 'job_retired', 'marital_single',\n",
       "       'education_secondary', 'housing_yes', 'loan_yes', 'poutcome_success',\n",
       "       'poutcome_unknown'],\n",
       "      dtype='object')"
      ]
     },
     "execution_count": 26,
     "metadata": {},
     "output_type": "execute_result"
    }
   ],
   "source": [
    "selected_features_method1 = X.columns[method1.get_support(indices=True)]\n",
    "## checking of the selected features for method1\n",
    "selected_features_method1"
   ]
  },
  {
   "cell_type": "code",
   "execution_count": 27,
   "id": "23f418b5-1d99-4c04-98a5-7ceb690ee426",
   "metadata": {
    "tags": []
   },
   "outputs": [
    {
     "data": {
      "text/plain": [
       "0.030225873688792964"
      ]
     },
     "execution_count": 27,
     "metadata": {},
     "output_type": "execute_result"
    }
   ],
   "source": [
    "#checking of the threshold value\n",
    "method1.threshold_"
   ]
  },
  {
   "cell_type": "code",
   "execution_count": 28,
   "id": "883a5bf7-f510-4a8b-841a-0cd579d0743a",
   "metadata": {
    "tags": []
   },
   "outputs": [
    {
     "data": {
      "text/plain": [
       "array([False,  True, False,  True, False,  True, False, False, False,\n",
       "       False, False,  True, False, False, False, False, False, False,\n",
       "       False,  True,  True, False, False, False,  True,  True, False,\n",
       "       False, False,  True,  True])"
      ]
     },
     "execution_count": 28,
     "metadata": {},
     "output_type": "execute_result"
    }
   ],
   "source": [
    "# False = insignificant feature; True= significant feature\n",
    "method1.get_support()"
   ]
  },
  {
   "cell_type": "markdown",
   "id": "007e77ee-b2a1-4cd7-923c-5fe3f39b3d6f",
   "metadata": {},
   "source": [
    "method1.transform(X)\n",
    "\n",
    "X veri kümesini kullanarak sadece seçilen özellikleri içeren bir yeni veri kümesi oluşturur. Yani, sadece seçilen özelliklere ait sütunları içeren bir veri kümesi elde edersiniz.\n",
    "\n",
    "Yani degerler olusmuyor sadece featureslari seciyor yani X'deki age degerin neyse, X_1'deki age degerinde ayni"
   ]
  },
  {
   "cell_type": "code",
   "execution_count": 29,
   "id": "ec753074-c662-491c-ba12-3c3039f82126",
   "metadata": {
    "tags": []
   },
   "outputs": [
    {
     "data": {
      "text/plain": [
       "(9000, 10)"
      ]
     },
     "execution_count": 29,
     "metadata": {},
     "output_type": "execute_result"
    }
   ],
   "source": [
    "## Gives the subset of features to use in analysis\n",
    "\n",
    "X_1 =  method1.transform(X) ## creating a new dataset based on the selected features.\n",
    "X_1.shape"
   ]
  },
  {
   "cell_type": "markdown",
   "id": "c9cd79ef-dd33-4661-a539-c1224c30d3af",
   "metadata": {
    "tags": []
   },
   "source": [
    "### Method 2 : Linear SVM Feature Selection"
   ]
  },
  {
   "cell_type": "code",
   "execution_count": 30,
   "id": "2f598ea6-1cb7-4dc2-ad7a-0bbfb3729c49",
   "metadata": {
    "tags": []
   },
   "outputs": [],
   "source": [
    "## Feature selection using Linear SVM model"
   ]
  },
  {
   "cell_type": "markdown",
   "id": "2e3d6068-c1d5-476e-89a8-cb40569b090a",
   "metadata": {},
   "source": [
    "C parametresi, Linear SVM'nin düzenleme (regülarizasyon) parametresidir. Bu parametre, modelin eğitim verilerine ne kadar uyması veya genelleme yapması gerektiğini kontrol eder.\n",
    "*Daha büyük C değerleri, daha az düzenleme anlamına gelir. Bu durumda, model eğitim verilerine daha fazla uymaya çalışır, ancak aşırı uyum riski artar.\n",
    "*Daha küçük C değerleri, daha fazla düzenleme anlamına gelir. Bu durumda, model daha genel geçer olma eğilimindedir, ancak eğitim verilerine tam olarak uyma riski azalır."
   ]
  },
  {
   "cell_type": "code",
   "execution_count": 31,
   "id": "3d2cc259-8d94-4b35-bb11-b9d83a2582fe",
   "metadata": {
    "tags": []
   },
   "outputs": [],
   "source": [
    "l_svm = LinearSVC(C=0.001, dual = False)"
   ]
  },
  {
   "cell_type": "code",
   "execution_count": 32,
   "id": "2b8d3906-5df2-4df3-bcf7-3f858c8bf24f",
   "metadata": {
    "tags": []
   },
   "outputs": [
    {
     "data": {
      "text/html": [
       "<style>#sk-container-id-1 {color: black;}#sk-container-id-1 pre{padding: 0;}#sk-container-id-1 div.sk-toggleable {background-color: white;}#sk-container-id-1 label.sk-toggleable__label {cursor: pointer;display: block;width: 100%;margin-bottom: 0;padding: 0.3em;box-sizing: border-box;text-align: center;}#sk-container-id-1 label.sk-toggleable__label-arrow:before {content: \"▸\";float: left;margin-right: 0.25em;color: #696969;}#sk-container-id-1 label.sk-toggleable__label-arrow:hover:before {color: black;}#sk-container-id-1 div.sk-estimator:hover label.sk-toggleable__label-arrow:before {color: black;}#sk-container-id-1 div.sk-toggleable__content {max-height: 0;max-width: 0;overflow: hidden;text-align: left;background-color: #f0f8ff;}#sk-container-id-1 div.sk-toggleable__content pre {margin: 0.2em;color: black;border-radius: 0.25em;background-color: #f0f8ff;}#sk-container-id-1 input.sk-toggleable__control:checked~div.sk-toggleable__content {max-height: 200px;max-width: 100%;overflow: auto;}#sk-container-id-1 input.sk-toggleable__control:checked~label.sk-toggleable__label-arrow:before {content: \"▾\";}#sk-container-id-1 div.sk-estimator input.sk-toggleable__control:checked~label.sk-toggleable__label {background-color: #d4ebff;}#sk-container-id-1 div.sk-label input.sk-toggleable__control:checked~label.sk-toggleable__label {background-color: #d4ebff;}#sk-container-id-1 input.sk-hidden--visually {border: 0;clip: rect(1px 1px 1px 1px);clip: rect(1px, 1px, 1px, 1px);height: 1px;margin: -1px;overflow: hidden;padding: 0;position: absolute;width: 1px;}#sk-container-id-1 div.sk-estimator {font-family: monospace;background-color: #f0f8ff;border: 1px dotted black;border-radius: 0.25em;box-sizing: border-box;margin-bottom: 0.5em;}#sk-container-id-1 div.sk-estimator:hover {background-color: #d4ebff;}#sk-container-id-1 div.sk-parallel-item::after {content: \"\";width: 100%;border-bottom: 1px solid gray;flex-grow: 1;}#sk-container-id-1 div.sk-label:hover label.sk-toggleable__label {background-color: #d4ebff;}#sk-container-id-1 div.sk-serial::before {content: \"\";position: absolute;border-left: 1px solid gray;box-sizing: border-box;top: 0;bottom: 0;left: 50%;z-index: 0;}#sk-container-id-1 div.sk-serial {display: flex;flex-direction: column;align-items: center;background-color: white;padding-right: 0.2em;padding-left: 0.2em;position: relative;}#sk-container-id-1 div.sk-item {position: relative;z-index: 1;}#sk-container-id-1 div.sk-parallel {display: flex;align-items: stretch;justify-content: center;background-color: white;position: relative;}#sk-container-id-1 div.sk-item::before, #sk-container-id-1 div.sk-parallel-item::before {content: \"\";position: absolute;border-left: 1px solid gray;box-sizing: border-box;top: 0;bottom: 0;left: 50%;z-index: -1;}#sk-container-id-1 div.sk-parallel-item {display: flex;flex-direction: column;z-index: 1;position: relative;background-color: white;}#sk-container-id-1 div.sk-parallel-item:first-child::after {align-self: flex-end;width: 50%;}#sk-container-id-1 div.sk-parallel-item:last-child::after {align-self: flex-start;width: 50%;}#sk-container-id-1 div.sk-parallel-item:only-child::after {width: 0;}#sk-container-id-1 div.sk-dashed-wrapped {border: 1px dashed gray;margin: 0 0.4em 0.5em 0.4em;box-sizing: border-box;padding-bottom: 0.4em;background-color: white;}#sk-container-id-1 div.sk-label label {font-family: monospace;font-weight: bold;display: inline-block;line-height: 1.2em;}#sk-container-id-1 div.sk-label-container {text-align: center;}#sk-container-id-1 div.sk-container {/* jupyter's `normalize.less` sets `[hidden] { display: none; }` but bootstrap.min.css set `[hidden] { display: none !important; }` so we also need the `!important` here to be able to override the default hidden behavior on the sphinx rendered scikit-learn.org. See: https://github.com/scikit-learn/scikit-learn/issues/21755 */display: inline-block !important;position: relative;}#sk-container-id-1 div.sk-text-repr-fallback {display: none;}</style><div id=\"sk-container-id-1\" class=\"sk-top-container\"><div class=\"sk-text-repr-fallback\"><pre>SelectFromModel(estimator=LinearSVC(C=0.001, dual=False))</pre><b>In a Jupyter environment, please rerun this cell to show the HTML representation or trust the notebook. <br />On GitHub, the HTML representation is unable to render, please try loading this page with nbviewer.org.</b></div><div class=\"sk-container\" hidden><div class=\"sk-item sk-dashed-wrapped\"><div class=\"sk-label-container\"><div class=\"sk-label sk-toggleable\"><input class=\"sk-toggleable__control sk-hidden--visually\" id=\"sk-estimator-id-1\" type=\"checkbox\" ><label for=\"sk-estimator-id-1\" class=\"sk-toggleable__label sk-toggleable__label-arrow\">SelectFromModel</label><div class=\"sk-toggleable__content\"><pre>SelectFromModel(estimator=LinearSVC(C=0.001, dual=False))</pre></div></div></div><div class=\"sk-parallel\"><div class=\"sk-parallel-item\"><div class=\"sk-item\"><div class=\"sk-label-container\"><div class=\"sk-label sk-toggleable\"><input class=\"sk-toggleable__control sk-hidden--visually\" id=\"sk-estimator-id-2\" type=\"checkbox\" ><label for=\"sk-estimator-id-2\" class=\"sk-toggleable__label sk-toggleable__label-arrow\">estimator: LinearSVC</label><div class=\"sk-toggleable__content\"><pre>LinearSVC(C=0.001, dual=False)</pre></div></div></div><div class=\"sk-serial\"><div class=\"sk-item\"><div class=\"sk-estimator sk-toggleable\"><input class=\"sk-toggleable__control sk-hidden--visually\" id=\"sk-estimator-id-3\" type=\"checkbox\" ><label for=\"sk-estimator-id-3\" class=\"sk-toggleable__label sk-toggleable__label-arrow\">LinearSVC</label><div class=\"sk-toggleable__content\"><pre>LinearSVC(C=0.001, dual=False)</pre></div></div></div></div></div></div></div></div></div></div>"
      ],
      "text/plain": [
       "SelectFromModel(estimator=LinearSVC(C=0.001, dual=False))"
      ]
     },
     "execution_count": 32,
     "metadata": {},
     "output_type": "execute_result"
    }
   ],
   "source": [
    "## Using SelectFromModel for Feature Selection\n",
    "\n",
    "method2 = SelectFromModel(estimator = l_svm)\n",
    "method2.fit(X,y)\n"
   ]
  },
  {
   "cell_type": "code",
   "execution_count": 33,
   "id": "a3b5048a-6628-4a6e-a54c-569e4748c4c6",
   "metadata": {},
   "outputs": [
    {
     "data": {
      "text/plain": [
       "array([False, False, False,  True, False, False, False,  True, False,\n",
       "       False, False,  True, False, False, False, False, False, False,\n",
       "        True,  True,  True, False, False, False,  True,  True, False,\n",
       "       False, False,  True,  True])"
      ]
     },
     "execution_count": 33,
     "metadata": {},
     "output_type": "execute_result"
    }
   ],
   "source": [
    "## Getting selected feature indices as True and False\n",
    "method2.get_support()\n"
   ]
  },
  {
   "cell_type": "code",
   "execution_count": 34,
   "id": "22e110b2-9fbe-4e43-af8a-7fe76b5eff1b",
   "metadata": {
    "tags": []
   },
   "outputs": [
    {
     "data": {
      "text/plain": [
       "Index(['campaign', 'job_blue_collar', 'job_retired', 'marital_married',\n",
       "       'marital_single', 'education_secondary', 'housing_yes', 'loan_yes',\n",
       "       'poutcome_success', 'poutcome_unknown'],\n",
       "      dtype='object')"
      ]
     },
     "execution_count": 34,
     "metadata": {},
     "output_type": "execute_result"
    }
   ],
   "source": [
    "selected_features_method2 = X.columns[method2.get_support(indices=True)]\n",
    "selected_features_method2"
   ]
  },
  {
   "cell_type": "code",
   "execution_count": 35,
   "id": "a567817e-3a18-4af0-bb62-b6e907521fd2",
   "metadata": {
    "tags": []
   },
   "outputs": [
    {
     "data": {
      "text/html": [
       "<div>\n",
       "<style scoped>\n",
       "    .dataframe tbody tr th:only-of-type {\n",
       "        vertical-align: middle;\n",
       "    }\n",
       "\n",
       "    .dataframe tbody tr th {\n",
       "        vertical-align: top;\n",
       "    }\n",
       "\n",
       "    .dataframe thead th {\n",
       "        text-align: right;\n",
       "    }\n",
       "</style>\n",
       "<table border=\"1\" class=\"dataframe\">\n",
       "  <thead>\n",
       "    <tr style=\"text-align: right;\">\n",
       "      <th></th>\n",
       "      <th>select_feature</th>\n",
       "    </tr>\n",
       "  </thead>\n",
       "  <tbody>\n",
       "    <tr>\n",
       "      <th>Unnamed: 0</th>\n",
       "      <td>False</td>\n",
       "    </tr>\n",
       "    <tr>\n",
       "      <th>age</th>\n",
       "      <td>False</td>\n",
       "    </tr>\n",
       "    <tr>\n",
       "      <th>balance</th>\n",
       "      <td>False</td>\n",
       "    </tr>\n",
       "    <tr>\n",
       "      <th>campaign</th>\n",
       "      <td>True</td>\n",
       "    </tr>\n",
       "    <tr>\n",
       "      <th>pdays</th>\n",
       "      <td>False</td>\n",
       "    </tr>\n",
       "    <tr>\n",
       "      <th>previous</th>\n",
       "      <td>False</td>\n",
       "    </tr>\n",
       "    <tr>\n",
       "      <th>last_contact</th>\n",
       "      <td>False</td>\n",
       "    </tr>\n",
       "    <tr>\n",
       "      <th>job_blue_collar</th>\n",
       "      <td>True</td>\n",
       "    </tr>\n",
       "    <tr>\n",
       "      <th>job_entrepreneur</th>\n",
       "      <td>False</td>\n",
       "    </tr>\n",
       "    <tr>\n",
       "      <th>job_housemaid</th>\n",
       "      <td>False</td>\n",
       "    </tr>\n",
       "    <tr>\n",
       "      <th>job_management</th>\n",
       "      <td>False</td>\n",
       "    </tr>\n",
       "    <tr>\n",
       "      <th>job_retired</th>\n",
       "      <td>True</td>\n",
       "    </tr>\n",
       "    <tr>\n",
       "      <th>job_self_employed</th>\n",
       "      <td>False</td>\n",
       "    </tr>\n",
       "    <tr>\n",
       "      <th>job_services</th>\n",
       "      <td>False</td>\n",
       "    </tr>\n",
       "    <tr>\n",
       "      <th>job_student</th>\n",
       "      <td>False</td>\n",
       "    </tr>\n",
       "    <tr>\n",
       "      <th>job_technician</th>\n",
       "      <td>False</td>\n",
       "    </tr>\n",
       "    <tr>\n",
       "      <th>job_unemployed</th>\n",
       "      <td>False</td>\n",
       "    </tr>\n",
       "    <tr>\n",
       "      <th>job_unknown</th>\n",
       "      <td>False</td>\n",
       "    </tr>\n",
       "    <tr>\n",
       "      <th>marital_married</th>\n",
       "      <td>True</td>\n",
       "    </tr>\n",
       "    <tr>\n",
       "      <th>marital_single</th>\n",
       "      <td>True</td>\n",
       "    </tr>\n",
       "    <tr>\n",
       "      <th>education_secondary</th>\n",
       "      <td>True</td>\n",
       "    </tr>\n",
       "    <tr>\n",
       "      <th>education_tertiary</th>\n",
       "      <td>False</td>\n",
       "    </tr>\n",
       "    <tr>\n",
       "      <th>education_unknown</th>\n",
       "      <td>False</td>\n",
       "    </tr>\n",
       "    <tr>\n",
       "      <th>default_yes</th>\n",
       "      <td>False</td>\n",
       "    </tr>\n",
       "    <tr>\n",
       "      <th>housing_yes</th>\n",
       "      <td>True</td>\n",
       "    </tr>\n",
       "    <tr>\n",
       "      <th>loan_yes</th>\n",
       "      <td>True</td>\n",
       "    </tr>\n",
       "    <tr>\n",
       "      <th>contact_telephone</th>\n",
       "      <td>False</td>\n",
       "    </tr>\n",
       "    <tr>\n",
       "      <th>contact_unknown</th>\n",
       "      <td>False</td>\n",
       "    </tr>\n",
       "    <tr>\n",
       "      <th>poutcome_other</th>\n",
       "      <td>False</td>\n",
       "    </tr>\n",
       "    <tr>\n",
       "      <th>poutcome_success</th>\n",
       "      <td>True</td>\n",
       "    </tr>\n",
       "    <tr>\n",
       "      <th>poutcome_unknown</th>\n",
       "      <td>True</td>\n",
       "    </tr>\n",
       "  </tbody>\n",
       "</table>\n",
       "</div>"
      ],
      "text/plain": [
       "                     select_feature\n",
       "Unnamed: 0                    False\n",
       "age                           False\n",
       "balance                       False\n",
       "campaign                       True\n",
       "pdays                         False\n",
       "previous                      False\n",
       "last_contact                  False\n",
       "job_blue_collar                True\n",
       "job_entrepreneur              False\n",
       "job_housemaid                 False\n",
       "job_management                False\n",
       "job_retired                    True\n",
       "job_self_employed             False\n",
       "job_services                  False\n",
       "job_student                   False\n",
       "job_technician                False\n",
       "job_unemployed                False\n",
       "job_unknown                   False\n",
       "marital_married                True\n",
       "marital_single                 True\n",
       "education_secondary            True\n",
       "education_tertiary            False\n",
       "education_unknown             False\n",
       "default_yes                   False\n",
       "housing_yes                    True\n",
       "loan_yes                       True\n",
       "contact_telephone             False\n",
       "contact_unknown               False\n",
       "poutcome_other                False\n",
       "poutcome_success               True\n",
       "poutcome_unknown               True"
      ]
     },
     "execution_count": 35,
     "metadata": {},
     "output_type": "execute_result"
    }
   ],
   "source": [
    "## Show feature selection result\n",
    "\n",
    "pd.DataFrame({'select_feature': method2.get_support()}, index=X.columns)"
   ]
  },
  {
   "cell_type": "code",
   "execution_count": 36,
   "id": "9f2b955e-cc66-42c9-aacb-28e257e60be3",
   "metadata": {
    "tags": []
   },
   "outputs": [
    {
     "data": {
      "text/plain": [
       "0.016128157163667337"
      ]
     },
     "execution_count": 36,
     "metadata": {},
     "output_type": "execute_result"
    }
   ],
   "source": [
    "## checking of the threshold value\n",
    "method2.threshold_"
   ]
  },
  {
   "cell_type": "code",
   "execution_count": 37,
   "id": "9df604a0-f9d6-41cc-a62b-91de4f900438",
   "metadata": {
    "tags": []
   },
   "outputs": [
    {
     "name": "stdout",
     "output_type": "stream",
     "text": [
      "(9000, 10)\n"
     ]
    },
    {
     "data": {
      "text/html": [
       "<div>\n",
       "<style scoped>\n",
       "    .dataframe tbody tr th:only-of-type {\n",
       "        vertical-align: middle;\n",
       "    }\n",
       "\n",
       "    .dataframe tbody tr th {\n",
       "        vertical-align: top;\n",
       "    }\n",
       "\n",
       "    .dataframe thead th {\n",
       "        text-align: right;\n",
       "    }\n",
       "</style>\n",
       "<table border=\"1\" class=\"dataframe\">\n",
       "  <thead>\n",
       "    <tr style=\"text-align: right;\">\n",
       "      <th></th>\n",
       "      <th>campaign</th>\n",
       "      <th>job_blue_collar</th>\n",
       "      <th>job_retired</th>\n",
       "      <th>marital_married</th>\n",
       "      <th>marital_single</th>\n",
       "      <th>education_secondary</th>\n",
       "      <th>housing_yes</th>\n",
       "      <th>loan_yes</th>\n",
       "      <th>poutcome_success</th>\n",
       "      <th>poutcome_unknown</th>\n",
       "    </tr>\n",
       "  </thead>\n",
       "  <tbody>\n",
       "    <tr>\n",
       "      <th>0</th>\n",
       "      <td>1</td>\n",
       "      <td>0</td>\n",
       "      <td>0</td>\n",
       "      <td>1</td>\n",
       "      <td>0</td>\n",
       "      <td>0</td>\n",
       "      <td>1</td>\n",
       "      <td>0</td>\n",
       "      <td>0</td>\n",
       "      <td>1</td>\n",
       "    </tr>\n",
       "    <tr>\n",
       "      <th>1</th>\n",
       "      <td>1</td>\n",
       "      <td>0</td>\n",
       "      <td>0</td>\n",
       "      <td>1</td>\n",
       "      <td>0</td>\n",
       "      <td>1</td>\n",
       "      <td>1</td>\n",
       "      <td>1</td>\n",
       "      <td>0</td>\n",
       "      <td>1</td>\n",
       "    </tr>\n",
       "    <tr>\n",
       "      <th>2</th>\n",
       "      <td>1</td>\n",
       "      <td>0</td>\n",
       "      <td>0</td>\n",
       "      <td>0</td>\n",
       "      <td>1</td>\n",
       "      <td>1</td>\n",
       "      <td>1</td>\n",
       "      <td>0</td>\n",
       "      <td>0</td>\n",
       "      <td>1</td>\n",
       "    </tr>\n",
       "    <tr>\n",
       "      <th>3</th>\n",
       "      <td>1</td>\n",
       "      <td>0</td>\n",
       "      <td>0</td>\n",
       "      <td>1</td>\n",
       "      <td>0</td>\n",
       "      <td>1</td>\n",
       "      <td>1</td>\n",
       "      <td>0</td>\n",
       "      <td>0</td>\n",
       "      <td>1</td>\n",
       "    </tr>\n",
       "    <tr>\n",
       "      <th>4</th>\n",
       "      <td>1</td>\n",
       "      <td>1</td>\n",
       "      <td>0</td>\n",
       "      <td>1</td>\n",
       "      <td>0</td>\n",
       "      <td>0</td>\n",
       "      <td>1</td>\n",
       "      <td>0</td>\n",
       "      <td>0</td>\n",
       "      <td>1</td>\n",
       "    </tr>\n",
       "  </tbody>\n",
       "</table>\n",
       "</div>"
      ],
      "text/plain": [
       "   campaign  job_blue_collar  job_retired  marital_married  marital_single  \\\n",
       "0         1                0            0                1               0   \n",
       "1         1                0            0                1               0   \n",
       "2         1                0            0                0               1   \n",
       "3         1                0            0                1               0   \n",
       "4         1                1            0                1               0   \n",
       "\n",
       "   education_secondary  housing_yes  loan_yes  poutcome_success  \\\n",
       "0                    0            1         0                 0   \n",
       "1                    1            1         1                 0   \n",
       "2                    1            1         0                 0   \n",
       "3                    1            1         0                 0   \n",
       "4                    0            1         0                 0   \n",
       "\n",
       "   poutcome_unknown  \n",
       "0                 1  \n",
       "1                 1  \n",
       "2                 1  \n",
       "3                 1  \n",
       "4                 1  "
      ]
     },
     "execution_count": 37,
     "metadata": {},
     "output_type": "execute_result"
    }
   ],
   "source": [
    "## checking the selected features\n",
    "X_2 = X.iloc[:,method2.get_support()]\n",
    "print(X_2.shape)\n",
    "X_2.head()"
   ]
  },
  {
   "cell_type": "markdown",
   "id": "03b1276c-db6b-41ca-85c4-6dbb003651ed",
   "metadata": {
    "tags": []
   },
   "source": [
    "### Method 3: SelectKBest with mutual_info_classif"
   ]
  },
  {
   "cell_type": "markdown",
   "id": "868c924e-0add-4fb0-92fd-e33c30113e2a",
   "metadata": {},
   "source": [
    " Bu yöntem, belirli bir skorlama fonksiyonunu kullanarak özellikleri değerlendirir ve en iyi k özelliği seçer.\n",
    "SelectFromModel ve SelectKBest farklı skorlama stratejileri kullanır ve veri setine bağlı olarak hangi yöntemin daha iyi performans gösterdiği değişebilir. \n",
    "\n",
    "mutual_info_classif = mutual_info_classif kullanılmıştır. Bu skorlama fonksiyonu, özelliklerin sınıflar arasındaki karşılıklı bilgiyi ölçer."
   ]
  },
  {
   "cell_type": "code",
   "execution_count": 38,
   "id": "6cd2152d-c591-402e-8a55-2a31b3ce58ed",
   "metadata": {},
   "outputs": [
    {
     "data": {
      "text/html": [
       "<div>\n",
       "<style scoped>\n",
       "    .dataframe tbody tr th:only-of-type {\n",
       "        vertical-align: middle;\n",
       "    }\n",
       "\n",
       "    .dataframe tbody tr th {\n",
       "        vertical-align: top;\n",
       "    }\n",
       "\n",
       "    .dataframe thead th {\n",
       "        text-align: right;\n",
       "    }\n",
       "</style>\n",
       "<table border=\"1\" class=\"dataframe\">\n",
       "  <thead>\n",
       "    <tr style=\"text-align: right;\">\n",
       "      <th></th>\n",
       "      <th>select_feature</th>\n",
       "    </tr>\n",
       "  </thead>\n",
       "  <tbody>\n",
       "    <tr>\n",
       "      <th>Unnamed: 0</th>\n",
       "      <td>True</td>\n",
       "    </tr>\n",
       "    <tr>\n",
       "      <th>age</th>\n",
       "      <td>True</td>\n",
       "    </tr>\n",
       "    <tr>\n",
       "      <th>balance</th>\n",
       "      <td>False</td>\n",
       "    </tr>\n",
       "    <tr>\n",
       "      <th>campaign</th>\n",
       "      <td>True</td>\n",
       "    </tr>\n",
       "    <tr>\n",
       "      <th>pdays</th>\n",
       "      <td>True</td>\n",
       "    </tr>\n",
       "    <tr>\n",
       "      <th>previous</th>\n",
       "      <td>False</td>\n",
       "    </tr>\n",
       "    <tr>\n",
       "      <th>last_contact</th>\n",
       "      <td>True</td>\n",
       "    </tr>\n",
       "    <tr>\n",
       "      <th>job_blue_collar</th>\n",
       "      <td>False</td>\n",
       "    </tr>\n",
       "    <tr>\n",
       "      <th>job_entrepreneur</th>\n",
       "      <td>False</td>\n",
       "    </tr>\n",
       "    <tr>\n",
       "      <th>job_housemaid</th>\n",
       "      <td>False</td>\n",
       "    </tr>\n",
       "    <tr>\n",
       "      <th>job_management</th>\n",
       "      <td>False</td>\n",
       "    </tr>\n",
       "    <tr>\n",
       "      <th>job_retired</th>\n",
       "      <td>False</td>\n",
       "    </tr>\n",
       "    <tr>\n",
       "      <th>job_self_employed</th>\n",
       "      <td>False</td>\n",
       "    </tr>\n",
       "    <tr>\n",
       "      <th>job_services</th>\n",
       "      <td>False</td>\n",
       "    </tr>\n",
       "    <tr>\n",
       "      <th>job_student</th>\n",
       "      <td>False</td>\n",
       "    </tr>\n",
       "    <tr>\n",
       "      <th>job_technician</th>\n",
       "      <td>False</td>\n",
       "    </tr>\n",
       "    <tr>\n",
       "      <th>job_unemployed</th>\n",
       "      <td>False</td>\n",
       "    </tr>\n",
       "    <tr>\n",
       "      <th>job_unknown</th>\n",
       "      <td>False</td>\n",
       "    </tr>\n",
       "    <tr>\n",
       "      <th>marital_married</th>\n",
       "      <td>False</td>\n",
       "    </tr>\n",
       "    <tr>\n",
       "      <th>marital_single</th>\n",
       "      <td>False</td>\n",
       "    </tr>\n",
       "    <tr>\n",
       "      <th>education_secondary</th>\n",
       "      <td>False</td>\n",
       "    </tr>\n",
       "    <tr>\n",
       "      <th>education_tertiary</th>\n",
       "      <td>False</td>\n",
       "    </tr>\n",
       "    <tr>\n",
       "      <th>education_unknown</th>\n",
       "      <td>False</td>\n",
       "    </tr>\n",
       "    <tr>\n",
       "      <th>default_yes</th>\n",
       "      <td>False</td>\n",
       "    </tr>\n",
       "    <tr>\n",
       "      <th>housing_yes</th>\n",
       "      <td>True</td>\n",
       "    </tr>\n",
       "    <tr>\n",
       "      <th>loan_yes</th>\n",
       "      <td>False</td>\n",
       "    </tr>\n",
       "    <tr>\n",
       "      <th>contact_telephone</th>\n",
       "      <td>False</td>\n",
       "    </tr>\n",
       "    <tr>\n",
       "      <th>contact_unknown</th>\n",
       "      <td>True</td>\n",
       "    </tr>\n",
       "    <tr>\n",
       "      <th>poutcome_other</th>\n",
       "      <td>True</td>\n",
       "    </tr>\n",
       "    <tr>\n",
       "      <th>poutcome_success</th>\n",
       "      <td>True</td>\n",
       "    </tr>\n",
       "    <tr>\n",
       "      <th>poutcome_unknown</th>\n",
       "      <td>True</td>\n",
       "    </tr>\n",
       "  </tbody>\n",
       "</table>\n",
       "</div>"
      ],
      "text/plain": [
       "                     select_feature\n",
       "Unnamed: 0                     True\n",
       "age                            True\n",
       "balance                       False\n",
       "campaign                       True\n",
       "pdays                          True\n",
       "previous                      False\n",
       "last_contact                   True\n",
       "job_blue_collar               False\n",
       "job_entrepreneur              False\n",
       "job_housemaid                 False\n",
       "job_management                False\n",
       "job_retired                   False\n",
       "job_self_employed             False\n",
       "job_services                  False\n",
       "job_student                   False\n",
       "job_technician                False\n",
       "job_unemployed                False\n",
       "job_unknown                   False\n",
       "marital_married               False\n",
       "marital_single                False\n",
       "education_secondary           False\n",
       "education_tertiary            False\n",
       "education_unknown             False\n",
       "default_yes                   False\n",
       "housing_yes                    True\n",
       "loan_yes                      False\n",
       "contact_telephone             False\n",
       "contact_unknown                True\n",
       "poutcome_other                 True\n",
       "poutcome_success               True\n",
       "poutcome_unknown               True"
      ]
     },
     "execution_count": 38,
     "metadata": {},
     "output_type": "execute_result"
    }
   ],
   "source": [
    "#Import libraries\n",
    "from sklearn.feature_selection import SelectKBest, mutual_info_classif\n",
    "\n",
    "#Feature selection using SelectKBest with mutual_info_classif\n",
    "method3 = SelectKBest(score_func=mutual_info_classif, k=10) ## the best 10\n",
    "method3.fit(X, y)\n",
    "\n",
    "# Get selected feature indices\n",
    "method3.get_support(indices=True)\n",
    "\n",
    "#show feature selection result\n",
    "pd.DataFrame({'select_feature': method3.get_support()}, index=X.columns)"
   ]
  },
  {
   "cell_type": "code",
   "execution_count": 39,
   "id": "9b745501-bc38-4fd6-8df5-dec5a7f952ce",
   "metadata": {},
   "outputs": [
    {
     "name": "stdout",
     "output_type": "stream",
     "text": [
      "(9000, 10)\n"
     ]
    },
    {
     "data": {
      "text/html": [
       "<div>\n",
       "<style scoped>\n",
       "    .dataframe tbody tr th:only-of-type {\n",
       "        vertical-align: middle;\n",
       "    }\n",
       "\n",
       "    .dataframe tbody tr th {\n",
       "        vertical-align: top;\n",
       "    }\n",
       "\n",
       "    .dataframe thead th {\n",
       "        text-align: right;\n",
       "    }\n",
       "</style>\n",
       "<table border=\"1\" class=\"dataframe\">\n",
       "  <thead>\n",
       "    <tr style=\"text-align: right;\">\n",
       "      <th></th>\n",
       "      <th>Unnamed: 0</th>\n",
       "      <th>age</th>\n",
       "      <th>campaign</th>\n",
       "      <th>pdays</th>\n",
       "      <th>last_contact</th>\n",
       "      <th>housing_yes</th>\n",
       "      <th>contact_unknown</th>\n",
       "      <th>poutcome_other</th>\n",
       "      <th>poutcome_success</th>\n",
       "      <th>poutcome_unknown</th>\n",
       "    </tr>\n",
       "  </thead>\n",
       "  <tbody>\n",
       "    <tr>\n",
       "      <th>0</th>\n",
       "      <td>0</td>\n",
       "      <td>58</td>\n",
       "      <td>1</td>\n",
       "      <td>-1</td>\n",
       "      <td>197</td>\n",
       "      <td>1</td>\n",
       "      <td>1</td>\n",
       "      <td>0</td>\n",
       "      <td>0</td>\n",
       "      <td>1</td>\n",
       "    </tr>\n",
       "    <tr>\n",
       "      <th>1</th>\n",
       "      <td>2</td>\n",
       "      <td>33</td>\n",
       "      <td>1</td>\n",
       "      <td>-1</td>\n",
       "      <td>197</td>\n",
       "      <td>1</td>\n",
       "      <td>1</td>\n",
       "      <td>0</td>\n",
       "      <td>0</td>\n",
       "      <td>1</td>\n",
       "    </tr>\n",
       "    <tr>\n",
       "      <th>2</th>\n",
       "      <td>11</td>\n",
       "      <td>29</td>\n",
       "      <td>1</td>\n",
       "      <td>-1</td>\n",
       "      <td>197</td>\n",
       "      <td>1</td>\n",
       "      <td>1</td>\n",
       "      <td>0</td>\n",
       "      <td>0</td>\n",
       "      <td>1</td>\n",
       "    </tr>\n",
       "    <tr>\n",
       "      <th>3</th>\n",
       "      <td>12</td>\n",
       "      <td>53</td>\n",
       "      <td>1</td>\n",
       "      <td>-1</td>\n",
       "      <td>197</td>\n",
       "      <td>1</td>\n",
       "      <td>1</td>\n",
       "      <td>0</td>\n",
       "      <td>0</td>\n",
       "      <td>1</td>\n",
       "    </tr>\n",
       "    <tr>\n",
       "      <th>4</th>\n",
       "      <td>17</td>\n",
       "      <td>57</td>\n",
       "      <td>1</td>\n",
       "      <td>-1</td>\n",
       "      <td>197</td>\n",
       "      <td>1</td>\n",
       "      <td>1</td>\n",
       "      <td>0</td>\n",
       "      <td>0</td>\n",
       "      <td>1</td>\n",
       "    </tr>\n",
       "  </tbody>\n",
       "</table>\n",
       "</div>"
      ],
      "text/plain": [
       "   Unnamed: 0  age  campaign  pdays  last_contact  housing_yes  \\\n",
       "0           0   58         1     -1           197            1   \n",
       "1           2   33         1     -1           197            1   \n",
       "2          11   29         1     -1           197            1   \n",
       "3          12   53         1     -1           197            1   \n",
       "4          17   57         1     -1           197            1   \n",
       "\n",
       "   contact_unknown  poutcome_other  poutcome_success  poutcome_unknown  \n",
       "0                1               0                 0                 1  \n",
       "1                1               0                 0                 1  \n",
       "2                1               0                 0                 1  \n",
       "3                1               0                 0                 1  \n",
       "4                1               0                 0                 1  "
      ]
     },
     "execution_count": 39,
     "metadata": {},
     "output_type": "execute_result"
    }
   ],
   "source": [
    "X_3 = X.iloc[:,method3.get_support()]\n",
    "print(X_3.shape)\n",
    "X_3.head()"
   ]
  },
  {
   "cell_type": "code",
   "execution_count": 40,
   "id": "8c5f8575-606f-4422-89db-364d52b86d5f",
   "metadata": {
    "tags": []
   },
   "outputs": [
    {
     "name": "stdout",
     "output_type": "stream",
     "text": [
      "Number of features selected in the logistic regression model:  10\n",
      "Number of features selected in the linear SVM model:  10\n",
      "Number of features selected in the SelectKBest model:  10\n"
     ]
    }
   ],
   "source": [
    "#Comparing the number of features selected between the 3 methods\n",
    "\n",
    "#Get the number of features selected per method, it is counting of the trues'\n",
    "method1_selected_features = np.count_nonzero(method1.get_support())\n",
    "method2_selected_features = np.count_nonzero(method2.get_support())\n",
    "method3_selected_features = np.count_nonzero(method3.get_support())\n",
    "\n",
    "#Display and compare\n",
    "print(\"Number of features selected in the logistic regression model: \", method1_selected_features)\n",
    "print(\"Number of features selected in the linear SVM model: \", method2_selected_features)\n",
    "print(\"Number of features selected in the SelectKBest model: \", method3_selected_features)"
   ]
  },
  {
   "cell_type": "markdown",
   "id": "3182506c-e8ae-4f8d-9fef-b5c9dd237433",
   "metadata": {
    "tags": []
   },
   "source": [
    "### We select Method 1- LogisticRegression because it has the first method with the lowest number of features."
   ]
  },
  {
   "cell_type": "code",
   "execution_count": 41,
   "id": "61f0ab91-437a-40c5-8a99-0fd06deaf6ec",
   "metadata": {
    "tags": []
   },
   "outputs": [
    {
     "data": {
      "text/html": [
       "<div>\n",
       "<style scoped>\n",
       "    .dataframe tbody tr th:only-of-type {\n",
       "        vertical-align: middle;\n",
       "    }\n",
       "\n",
       "    .dataframe tbody tr th {\n",
       "        vertical-align: top;\n",
       "    }\n",
       "\n",
       "    .dataframe thead th {\n",
       "        text-align: right;\n",
       "    }\n",
       "</style>\n",
       "<table border=\"1\" class=\"dataframe\">\n",
       "  <thead>\n",
       "    <tr style=\"text-align: right;\">\n",
       "      <th></th>\n",
       "      <th>Selected Features</th>\n",
       "    </tr>\n",
       "  </thead>\n",
       "  <tbody>\n",
       "    <tr>\n",
       "      <th>0</th>\n",
       "      <td>age</td>\n",
       "    </tr>\n",
       "    <tr>\n",
       "      <th>1</th>\n",
       "      <td>campaign</td>\n",
       "    </tr>\n",
       "    <tr>\n",
       "      <th>2</th>\n",
       "      <td>previous</td>\n",
       "    </tr>\n",
       "    <tr>\n",
       "      <th>3</th>\n",
       "      <td>job_retired</td>\n",
       "    </tr>\n",
       "    <tr>\n",
       "      <th>4</th>\n",
       "      <td>marital_single</td>\n",
       "    </tr>\n",
       "    <tr>\n",
       "      <th>5</th>\n",
       "      <td>education_secondary</td>\n",
       "    </tr>\n",
       "    <tr>\n",
       "      <th>6</th>\n",
       "      <td>housing_yes</td>\n",
       "    </tr>\n",
       "    <tr>\n",
       "      <th>7</th>\n",
       "      <td>loan_yes</td>\n",
       "    </tr>\n",
       "    <tr>\n",
       "      <th>8</th>\n",
       "      <td>poutcome_success</td>\n",
       "    </tr>\n",
       "    <tr>\n",
       "      <th>9</th>\n",
       "      <td>poutcome_unknown</td>\n",
       "    </tr>\n",
       "  </tbody>\n",
       "</table>\n",
       "</div>"
      ],
      "text/plain": [
       "     Selected Features\n",
       "0                  age\n",
       "1             campaign\n",
       "2             previous\n",
       "3          job_retired\n",
       "4       marital_single\n",
       "5  education_secondary\n",
       "6          housing_yes\n",
       "7             loan_yes\n",
       "8     poutcome_success\n",
       "9     poutcome_unknown"
      ]
     },
     "execution_count": 41,
     "metadata": {},
     "output_type": "execute_result"
    }
   ],
   "source": [
    "# Get the selected feature indices  () yani 0, 6, 15... diye hangi columnlar alindiysa onun sira numaralarini yazar\n",
    "selected_feature_indices = method1.get_support(indices=True)\n",
    "\n",
    "# Get the column names of selected features\n",
    "selected_feature_names = X.columns[selected_feature_indices]\n",
    "\n",
    "# Create a DataFrame with selected feature names\n",
    "selected_features_df = pd.DataFrame({'Selected Features': selected_feature_names})\n",
    "\n",
    "selected_features_df "
   ]
  },
  {
   "cell_type": "code",
   "execution_count": 42,
   "id": "71d057bb-2633-4450-afd3-520327dff212",
   "metadata": {
    "tags": []
   },
   "outputs": [],
   "source": [
    "### saving the df to a CSV file\n",
    "\n",
    "selected_features_df.to_csv('feature1.csv', index = False)"
   ]
  },
  {
   "cell_type": "markdown",
   "id": "46ba6dd3-0b25-4dc5-aa48-d871b68b69a8",
   "metadata": {},
   "source": [
    "### Using of the robust scaler to scale the feature selected."
   ]
  },
  {
   "cell_type": "markdown",
   "id": "6fb92388-e2e1-4c28-9ff8-4f105eaa7b2b",
   "metadata": {},
   "source": [
    "Pipeline, sıralı bir dizi işlemi birleştirmek ve bir araya getirmek için kullanılır. Bu işlemler, veri işleme sürecinde sıralı olarak uygulanır."
   ]
  },
  {
   "cell_type": "code",
   "execution_count": 43,
   "id": "ff5fba2e-67c7-4819-b857-7890271d1b0f",
   "metadata": {
    "tags": []
   },
   "outputs": [],
   "source": [
    "## robust scaler_value = OrginalValue-Median / IQR       (IQR: the interval between the third and first quartile in a data set )\n",
    "\n",
    "select_scale_pipeline = Pipeline([\n",
    "    ('feature_selection', method1),\n",
    "     ('scaler', RobustScaler())\n",
    "])\n"
   ]
  },
  {
   "cell_type": "markdown",
   "id": "c87bcc8c-3c0c-4264-bf70-d7126be9aa1e",
   "metadata": {},
   "source": [
    "Sonuç olarak, X_final değişkenine, hem özellik seçimi hem de ölçekleme işlemlerinden geçirilmiş veri seti atanır."
   ]
  },
  {
   "cell_type": "code",
   "execution_count": 44,
   "id": "0828f4ad-66a4-4440-a558-a8128db94db5",
   "metadata": {
    "tags": []
   },
   "outputs": [],
   "source": [
    "X_final = select_scale_pipeline.fit_transform(X,y)"
   ]
  },
  {
   "cell_type": "code",
   "execution_count": 45,
   "id": "5becffb7-337a-4255-87f5-54970eea3927",
   "metadata": {
    "tags": []
   },
   "outputs": [
    {
     "name": "stdout",
     "output_type": "stream",
     "text": [
      "(9000, 10)\n"
     ]
    }
   ],
   "source": [
    "print(X_final.shape)"
   ]
  },
  {
   "cell_type": "code",
   "execution_count": 46,
   "id": "0aec3aa5-321a-4a6a-9895-b09cd0d4d634",
   "metadata": {
    "tags": []
   },
   "outputs": [
    {
     "data": {
      "text/html": [
       "<div>\n",
       "<style scoped>\n",
       "    .dataframe tbody tr th:only-of-type {\n",
       "        vertical-align: middle;\n",
       "    }\n",
       "\n",
       "    .dataframe tbody tr th {\n",
       "        vertical-align: top;\n",
       "    }\n",
       "\n",
       "    .dataframe thead th {\n",
       "        text-align: right;\n",
       "    }\n",
       "</style>\n",
       "<table border=\"1\" class=\"dataframe\">\n",
       "  <thead>\n",
       "    <tr style=\"text-align: right;\">\n",
       "      <th></th>\n",
       "      <th>age</th>\n",
       "      <th>campaign</th>\n",
       "      <th>previous</th>\n",
       "      <th>job_retired</th>\n",
       "      <th>marital_single</th>\n",
       "      <th>education_secondary</th>\n",
       "      <th>housing_yes</th>\n",
       "      <th>loan_yes</th>\n",
       "      <th>poutcome_success</th>\n",
       "      <th>poutcome_unknown</th>\n",
       "    </tr>\n",
       "  </thead>\n",
       "  <tbody>\n",
       "    <tr>\n",
       "      <th>0</th>\n",
       "      <td>1.266667</td>\n",
       "      <td>-0.5</td>\n",
       "      <td>0.0</td>\n",
       "      <td>0.0</td>\n",
       "      <td>0.0</td>\n",
       "      <td>-1.0</td>\n",
       "      <td>0.0</td>\n",
       "      <td>0.0</td>\n",
       "      <td>0.0</td>\n",
       "      <td>0.0</td>\n",
       "    </tr>\n",
       "    <tr>\n",
       "      <th>1</th>\n",
       "      <td>-0.400000</td>\n",
       "      <td>-0.5</td>\n",
       "      <td>0.0</td>\n",
       "      <td>0.0</td>\n",
       "      <td>0.0</td>\n",
       "      <td>0.0</td>\n",
       "      <td>0.0</td>\n",
       "      <td>1.0</td>\n",
       "      <td>0.0</td>\n",
       "      <td>0.0</td>\n",
       "    </tr>\n",
       "    <tr>\n",
       "      <th>2</th>\n",
       "      <td>-0.666667</td>\n",
       "      <td>-0.5</td>\n",
       "      <td>0.0</td>\n",
       "      <td>0.0</td>\n",
       "      <td>1.0</td>\n",
       "      <td>0.0</td>\n",
       "      <td>0.0</td>\n",
       "      <td>0.0</td>\n",
       "      <td>0.0</td>\n",
       "      <td>0.0</td>\n",
       "    </tr>\n",
       "    <tr>\n",
       "      <th>3</th>\n",
       "      <td>0.933333</td>\n",
       "      <td>-0.5</td>\n",
       "      <td>0.0</td>\n",
       "      <td>0.0</td>\n",
       "      <td>0.0</td>\n",
       "      <td>0.0</td>\n",
       "      <td>0.0</td>\n",
       "      <td>0.0</td>\n",
       "      <td>0.0</td>\n",
       "      <td>0.0</td>\n",
       "    </tr>\n",
       "    <tr>\n",
       "      <th>4</th>\n",
       "      <td>1.200000</td>\n",
       "      <td>-0.5</td>\n",
       "      <td>0.0</td>\n",
       "      <td>0.0</td>\n",
       "      <td>0.0</td>\n",
       "      <td>-1.0</td>\n",
       "      <td>0.0</td>\n",
       "      <td>0.0</td>\n",
       "      <td>0.0</td>\n",
       "      <td>0.0</td>\n",
       "    </tr>\n",
       "    <tr>\n",
       "      <th>...</th>\n",
       "      <td>...</td>\n",
       "      <td>...</td>\n",
       "      <td>...</td>\n",
       "      <td>...</td>\n",
       "      <td>...</td>\n",
       "      <td>...</td>\n",
       "      <td>...</td>\n",
       "      <td>...</td>\n",
       "      <td>...</td>\n",
       "      <td>...</td>\n",
       "    </tr>\n",
       "    <tr>\n",
       "      <th>8995</th>\n",
       "      <td>-0.333333</td>\n",
       "      <td>0.5</td>\n",
       "      <td>12.0</td>\n",
       "      <td>0.0</td>\n",
       "      <td>1.0</td>\n",
       "      <td>0.0</td>\n",
       "      <td>0.0</td>\n",
       "      <td>0.0</td>\n",
       "      <td>0.0</td>\n",
       "      <td>-1.0</td>\n",
       "    </tr>\n",
       "    <tr>\n",
       "      <th>8996</th>\n",
       "      <td>0.933333</td>\n",
       "      <td>-0.5</td>\n",
       "      <td>4.0</td>\n",
       "      <td>0.0</td>\n",
       "      <td>0.0</td>\n",
       "      <td>-1.0</td>\n",
       "      <td>-1.0</td>\n",
       "      <td>0.0</td>\n",
       "      <td>1.0</td>\n",
       "      <td>-1.0</td>\n",
       "    </tr>\n",
       "    <tr>\n",
       "      <th>8997</th>\n",
       "      <td>2.266667</td>\n",
       "      <td>-0.5</td>\n",
       "      <td>8.0</td>\n",
       "      <td>1.0</td>\n",
       "      <td>0.0</td>\n",
       "      <td>0.0</td>\n",
       "      <td>-1.0</td>\n",
       "      <td>0.0</td>\n",
       "      <td>0.0</td>\n",
       "      <td>-1.0</td>\n",
       "    </tr>\n",
       "    <tr>\n",
       "      <th>8998</th>\n",
       "      <td>0.800000</td>\n",
       "      <td>0.5</td>\n",
       "      <td>0.0</td>\n",
       "      <td>0.0</td>\n",
       "      <td>0.0</td>\n",
       "      <td>-1.0</td>\n",
       "      <td>-1.0</td>\n",
       "      <td>0.0</td>\n",
       "      <td>0.0</td>\n",
       "      <td>0.0</td>\n",
       "    </tr>\n",
       "    <tr>\n",
       "      <th>8999</th>\n",
       "      <td>2.133333</td>\n",
       "      <td>0.0</td>\n",
       "      <td>0.0</td>\n",
       "      <td>1.0</td>\n",
       "      <td>0.0</td>\n",
       "      <td>-1.0</td>\n",
       "      <td>-1.0</td>\n",
       "      <td>0.0</td>\n",
       "      <td>0.0</td>\n",
       "      <td>0.0</td>\n",
       "    </tr>\n",
       "  </tbody>\n",
       "</table>\n",
       "<p>9000 rows × 10 columns</p>\n",
       "</div>"
      ],
      "text/plain": [
       "           age  campaign  previous  job_retired  marital_single  \\\n",
       "0     1.266667      -0.5       0.0          0.0             0.0   \n",
       "1    -0.400000      -0.5       0.0          0.0             0.0   \n",
       "2    -0.666667      -0.5       0.0          0.0             1.0   \n",
       "3     0.933333      -0.5       0.0          0.0             0.0   \n",
       "4     1.200000      -0.5       0.0          0.0             0.0   \n",
       "...        ...       ...       ...          ...             ...   \n",
       "8995 -0.333333       0.5      12.0          0.0             1.0   \n",
       "8996  0.933333      -0.5       4.0          0.0             0.0   \n",
       "8997  2.266667      -0.5       8.0          1.0             0.0   \n",
       "8998  0.800000       0.5       0.0          0.0             0.0   \n",
       "8999  2.133333       0.0       0.0          1.0             0.0   \n",
       "\n",
       "      education_secondary  housing_yes  loan_yes  poutcome_success  \\\n",
       "0                    -1.0          0.0       0.0               0.0   \n",
       "1                     0.0          0.0       1.0               0.0   \n",
       "2                     0.0          0.0       0.0               0.0   \n",
       "3                     0.0          0.0       0.0               0.0   \n",
       "4                    -1.0          0.0       0.0               0.0   \n",
       "...                   ...          ...       ...               ...   \n",
       "8995                  0.0          0.0       0.0               0.0   \n",
       "8996                 -1.0         -1.0       0.0               1.0   \n",
       "8997                  0.0         -1.0       0.0               0.0   \n",
       "8998                 -1.0         -1.0       0.0               0.0   \n",
       "8999                 -1.0         -1.0       0.0               0.0   \n",
       "\n",
       "      poutcome_unknown  \n",
       "0                  0.0  \n",
       "1                  0.0  \n",
       "2                  0.0  \n",
       "3                  0.0  \n",
       "4                  0.0  \n",
       "...                ...  \n",
       "8995              -1.0  \n",
       "8996              -1.0  \n",
       "8997              -1.0  \n",
       "8998               0.0  \n",
       "8999               0.0  \n",
       "\n",
       "[9000 rows x 10 columns]"
      ]
     },
     "execution_count": 46,
     "metadata": {},
     "output_type": "execute_result"
    }
   ],
   "source": [
    "#Take a look at the X dataframe\n",
    "X_final_df = pd.DataFrame(X_final, columns=X.columns[selected_feature_indices]) \n",
    "X_final_df"
   ]
  },
  {
   "cell_type": "markdown",
   "id": "bc42c293-61be-4d33-b29b-d6ffedb5946e",
   "metadata": {
    "tags": []
   },
   "source": [
    "## 5. Classifier Modeling"
   ]
  },
  {
   "cell_type": "code",
   "execution_count": 47,
   "id": "b741f5aa-4a75-4dfd-860b-5eef3c560777",
   "metadata": {
    "tags": []
   },
   "outputs": [],
   "source": [
    "##libraries\n",
    "from sklearn.model_selection import cross_val_score\n",
    "from sklearn.naive_bayes import GaussianNB\n",
    "from sklearn.neighbors import KNeighborsClassifier\n",
    "from sklearn.tree import DecisionTreeClassifier\n",
    "from sklearn.ensemble import RandomForestClassifier\n",
    "from sklearn.model_selection import KFold\n"
   ]
  },
  {
   "cell_type": "code",
   "execution_count": 48,
   "id": "b2377b30-f32d-4ed5-87cc-c1d00dd3d96f",
   "metadata": {
    "tags": []
   },
   "outputs": [],
   "source": [
    "# Divide the dataset into training and test sets (75:25 ratio)\n",
    "\n",
    "X_train, X_test, y_train, y_test = train_test_split(X_final_df, y, test_size = 0.25, random_state = 42)  ## X_final_df is scaled features"
   ]
  },
  {
   "cell_type": "code",
   "execution_count": 49,
   "id": "7421b5ce-4693-416e-b799-fc46a0072f41",
   "metadata": {
    "tags": []
   },
   "outputs": [],
   "source": [
    "## creating pipeline for each classifier\n",
    "\n",
    "classifiers = {\n",
    "    'Naive Bayes': GaussianNB(),\n",
    "    'KNN': KNeighborsClassifier(),\n",
    "    'Decision Tree': DecisionTreeClassifier(max_depth=5),\n",
    "    'Random Forest': RandomForestClassifier(n_estimators=100, max_depth=5, random_state=42)\n",
    "}"
   ]
  },
  {
   "cell_type": "markdown",
   "id": "968fd2b7-bc7a-4e0d-a870-dd0573dbe9b1",
   "metadata": {
    "tags": []
   },
   "source": [
    "### Cross-Validation and Mean Scores"
   ]
  },
  {
   "cell_type": "markdown",
   "id": "2d49f8d1-4951-45b4-8f73-9c0ff660bbc4",
   "metadata": {},
   "source": [
    "Burada artik modelin performansini degerlendirmek istiyoruz !!"
   ]
  },
  {
   "cell_type": "code",
   "execution_count": 50,
   "id": "49e5dc0c-e1c2-4f67-83e5-21d242af358e",
   "metadata": {
    "tags": []
   },
   "outputs": [
    {
     "name": "stdout",
     "output_type": "stream",
     "text": [
      "Naive Bayes Mean Accuracy- First Try: 0.8604425007795886\n",
      "KNN Mean Accuracy- First Try: 0.88400012150344\n",
      "Decision Tree Mean Accuracy- First Try: 0.8949636999693783\n",
      "Random Forest Mean Accuracy- First Try: 0.8940748110024526\n"
     ]
    }
   ],
   "source": [
    "mean_score = {}\n",
    "\n",
    "k_fold = KFold(n_splits=4, shuffle=True, random_state=42) ## i choose 4\n",
    "\n",
    "for clf_name, clf in classifiers.items():\n",
    "    # Creating pipeline for each classifier\n",
    "    pipeline = Pipeline([('classifier', clf)])\n",
    "    cv_scores = cross_val_score(pipeline, X_train, y_train, cv=k_fold) # Using of cross-validation and applying only training sets\n",
    "    mean_score[clf_name] = cv_scores.mean() # Calculating mean cross-validation score\n",
    "    print(f'{clf_name} Mean Accuracy- First Try:', np.mean(cv_scores))    \n"
   ]
  },
  {
   "cell_type": "code",
   "execution_count": 51,
   "id": "387aba27-d916-4215-90b7-e9800d1ca724",
   "metadata": {
    "tags": []
   },
   "outputs": [
    {
     "name": "stdout",
     "output_type": "stream",
     "text": [
      "The best classifier is: Decision Tree with mean accuracy: 0.8949636999693783\n"
     ]
    }
   ],
   "source": [
    "best_classifier = max(mean_score, key=mean_score.get)\n",
    "print(f\"The best classifier is: {best_classifier} with mean accuracy: {mean_score[best_classifier]}\")"
   ]
  },
  {
   "cell_type": "code",
   "execution_count": 52,
   "id": "18a207c6-1c24-47d8-8281-919cfb2643c5",
   "metadata": {
    "tags": []
   },
   "outputs": [],
   "source": [
    "## Decision tree has the best mean accuarcy score from the training dataset because it has the biggest mean score with 0.8948"
   ]
  },
  {
   "cell_type": "markdown",
   "id": "0516050e-cfff-4db5-bbd8-51ee4872f0b7",
   "metadata": {
    "tags": []
   },
   "source": [
    "## 6. Classifier Model - The Second Try"
   ]
  },
  {
   "cell_type": "code",
   "execution_count": 54,
   "id": "41281574-7867-483a-8803-315707f8ee1b",
   "metadata": {
    "tags": []
   },
   "outputs": [
    {
     "data": {
      "text/plain": [
       "(9000, 7)"
      ]
     },
     "execution_count": 54,
     "metadata": {},
     "output_type": "execute_result"
    }
   ],
   "source": [
    "## checking of the features number\n",
    "\n",
    "X_4 = method4.transform(X)\n",
    "X_4.shape"
   ]
  },
  {
   "cell_type": "markdown",
   "id": "6244b82b-f876-410e-b8b6-b78eefeab02a",
   "metadata": {
    "tags": []
   },
   "source": [
    "### There are 7 features, these methods generates less features than logistic regression (which is selected in Part4-Feature Selection and Scaling).\n",
    "### While we have 10 features using logistic regression, we have 7 features using random forest scaler in the second try."
   ]
  },
  {
   "cell_type": "code",
   "execution_count": 55,
   "id": "a225f342-0fda-4ae7-9cf1-6c558cb2067a",
   "metadata": {
    "tags": []
   },
   "outputs": [
    {
     "name": "stdout",
     "output_type": "stream",
     "text": [
      "Number of Features using of Random Forest Classifier:  7\n"
     ]
    }
   ],
   "source": [
    "## we can also print the selected features number\n",
    "\n",
    "method4_selected_features = np.count_nonzero(method4.get_support())\n",
    "print(\"Number of Features using of Random Forest Classifier: \", method4_selected_features)\n",
    "\n"
   ]
  },
  {
   "cell_type": "code",
   "execution_count": 56,
   "id": "12ed0dd0-fedd-416f-91f6-77aa39dfe7e1",
   "metadata": {
    "tags": []
   },
   "outputs": [
    {
     "data": {
      "text/html": [
       "<div>\n",
       "<style scoped>\n",
       "    .dataframe tbody tr th:only-of-type {\n",
       "        vertical-align: middle;\n",
       "    }\n",
       "\n",
       "    .dataframe tbody tr th {\n",
       "        vertical-align: top;\n",
       "    }\n",
       "\n",
       "    .dataframe thead th {\n",
       "        text-align: right;\n",
       "    }\n",
       "</style>\n",
       "<table border=\"1\" class=\"dataframe\">\n",
       "  <thead>\n",
       "    <tr style=\"text-align: right;\">\n",
       "      <th></th>\n",
       "      <th>Selected Features</th>\n",
       "    </tr>\n",
       "  </thead>\n",
       "  <tbody>\n",
       "    <tr>\n",
       "      <th>0</th>\n",
       "      <td>Unnamed: 0</td>\n",
       "    </tr>\n",
       "    <tr>\n",
       "      <th>1</th>\n",
       "      <td>age</td>\n",
       "    </tr>\n",
       "    <tr>\n",
       "      <th>2</th>\n",
       "      <td>balance</td>\n",
       "    </tr>\n",
       "    <tr>\n",
       "      <th>3</th>\n",
       "      <td>pdays</td>\n",
       "    </tr>\n",
       "    <tr>\n",
       "      <th>4</th>\n",
       "      <td>last_contact</td>\n",
       "    </tr>\n",
       "    <tr>\n",
       "      <th>5</th>\n",
       "      <td>housing_yes</td>\n",
       "    </tr>\n",
       "    <tr>\n",
       "      <th>6</th>\n",
       "      <td>poutcome_success</td>\n",
       "    </tr>\n",
       "  </tbody>\n",
       "</table>\n",
       "</div>"
      ],
      "text/plain": [
       "  Selected Features\n",
       "0        Unnamed: 0\n",
       "1               age\n",
       "2           balance\n",
       "3             pdays\n",
       "4      last_contact\n",
       "5       housing_yes\n",
       "6  poutcome_success"
      ]
     },
     "execution_count": 56,
     "metadata": {},
     "output_type": "execute_result"
    }
   ],
   "source": [
    "## Getting the selected feature indices\n",
    "second_selected_features_indices = method4.get_support(indices=True)\n",
    "## Getting of the column names for selected features\n",
    "second_selected_features_names = X.columns[second_selected_features_indices]\n",
    "## creating of the df\n",
    "second_selected_df = pd.DataFrame({'Selected Features': second_selected_features_names})\n",
    "second_selected_df"
   ]
  },
  {
   "cell_type": "markdown",
   "id": "75c09612-24da-4a95-bbcf-ba5c3290ceb3",
   "metadata": {},
   "source": [
    "## Robust Scaling in The Second-Try"
   ]
  },
  {
   "cell_type": "code",
   "execution_count": 57,
   "id": "d05b0bc9-a26b-4e34-bf79-da28bc7026d2",
   "metadata": {
    "tags": []
   },
   "outputs": [],
   "source": [
    "select_scale_pipeline2 = Pipeline([\n",
    "    ('feature_selection2', method4),\n",
    "    ('scaler2', RobustScaler())\n",
    "])\n",
    "\n",
    "X_final_second = select_scale_pipeline2.fit_transform(X,y)"
   ]
  },
  {
   "cell_type": "code",
   "execution_count": 58,
   "id": "fe6e69f5-372f-4945-829a-590b09d1efa6",
   "metadata": {
    "tags": []
   },
   "outputs": [
    {
     "data": {
      "text/html": [
       "<div>\n",
       "<style scoped>\n",
       "    .dataframe tbody tr th:only-of-type {\n",
       "        vertical-align: middle;\n",
       "    }\n",
       "\n",
       "    .dataframe tbody tr th {\n",
       "        vertical-align: top;\n",
       "    }\n",
       "\n",
       "    .dataframe thead th {\n",
       "        text-align: right;\n",
       "    }\n",
       "</style>\n",
       "<table border=\"1\" class=\"dataframe\">\n",
       "  <thead>\n",
       "    <tr style=\"text-align: right;\">\n",
       "      <th></th>\n",
       "      <th>Unnamed: 0</th>\n",
       "      <th>age</th>\n",
       "      <th>balance</th>\n",
       "      <th>pdays</th>\n",
       "      <th>last_contact</th>\n",
       "      <th>housing_yes</th>\n",
       "      <th>poutcome_success</th>\n",
       "    </tr>\n",
       "  </thead>\n",
       "  <tbody>\n",
       "    <tr>\n",
       "      <th>0</th>\n",
       "      <td>-0.993908</td>\n",
       "      <td>1.266667</td>\n",
       "      <td>1.222162</td>\n",
       "      <td>0.0</td>\n",
       "      <td>0.348315</td>\n",
       "      <td>0.0</td>\n",
       "      <td>0.0</td>\n",
       "    </tr>\n",
       "    <tr>\n",
       "      <th>1</th>\n",
       "      <td>-0.993820</td>\n",
       "      <td>-0.400000</td>\n",
       "      <td>-0.323407</td>\n",
       "      <td>0.0</td>\n",
       "      <td>0.348315</td>\n",
       "      <td>0.0</td>\n",
       "      <td>0.0</td>\n",
       "    </tr>\n",
       "    <tr>\n",
       "      <th>2</th>\n",
       "      <td>-0.993423</td>\n",
       "      <td>-0.666667</td>\n",
       "      <td>-0.043313</td>\n",
       "      <td>0.0</td>\n",
       "      <td>0.348315</td>\n",
       "      <td>0.0</td>\n",
       "      <td>0.0</td>\n",
       "    </tr>\n",
       "    <tr>\n",
       "      <th>3</th>\n",
       "      <td>-0.993379</td>\n",
       "      <td>0.933333</td>\n",
       "      <td>-0.320520</td>\n",
       "      <td>0.0</td>\n",
       "      <td>0.348315</td>\n",
       "      <td>0.0</td>\n",
       "      <td>0.0</td>\n",
       "    </tr>\n",
       "    <tr>\n",
       "      <th>4</th>\n",
       "      <td>-0.993159</td>\n",
       "      <td>1.200000</td>\n",
       "      <td>-0.287313</td>\n",
       "      <td>0.0</td>\n",
       "      <td>0.348315</td>\n",
       "      <td>0.0</td>\n",
       "      <td>0.0</td>\n",
       "    </tr>\n",
       "    <tr>\n",
       "      <th>...</th>\n",
       "      <td>...</td>\n",
       "      <td>...</td>\n",
       "      <td>...</td>\n",
       "      <td>...</td>\n",
       "      <td>...</td>\n",
       "      <td>...</td>\n",
       "      <td>...</td>\n",
       "    </tr>\n",
       "    <tr>\n",
       "      <th>8995</th>\n",
       "      <td>0.997742</td>\n",
       "      <td>-0.333333</td>\n",
       "      <td>0.739939</td>\n",
       "      <td>531.0</td>\n",
       "      <td>-1.842697</td>\n",
       "      <td>0.0</td>\n",
       "      <td>0.0</td>\n",
       "    </tr>\n",
       "    <tr>\n",
       "      <th>8996</th>\n",
       "      <td>0.997830</td>\n",
       "      <td>0.933333</td>\n",
       "      <td>0.096012</td>\n",
       "      <td>185.0</td>\n",
       "      <td>-1.853933</td>\n",
       "      <td>-1.0</td>\n",
       "      <td>1.0</td>\n",
       "    </tr>\n",
       "    <tr>\n",
       "      <th>8997</th>\n",
       "      <td>0.997962</td>\n",
       "      <td>2.266667</td>\n",
       "      <td>1.732539</td>\n",
       "      <td>41.0</td>\n",
       "      <td>-1.853933</td>\n",
       "      <td>-1.0</td>\n",
       "      <td>0.0</td>\n",
       "    </tr>\n",
       "    <tr>\n",
       "      <th>8998</th>\n",
       "      <td>0.998050</td>\n",
       "      <td>0.800000</td>\n",
       "      <td>0.270709</td>\n",
       "      <td>0.0</td>\n",
       "      <td>-1.853933</td>\n",
       "      <td>-1.0</td>\n",
       "      <td>0.0</td>\n",
       "    </tr>\n",
       "    <tr>\n",
       "      <th>8999</th>\n",
       "      <td>0.998094</td>\n",
       "      <td>2.133333</td>\n",
       "      <td>0.923299</td>\n",
       "      <td>0.0</td>\n",
       "      <td>-1.853933</td>\n",
       "      <td>-1.0</td>\n",
       "      <td>0.0</td>\n",
       "    </tr>\n",
       "  </tbody>\n",
       "</table>\n",
       "<p>9000 rows × 7 columns</p>\n",
       "</div>"
      ],
      "text/plain": [
       "      Unnamed: 0       age   balance  pdays  last_contact  housing_yes  \\\n",
       "0      -0.993908  1.266667  1.222162    0.0      0.348315          0.0   \n",
       "1      -0.993820 -0.400000 -0.323407    0.0      0.348315          0.0   \n",
       "2      -0.993423 -0.666667 -0.043313    0.0      0.348315          0.0   \n",
       "3      -0.993379  0.933333 -0.320520    0.0      0.348315          0.0   \n",
       "4      -0.993159  1.200000 -0.287313    0.0      0.348315          0.0   \n",
       "...          ...       ...       ...    ...           ...          ...   \n",
       "8995    0.997742 -0.333333  0.739939  531.0     -1.842697          0.0   \n",
       "8996    0.997830  0.933333  0.096012  185.0     -1.853933         -1.0   \n",
       "8997    0.997962  2.266667  1.732539   41.0     -1.853933         -1.0   \n",
       "8998    0.998050  0.800000  0.270709    0.0     -1.853933         -1.0   \n",
       "8999    0.998094  2.133333  0.923299    0.0     -1.853933         -1.0   \n",
       "\n",
       "      poutcome_success  \n",
       "0                  0.0  \n",
       "1                  0.0  \n",
       "2                  0.0  \n",
       "3                  0.0  \n",
       "4                  0.0  \n",
       "...                ...  \n",
       "8995               0.0  \n",
       "8996               1.0  \n",
       "8997               0.0  \n",
       "8998               0.0  \n",
       "8999               0.0  \n",
       "\n",
       "[9000 rows x 7 columns]"
      ]
     },
     "execution_count": 58,
     "metadata": {},
     "output_type": "execute_result"
    }
   ],
   "source": [
    "## converting as a df\n",
    "\n",
    "X_final_second = pd.DataFrame(X_final_second, columns = X.columns[second_selected_features_indices])\n",
    "X_final_second ## this is with the robust scaled !!"
   ]
  },
  {
   "cell_type": "code",
   "execution_count": 59,
   "id": "f1597b66-c488-40b6-aa32-c5f71b1e95a4",
   "metadata": {
    "tags": []
   },
   "outputs": [],
   "source": [
    "## saving of the df features\n",
    "\n",
    "second_selected_df.to_csv('feature2.csv', index = False)"
   ]
  },
  {
   "cell_type": "markdown",
   "id": "d8c9b2b1-300d-487b-bc2d-ad822a842329",
   "metadata": {},
   "source": [
    "### Implementing All The Classifiers To The Second Try"
   ]
  },
  {
   "cell_type": "code",
   "execution_count": 60,
   "id": "b71864d1-eb3d-49f5-a96c-4a0f46fad7fa",
   "metadata": {
    "tags": []
   },
   "outputs": [],
   "source": [
    "X_train_second, X_test_second, y_train_second, y_test_second = train_test_split(X_final_second, y, test_size = 0.25, random_state = 42)  ## X_final_second is scaled features"
   ]
  },
  {
   "cell_type": "code",
   "execution_count": 61,
   "id": "7b25efb8-1e86-4a57-9e5b-cea2ed8b8c50",
   "metadata": {
    "tags": []
   },
   "outputs": [],
   "source": [
    "classifiers_second = {\n",
    "    'Naive Bayes': GaussianNB(),\n",
    "    'KNN': KNeighborsClassifier(),\n",
    "    'Decision Tree': DecisionTreeClassifier(max_depth=5),\n",
    "    'Random Forest': RandomForestClassifier(n_estimators=100, max_depth=5, random_state=42)\n",
    "}"
   ]
  },
  {
   "cell_type": "code",
   "execution_count": 62,
   "id": "0ab3d5e3-a804-4fcf-bf9c-2a130a885e55",
   "metadata": {
    "tags": []
   },
   "outputs": [
    {
     "name": "stdout",
     "output_type": "stream",
     "text": [
      "Naive Bayes Mean Cross-Validation Score - Second Try:  0.8880004291248662\n",
      "KNN Mean Cross-Validation Score - Second Try:  0.8757039122703023\n",
      "Decision Tree Mean Cross-Validation Score - Second Try:  0.8921484898456836\n",
      "Random Forest Mean Cross-Validation Score - Second Try:  0.894667140272561\n"
     ]
    }
   ],
   "source": [
    "from sklearn.pipeline import make_pipeline\n",
    "import numpy as np\n",
    "\n",
    "mean_score_second = {}\n",
    "k_fold_second = KFold(n_splits=4, shuffle=True, random_state=42) ## i choose 4\n",
    "\n",
    "for clf_name_second, clf_second in classifiers_second.items():\n",
    "    # Creating pipeline for each classifier\n",
    "    pipeline_second = Pipeline([('classifier2', clf_second)])\n",
    "    cv_scores_second = cross_val_score(pipeline_second, X_train_second, y_train_second, cv=k_fold_second) # Using of cross-validation and applying only training sets\n",
    "    mean_score_second[clf_name_second] = cv_scores_second.mean() # Calculating mean cross-validation score\n",
    "    print(f'{clf_name_second} Mean Cross-Validation Score - Second Try: ', np.mean(cv_scores_second)) # Print results\n",
    "    \n"
   ]
  },
  {
   "cell_type": "code",
   "execution_count": 63,
   "id": "ed1ca457-1b9c-463c-98a5-2c636a8b2953",
   "metadata": {
    "tags": []
   },
   "outputs": [
    {
     "name": "stdout",
     "output_type": "stream",
     "text": [
      "The best classifier is: Random Forest with mean accuracy: 0.894667140272561\n"
     ]
    }
   ],
   "source": [
    "best_classifier_second = max(mean_score_second, key=mean_score_second.get)\n",
    "print(f\"The best classifier is: {best_classifier_second} with mean accuracy: {mean_score_second[best_classifier_second]}\")"
   ]
  },
  {
   "cell_type": "markdown",
   "id": "de711062-6036-4211-9147-690eefe74603",
   "metadata": {
    "tags": []
   },
   "source": [
    "### Random Forest has the best mean accuarcy score for the second try with 0.8946671"
   ]
  },
  {
   "cell_type": "markdown",
   "id": "ec9c0774-1ecd-4af1-ab95-37e27c862e2e",
   "metadata": {
    "tags": []
   },
   "source": [
    "## 7. Model Evaluation "
   ]
  },
  {
   "cell_type": "markdown",
   "id": "e09de9b9-ba40-4a7e-8646-f3d9481b60b1",
   "metadata": {},
   "source": [
    "#### Comparing the accuracy of models from step 5 and 6 "
   ]
  },
  {
   "cell_type": "code",
   "execution_count": 64,
   "id": "6f374bd3-33c3-4bbb-8168-a9f33dfc4a08",
   "metadata": {
    "tags": []
   },
   "outputs": [
    {
     "name": "stdout",
     "output_type": "stream",
     "text": [
      "The best classifier for Step 5 is: Decision Tree with mean accuracy: 0.8949636999693783 and 10 selected features \n",
      "The best classifier for Step 6 is: Random Forest with mean accuracy: 0.894667140272561 and 7 selected features\n"
     ]
    }
   ],
   "source": [
    "print(f\"The best classifier for Step 5 is: {best_classifier} with mean accuracy: {mean_score[best_classifier]} and 10 selected features \") \n",
    "print(f\"The best classifier for Step 6 is: {best_classifier_second} with mean accuracy: {mean_score_second[best_classifier_second]} and 7 selected features\")"
   ]
  },
  {
   "cell_type": "markdown",
   "id": "1e7c92c3-d70b-461d-acd2-2b89c8cf9353",
   "metadata": {},
   "source": [
    "### Evaluation\n",
    "Despite the Random Forest model having slightly lower accuracy compared to the Decision Tree, it's important to note that the difference in accuracy is minimal (0.0004). \n",
    "This suggests that, in this specific context, using fewer features in the Random Forest model did not significantly impact its predictive performance.The Random Forest model achieved a comparable level of accuracy while utilizing fewer features, indicating a more interpretable model.\n"
   ]
  },
  {
   "cell_type": "markdown",
   "id": "690a357d-9371-44e6-ba07-c4fa8061dd53",
   "metadata": {
    "tags": []
   },
   "source": [
    "#### Getting the Accuracy for Step 6 by using the classification"
   ]
  },
  {
   "cell_type": "code",
   "execution_count": 65,
   "id": "65203e96-520d-4dee-8af2-05d12ae6cfa6",
   "metadata": {
    "tags": []
   },
   "outputs": [
    {
     "name": "stdout",
     "output_type": "stream",
     "text": [
      "Test Accuracy For Step 6 is  0.9008888888888889\n"
     ]
    }
   ],
   "source": [
    "forest_second = RandomForestClassifier(n_estimators = 100, max_depth = 5, random_state = 42)\n",
    "forest_second.fit(X_train_second, y_train_second)\n",
    "print(\"Test Accuracy For Step 6 is \", forest_second.score(X_test_second, y_test_second))"
   ]
  },
  {
   "cell_type": "code",
   "execution_count": 66,
   "id": "d717c8fc-6b73-46ba-936d-d96c1b30f1f3",
   "metadata": {
    "tags": []
   },
   "outputs": [],
   "source": [
    "## Test Accuracy in Step 6 is slightly less than test accuracy in step 5 ,even though we re using the less features in Step 6 "
   ]
  },
  {
   "cell_type": "markdown",
   "id": "9d9c6800-dc35-451c-90f0-d1a74e7cd55d",
   "metadata": {
    "tags": []
   },
   "source": [
    "### Prediction Using Random Forest Classifier"
   ]
  },
  {
   "cell_type": "code",
   "execution_count": 67,
   "id": "89388090-38db-40dc-be52-7c194057e8a7",
   "metadata": {
    "tags": []
   },
   "outputs": [],
   "source": [
    "##X_new = [[-1,1,1,0,0,0,1,0,-1]]\n",
    "X_subset = X_test_second.head() ## we can use the first few record from the test set (explained on the class video)"
   ]
  },
  {
   "cell_type": "code",
   "execution_count": 68,
   "id": "7edd7e3b-46f1-4567-a890-34bbe5b55acb",
   "metadata": {
    "tags": []
   },
   "outputs": [
    {
     "data": {
      "text/html": [
       "<div>\n",
       "<style scoped>\n",
       "    .dataframe tbody tr th:only-of-type {\n",
       "        vertical-align: middle;\n",
       "    }\n",
       "\n",
       "    .dataframe tbody tr th {\n",
       "        vertical-align: top;\n",
       "    }\n",
       "\n",
       "    .dataframe thead th {\n",
       "        text-align: right;\n",
       "    }\n",
       "</style>\n",
       "<table border=\"1\" class=\"dataframe\">\n",
       "  <thead>\n",
       "    <tr style=\"text-align: right;\">\n",
       "      <th></th>\n",
       "      <th>Unnamed: 0</th>\n",
       "      <th>age</th>\n",
       "      <th>balance</th>\n",
       "      <th>pdays</th>\n",
       "      <th>last_contact</th>\n",
       "      <th>housing_yes</th>\n",
       "      <th>poutcome_success</th>\n",
       "    </tr>\n",
       "  </thead>\n",
       "  <tbody>\n",
       "    <tr>\n",
       "      <th>7940</th>\n",
       "      <td>0.766934</td>\n",
       "      <td>1.066667</td>\n",
       "      <td>19.616676</td>\n",
       "      <td>0.0</td>\n",
       "      <td>0.022472</td>\n",
       "      <td>-1.0</td>\n",
       "      <td>0.0</td>\n",
       "    </tr>\n",
       "    <tr>\n",
       "      <th>1162</th>\n",
       "      <td>-0.743360</td>\n",
       "      <td>-0.266667</td>\n",
       "      <td>0.467786</td>\n",
       "      <td>0.0</td>\n",
       "      <td>0.112360</td>\n",
       "      <td>0.0</td>\n",
       "      <td>0.0</td>\n",
       "    </tr>\n",
       "    <tr>\n",
       "      <th>582</th>\n",
       "      <td>-0.866695</td>\n",
       "      <td>0.466667</td>\n",
       "      <td>0.926187</td>\n",
       "      <td>0.0</td>\n",
       "      <td>0.247191</td>\n",
       "      <td>0.0</td>\n",
       "      <td>0.0</td>\n",
       "    </tr>\n",
       "    <tr>\n",
       "      <th>4081</th>\n",
       "      <td>-0.091962</td>\n",
       "      <td>-0.600000</td>\n",
       "      <td>0.180473</td>\n",
       "      <td>0.0</td>\n",
       "      <td>-0.764045</td>\n",
       "      <td>0.0</td>\n",
       "      <td>0.0</td>\n",
       "    </tr>\n",
       "    <tr>\n",
       "      <th>8412</th>\n",
       "      <td>0.865462</td>\n",
       "      <td>2.133333</td>\n",
       "      <td>0.621548</td>\n",
       "      <td>92.0</td>\n",
       "      <td>-1.775281</td>\n",
       "      <td>-1.0</td>\n",
       "      <td>1.0</td>\n",
       "    </tr>\n",
       "  </tbody>\n",
       "</table>\n",
       "</div>"
      ],
      "text/plain": [
       "      Unnamed: 0       age    balance  pdays  last_contact  housing_yes  \\\n",
       "7940    0.766934  1.066667  19.616676    0.0      0.022472         -1.0   \n",
       "1162   -0.743360 -0.266667   0.467786    0.0      0.112360          0.0   \n",
       "582    -0.866695  0.466667   0.926187    0.0      0.247191          0.0   \n",
       "4081   -0.091962 -0.600000   0.180473    0.0     -0.764045          0.0   \n",
       "8412    0.865462  2.133333   0.621548   92.0     -1.775281         -1.0   \n",
       "\n",
       "      poutcome_success  \n",
       "7940               0.0  \n",
       "1162               0.0  \n",
       "582                0.0  \n",
       "4081               0.0  \n",
       "8412               1.0  "
      ]
     },
     "execution_count": 68,
     "metadata": {},
     "output_type": "execute_result"
    }
   ],
   "source": [
    "X_subset"
   ]
  },
  {
   "cell_type": "code",
   "execution_count": 69,
   "id": "5d0c1b93-ddf8-4fe3-bb49-ae39a36e1b71",
   "metadata": {
    "tags": []
   },
   "outputs": [
    {
     "data": {
      "text/html": [
       "<style>#sk-container-id-2 {color: black;}#sk-container-id-2 pre{padding: 0;}#sk-container-id-2 div.sk-toggleable {background-color: white;}#sk-container-id-2 label.sk-toggleable__label {cursor: pointer;display: block;width: 100%;margin-bottom: 0;padding: 0.3em;box-sizing: border-box;text-align: center;}#sk-container-id-2 label.sk-toggleable__label-arrow:before {content: \"▸\";float: left;margin-right: 0.25em;color: #696969;}#sk-container-id-2 label.sk-toggleable__label-arrow:hover:before {color: black;}#sk-container-id-2 div.sk-estimator:hover label.sk-toggleable__label-arrow:before {color: black;}#sk-container-id-2 div.sk-toggleable__content {max-height: 0;max-width: 0;overflow: hidden;text-align: left;background-color: #f0f8ff;}#sk-container-id-2 div.sk-toggleable__content pre {margin: 0.2em;color: black;border-radius: 0.25em;background-color: #f0f8ff;}#sk-container-id-2 input.sk-toggleable__control:checked~div.sk-toggleable__content {max-height: 200px;max-width: 100%;overflow: auto;}#sk-container-id-2 input.sk-toggleable__control:checked~label.sk-toggleable__label-arrow:before {content: \"▾\";}#sk-container-id-2 div.sk-estimator input.sk-toggleable__control:checked~label.sk-toggleable__label {background-color: #d4ebff;}#sk-container-id-2 div.sk-label input.sk-toggleable__control:checked~label.sk-toggleable__label {background-color: #d4ebff;}#sk-container-id-2 input.sk-hidden--visually {border: 0;clip: rect(1px 1px 1px 1px);clip: rect(1px, 1px, 1px, 1px);height: 1px;margin: -1px;overflow: hidden;padding: 0;position: absolute;width: 1px;}#sk-container-id-2 div.sk-estimator {font-family: monospace;background-color: #f0f8ff;border: 1px dotted black;border-radius: 0.25em;box-sizing: border-box;margin-bottom: 0.5em;}#sk-container-id-2 div.sk-estimator:hover {background-color: #d4ebff;}#sk-container-id-2 div.sk-parallel-item::after {content: \"\";width: 100%;border-bottom: 1px solid gray;flex-grow: 1;}#sk-container-id-2 div.sk-label:hover label.sk-toggleable__label {background-color: #d4ebff;}#sk-container-id-2 div.sk-serial::before {content: \"\";position: absolute;border-left: 1px solid gray;box-sizing: border-box;top: 0;bottom: 0;left: 50%;z-index: 0;}#sk-container-id-2 div.sk-serial {display: flex;flex-direction: column;align-items: center;background-color: white;padding-right: 0.2em;padding-left: 0.2em;position: relative;}#sk-container-id-2 div.sk-item {position: relative;z-index: 1;}#sk-container-id-2 div.sk-parallel {display: flex;align-items: stretch;justify-content: center;background-color: white;position: relative;}#sk-container-id-2 div.sk-item::before, #sk-container-id-2 div.sk-parallel-item::before {content: \"\";position: absolute;border-left: 1px solid gray;box-sizing: border-box;top: 0;bottom: 0;left: 50%;z-index: -1;}#sk-container-id-2 div.sk-parallel-item {display: flex;flex-direction: column;z-index: 1;position: relative;background-color: white;}#sk-container-id-2 div.sk-parallel-item:first-child::after {align-self: flex-end;width: 50%;}#sk-container-id-2 div.sk-parallel-item:last-child::after {align-self: flex-start;width: 50%;}#sk-container-id-2 div.sk-parallel-item:only-child::after {width: 0;}#sk-container-id-2 div.sk-dashed-wrapped {border: 1px dashed gray;margin: 0 0.4em 0.5em 0.4em;box-sizing: border-box;padding-bottom: 0.4em;background-color: white;}#sk-container-id-2 div.sk-label label {font-family: monospace;font-weight: bold;display: inline-block;line-height: 1.2em;}#sk-container-id-2 div.sk-label-container {text-align: center;}#sk-container-id-2 div.sk-container {/* jupyter's `normalize.less` sets `[hidden] { display: none; }` but bootstrap.min.css set `[hidden] { display: none !important; }` so we also need the `!important` here to be able to override the default hidden behavior on the sphinx rendered scikit-learn.org. See: https://github.com/scikit-learn/scikit-learn/issues/21755 */display: inline-block !important;position: relative;}#sk-container-id-2 div.sk-text-repr-fallback {display: none;}</style><div id=\"sk-container-id-2\" class=\"sk-top-container\"><div class=\"sk-text-repr-fallback\"><pre>RandomForestClassifier(max_depth=5, random_state=42)</pre><b>In a Jupyter environment, please rerun this cell to show the HTML representation or trust the notebook. <br />On GitHub, the HTML representation is unable to render, please try loading this page with nbviewer.org.</b></div><div class=\"sk-container\" hidden><div class=\"sk-item\"><div class=\"sk-estimator sk-toggleable\"><input class=\"sk-toggleable__control sk-hidden--visually\" id=\"sk-estimator-id-4\" type=\"checkbox\" checked><label for=\"sk-estimator-id-4\" class=\"sk-toggleable__label sk-toggleable__label-arrow\">RandomForestClassifier</label><div class=\"sk-toggleable__content\"><pre>RandomForestClassifier(max_depth=5, random_state=42)</pre></div></div></div></div></div>"
      ],
      "text/plain": [
       "RandomForestClassifier(max_depth=5, random_state=42)"
      ]
     },
     "execution_count": 69,
     "metadata": {},
     "output_type": "execute_result"
    }
   ],
   "source": [
    "rf= RandomForestClassifier(n_estimators=100, max_depth=5, random_state=42)\n",
    "rf.fit(X_train_second,y_train_second)"
   ]
  },
  {
   "cell_type": "code",
   "execution_count": 70,
   "id": "a1ca479c-66bb-4e73-b658-c8be5782fcfa",
   "metadata": {
    "tags": []
   },
   "outputs": [],
   "source": [
    "y_pred = rf.predict(X_subset)"
   ]
  },
  {
   "cell_type": "code",
   "execution_count": 71,
   "id": "717ba4c7-8d1c-453c-973b-94c9b756495b",
   "metadata": {
    "tags": []
   },
   "outputs": [
    {
     "data": {
      "text/plain": [
       "array([0, 0, 0, 0, 1], dtype=uint8)"
      ]
     },
     "execution_count": 71,
     "metadata": {},
     "output_type": "execute_result"
    }
   ],
   "source": [
    "y_pred"
   ]
  },
  {
   "cell_type": "code",
   "execution_count": 72,
   "id": "be0c8206-eb07-4a9e-a45a-63f21d5e2e0c",
   "metadata": {
    "tags": []
   },
   "outputs": [
    {
     "data": {
      "text/plain": [
       "array([[0.64650079, 0.35349921],\n",
       "       [0.94869192, 0.05130808],\n",
       "       [0.95174036, 0.04825964],\n",
       "       [0.93804619, 0.06195381],\n",
       "       [0.26325053, 0.73674947]])"
      ]
     },
     "execution_count": 72,
     "metadata": {},
     "output_type": "execute_result"
    }
   ],
   "source": [
    "### Predicted Probability from Random Forest\n",
    "\n",
    "pred_prob = rf.predict_proba(X_subset)  ## class probabilities for each sample, exmp: The probability of being 0 is 0.46, the probability of being 1 is 0.53\n",
    "pred_prob"
   ]
  },
  {
   "cell_type": "markdown",
   "id": "6f1b1eb0-c3b9-4ae2-af10-8ac8207d5f9b",
   "metadata": {},
   "source": [
    "#### Confusion Matrix"
   ]
  },
  {
   "cell_type": "code",
   "execution_count": 73,
   "id": "2bd97532-76b5-4be3-9346-f2c31ecd3a3d",
   "metadata": {
    "tags": []
   },
   "outputs": [
    {
     "data": {
      "text/plain": [
       "array([0, 0, 0, ..., 0, 0, 0], dtype=uint8)"
      ]
     },
     "execution_count": 73,
     "metadata": {},
     "output_type": "execute_result"
    }
   ],
   "source": [
    "\n",
    "##libraries\n",
    "from sklearn.metrics import confusion_matrix\n",
    "import matplotlib.pyplot as plt\n",
    "%matplotlib inline\n",
    "import numpy as np\n",
    "import seaborn as sns\n",
    "\n",
    "y_pred_new = rf.predict(X_test_second)\n",
    "\n",
    "y_pred_new\n"
   ]
  },
  {
   "cell_type": "code",
   "execution_count": 74,
   "id": "da2c7d26-9477-4f06-a7a1-4290a784965f",
   "metadata": {
    "tags": []
   },
   "outputs": [
    {
     "data": {
      "text/plain": [
       "<Axes: xlabel='Predicted', ylabel='Actual'>"
      ]
     },
     "execution_count": 74,
     "metadata": {},
     "output_type": "execute_result"
    },
    {
     "data": {
      "image/png": "[encoded data removed]",
      "text/plain": [
       "<Figure size 400x400 with 1 Axes>"
      ]
     },
     "metadata": {},
     "output_type": "display_data"
    }
   ],
   "source": [
    "data = confusion_matrix(y_test_second, y_pred_new)\n",
    "df_cm = pd.DataFrame(data, columns = np.unique(y_test_second), index = np.unique(y_test_second))\n",
    "df_cm.index.name = \"Actual\"\n",
    "df_cm.columns.name = \"Predicted\"\n",
    "plt.figure(figsize=(4,4))\n",
    "sns.set(font_scale = 1.2)\n",
    "sns.heatmap(df_cm, annot = True, annot_kws={'size':12}, cbar=False, vmax = 500, square = True, fmt = \"d\", cmap = \"Reds\")\n"
   ]
  },
  {
   "cell_type": "markdown",
   "id": "a6509b21-4a62-4455-b073-0d5b08d0f4ad",
   "metadata": {
    "tags": []
   },
   "source": [
    "#### Classification Report"
   ]
  },
  {
   "cell_type": "code",
   "execution_count": 75,
   "id": "f1ae7eea-529c-42c7-95c3-87a67827dc78",
   "metadata": {
    "tags": []
   },
   "outputs": [],
   "source": [
    "from sklearn.metrics import classification_report"
   ]
  },
  {
   "cell_type": "code",
   "execution_count": 76,
   "id": "29f1afc0-3065-4ea8-818c-959d4cd5c0bf",
   "metadata": {
    "tags": []
   },
   "outputs": [
    {
     "name": "stdout",
     "output_type": "stream",
     "text": [
      "              precision    recall  f1-score   support\n",
      "\n",
      "           0       0.91      0.99      0.95      2006\n",
      "           1       0.67      0.17      0.27       244\n",
      "\n",
      "    accuracy                           0.90      2250\n",
      "   macro avg       0.79      0.58      0.61      2250\n",
      "weighted avg       0.88      0.90      0.87      2250\n",
      "\n"
     ]
    }
   ],
   "source": [
    "print(classification_report(y_test_second, y_pred_new))"
   ]
  },
  {
   "cell_type": "markdown",
   "id": "5d3abdb0-ec52-4a72-8ec0-984ef570e13e",
   "metadata": {},
   "source": []
  },
  {
   "cell_type": "markdown",
   "id": "7f29497d-fc2e-4735-b2e9-5cedee491d87",
   "metadata": {
    "tags": []
   },
   "source": [
    "#### ROC Curve"
   ]
  },
  {
   "cell_type": "code",
   "execution_count": 77,
   "id": "9cce70b5-fb6d-4dd5-aef1-0aa8b4d18dca",
   "metadata": {
    "tags": []
   },
   "outputs": [],
   "source": [
    "from sklearn.metrics import roc_curve, roc_auc_score"
   ]
  },
  {
   "cell_type": "code",
   "execution_count": 78,
   "id": "7647be4d-0702-4de5-b2ff-fb70d5f33808",
   "metadata": {
    "tags": []
   },
   "outputs": [
    {
     "data": {
      "image/png": "[encoded data removed]",
      "text/plain": [
       "<Figure size 640x480 with 1 Axes>"
      ]
     },
     "metadata": {},
     "output_type": "display_data"
    }
   ],
   "source": [
    "rf1_roc_auc = roc_auc_score(y_test_second, y_pred_new)\n",
    "fpr, tpr, thresholds = roc_curve(y_test_second, y_pred_new)\n",
    "plt.figure()\n",
    "plt.plot(fpr, tpr, label='Random Forest (area = %0.2f)' % rf1_roc_auc)\n",
    "plt.plot([0, 1], [0, 1],'r--')\n",
    "plt.xlim([0.0, 1.0])\n",
    "plt.ylim([0.0, 1.05])\n",
    "plt.xlabel('False Positive Rate')\n",
    "plt.ylabel('True Positive Rate')\n",
    "plt.title('Receiver Operating Characteristic')\n",
    "plt.legend(loc=\"lower right\")\n",
    "plt.show()"
   ]
  },
  {
   "cell_type": "markdown",
   "id": "f0a502ee-eeb4-4a8c-a8cb-6cf14178a6ee",
   "metadata": {},
   "source": [
    "### EVALUATION\n",
    "\n",
    "TP :41, TN: 1986, FP: 20, FN: 203\n",
    "According to the Confusion Matrix, the number of FN was determined as 203. This shows the number of cases that the model predicted as negative but were actually positive.\n",
    "This means that the customer accepted the new product even though it was predicted not to accept it. As stated, the number of FN is quite high.\n",
    "When we look at our precision and recall values and evaluate them together;\n",
    "Precision = TP / (TP + FP):\n",
    "     For class 0: This shows that the model is 91% accurate when predicting customers who does not accept.\n",
    "     For class 1: This shows that the model is 67% accurate when predicting the customers who accept.\n",
    "    \n",
    "Recall = TP / (TP + FN)\n",
    "    For class 0 : Indicates that this model accurately predicts 99% of the customers who will not accept\n",
    "    For class 1 : Indicates that this model accurately predicts 17% of the customers who will accepts\n",
    "\n",
    "High precision (0.91) and high recall (0.99) indicate that the model is successful in predicting customers who will not accept.\n",
    "High precision (0.67) but low recall (0.17) indicates that the model is not very successful in predicting the customers who will subscribe\n",
    "\n",
    "A low recall value for Class 1 indicates that the model the model misses on customers who would accept. (False negative value is high)\n",
    "\n",
    "To reduce this situation, we can change the threshold value used in the models, or if the number of customers who did not accept in our data set is more than the number of customers who accepted, this may create an imbalance.\n",
    "\n",
    "When we look at the ROC curve, we see that the area under the ROC curve is 0.58. This value should ideally approach 1. A value of 0.58 indicates that the performance of the model is not high. In the graph, true positive rate and false positive rate intersect towards point 1."
   ]
  },
  {
   "cell_type": "markdown",
   "id": "d3aa636f-ae51-45e7-abd9-222aa27df3b7",
   "metadata": {},
   "source": [
    "## 8.Prediction"
   ]
  },
  {
   "cell_type": "code",
   "execution_count": 79,
   "id": "69a64ade-9e61-4506-9de1-fa97bffe3069",
   "metadata": {
    "tags": []
   },
   "outputs": [],
   "source": [
    "new_data = pd.DataFrame({\n",
    "    'age': [45, 65, 80, 21],\n",
    "    'job': ['blue-collar', 'retired', 'unknown', 'students'],\n",
    "    'marital': ['married', 'divorced', 'unknown', 'single'],\n",
    "    'balance': [8000, 700, 100, 300],\n",
    "    'housing': ['yes', 'yes', 'no', 'no'],\n",
    "    'contact': ['cellular', 'telephone', 'telephone', 'cellular'],\n",
    "    'campaign': [12, 2, 1, 3],\n",
    "    'pdays': [300, 1, 1, 90],\n",
    "    'poutcome': ['success', 'success', 'unknown', 'success'],\n",
    "    'last_contact':[45,1,200,180],\n",
    "    'Unnamed: 0':[0,2,11,12]\n",
    "})\n",
    "\n",
    "new_data_df = new_data.copy()"
   ]
  },
  {
   "cell_type": "code",
   "execution_count": 80,
   "id": "f7e94c61-8861-4d9e-8554-925f8bb91aab",
   "metadata": {
    "tags": []
   },
   "outputs": [
    {
     "data": {
      "text/html": [
       "<div>\n",
       "<style scoped>\n",
       "    .dataframe tbody tr th:only-of-type {\n",
       "        vertical-align: middle;\n",
       "    }\n",
       "\n",
       "    .dataframe tbody tr th {\n",
       "        vertical-align: top;\n",
       "    }\n",
       "\n",
       "    .dataframe thead th {\n",
       "        text-align: right;\n",
       "    }\n",
       "</style>\n",
       "<table border=\"1\" class=\"dataframe\">\n",
       "  <thead>\n",
       "    <tr style=\"text-align: right;\">\n",
       "      <th></th>\n",
       "      <th>age</th>\n",
       "      <th>job</th>\n",
       "      <th>marital</th>\n",
       "      <th>balance</th>\n",
       "      <th>housing</th>\n",
       "      <th>contact</th>\n",
       "      <th>campaign</th>\n",
       "      <th>pdays</th>\n",
       "      <th>poutcome</th>\n",
       "      <th>last_contact</th>\n",
       "      <th>Unnamed: 0</th>\n",
       "    </tr>\n",
       "  </thead>\n",
       "  <tbody>\n",
       "    <tr>\n",
       "      <th>0</th>\n",
       "      <td>45</td>\n",
       "      <td>blue-collar</td>\n",
       "      <td>married</td>\n",
       "      <td>8000</td>\n",
       "      <td>yes</td>\n",
       "      <td>cellular</td>\n",
       "      <td>12</td>\n",
       "      <td>300</td>\n",
       "      <td>success</td>\n",
       "      <td>45</td>\n",
       "      <td>0</td>\n",
       "    </tr>\n",
       "    <tr>\n",
       "      <th>1</th>\n",
       "      <td>65</td>\n",
       "      <td>retired</td>\n",
       "      <td>divorced</td>\n",
       "      <td>700</td>\n",
       "      <td>yes</td>\n",
       "      <td>telephone</td>\n",
       "      <td>2</td>\n",
       "      <td>1</td>\n",
       "      <td>success</td>\n",
       "      <td>1</td>\n",
       "      <td>2</td>\n",
       "    </tr>\n",
       "    <tr>\n",
       "      <th>2</th>\n",
       "      <td>80</td>\n",
       "      <td>unknown</td>\n",
       "      <td>unknown</td>\n",
       "      <td>100</td>\n",
       "      <td>no</td>\n",
       "      <td>telephone</td>\n",
       "      <td>1</td>\n",
       "      <td>1</td>\n",
       "      <td>unknown</td>\n",
       "      <td>200</td>\n",
       "      <td>11</td>\n",
       "    </tr>\n",
       "    <tr>\n",
       "      <th>3</th>\n",
       "      <td>21</td>\n",
       "      <td>students</td>\n",
       "      <td>single</td>\n",
       "      <td>300</td>\n",
       "      <td>no</td>\n",
       "      <td>cellular</td>\n",
       "      <td>3</td>\n",
       "      <td>90</td>\n",
       "      <td>success</td>\n",
       "      <td>180</td>\n",
       "      <td>12</td>\n",
       "    </tr>\n",
       "  </tbody>\n",
       "</table>\n",
       "</div>"
      ],
      "text/plain": [
       "   age          job   marital  balance housing    contact  campaign  pdays  \\\n",
       "0   45  blue-collar   married     8000     yes   cellular        12    300   \n",
       "1   65      retired  divorced      700     yes  telephone         2      1   \n",
       "2   80      unknown   unknown      100      no  telephone         1      1   \n",
       "3   21     students    single      300      no   cellular         3     90   \n",
       "\n",
       "  poutcome  last_contact  Unnamed: 0  \n",
       "0  success            45           0  \n",
       "1  success             1           2  \n",
       "2  unknown           200          11  \n",
       "3  success           180          12  "
      ]
     },
     "execution_count": 80,
     "metadata": {},
     "output_type": "execute_result"
    }
   ],
   "source": [
    "new_data_df.head()"
   ]
  },
  {
   "cell_type": "code",
   "execution_count": 81,
   "id": "4467ca25-2fa5-4737-8c7d-e76256b8b506",
   "metadata": {
    "tags": []
   },
   "outputs": [],
   "source": [
    "## getting the relevant columns"
   ]
  },
  {
   "cell_type": "code",
   "execution_count": 82,
   "id": "527e3a74-4b49-480a-9dbd-73add8c2bec0",
   "metadata": {
    "tags": []
   },
   "outputs": [],
   "source": [
    "new_data_df_subset = new_data[['Unnamed: 0','age', 'balance', 'pdays', 'housing', 'poutcome','last_contact']]"
   ]
  },
  {
   "cell_type": "code",
   "execution_count": 83,
   "id": "80422acf-1395-4cec-97c3-938cdfe21dcb",
   "metadata": {
    "tags": []
   },
   "outputs": [],
   "source": [
    "new_data_df_subset = pd.get_dummies(new_data_df_subset, columns=['housing', 'poutcome'])"
   ]
  },
  {
   "cell_type": "code",
   "execution_count": 84,
   "id": "f6931874-1bdc-4ff8-870b-a44ada3e74d9",
   "metadata": {
    "tags": []
   },
   "outputs": [
    {
     "data": {
      "text/html": [
       "<div>\n",
       "<style scoped>\n",
       "    .dataframe tbody tr th:only-of-type {\n",
       "        vertical-align: middle;\n",
       "    }\n",
       "\n",
       "    .dataframe tbody tr th {\n",
       "        vertical-align: top;\n",
       "    }\n",
       "\n",
       "    .dataframe thead th {\n",
       "        text-align: right;\n",
       "    }\n",
       "</style>\n",
       "<table border=\"1\" class=\"dataframe\">\n",
       "  <thead>\n",
       "    <tr style=\"text-align: right;\">\n",
       "      <th></th>\n",
       "      <th>Unnamed: 0</th>\n",
       "      <th>age</th>\n",
       "      <th>balance</th>\n",
       "      <th>pdays</th>\n",
       "      <th>last_contact</th>\n",
       "      <th>housing_no</th>\n",
       "      <th>housing_yes</th>\n",
       "      <th>poutcome_success</th>\n",
       "      <th>poutcome_unknown</th>\n",
       "    </tr>\n",
       "  </thead>\n",
       "  <tbody>\n",
       "    <tr>\n",
       "      <th>0</th>\n",
       "      <td>0</td>\n",
       "      <td>45</td>\n",
       "      <td>8000</td>\n",
       "      <td>300</td>\n",
       "      <td>45</td>\n",
       "      <td>0</td>\n",
       "      <td>1</td>\n",
       "      <td>1</td>\n",
       "      <td>0</td>\n",
       "    </tr>\n",
       "    <tr>\n",
       "      <th>1</th>\n",
       "      <td>2</td>\n",
       "      <td>65</td>\n",
       "      <td>700</td>\n",
       "      <td>1</td>\n",
       "      <td>1</td>\n",
       "      <td>0</td>\n",
       "      <td>1</td>\n",
       "      <td>1</td>\n",
       "      <td>0</td>\n",
       "    </tr>\n",
       "    <tr>\n",
       "      <th>2</th>\n",
       "      <td>11</td>\n",
       "      <td>80</td>\n",
       "      <td>100</td>\n",
       "      <td>1</td>\n",
       "      <td>200</td>\n",
       "      <td>1</td>\n",
       "      <td>0</td>\n",
       "      <td>0</td>\n",
       "      <td>1</td>\n",
       "    </tr>\n",
       "    <tr>\n",
       "      <th>3</th>\n",
       "      <td>12</td>\n",
       "      <td>21</td>\n",
       "      <td>300</td>\n",
       "      <td>90</td>\n",
       "      <td>180</td>\n",
       "      <td>1</td>\n",
       "      <td>0</td>\n",
       "      <td>1</td>\n",
       "      <td>0</td>\n",
       "    </tr>\n",
       "  </tbody>\n",
       "</table>\n",
       "</div>"
      ],
      "text/plain": [
       "   Unnamed: 0  age  balance  pdays  last_contact  housing_no  housing_yes  \\\n",
       "0           0   45     8000    300            45           0            1   \n",
       "1           2   65      700      1             1           0            1   \n",
       "2          11   80      100      1           200           1            0   \n",
       "3          12   21      300     90           180           1            0   \n",
       "\n",
       "   poutcome_success  poutcome_unknown  \n",
       "0                 1                 0  \n",
       "1                 1                 0  \n",
       "2                 0                 1  \n",
       "3                 1                 0  "
      ]
     },
     "execution_count": 84,
     "metadata": {},
     "output_type": "execute_result"
    }
   ],
   "source": [
    "new_data_df_subset"
   ]
  },
  {
   "cell_type": "code",
   "execution_count": 85,
   "id": "1c84bd19-8fbc-4566-b8e5-5ca2414dbc60",
   "metadata": {},
   "outputs": [],
   "source": [
    "new_data_df_subset = new_data_df_subset[['Unnamed: 0','age', 'balance', 'pdays','last_contact', 'housing_yes', 'poutcome_success']]"
   ]
  },
  {
   "cell_type": "code",
   "execution_count": 86,
   "id": "96c398ca-8521-461f-8b7e-3db449444f19",
   "metadata": {
    "tags": []
   },
   "outputs": [
    {
     "data": {
      "text/html": [
       "<div>\n",
       "<style scoped>\n",
       "    .dataframe tbody tr th:only-of-type {\n",
       "        vertical-align: middle;\n",
       "    }\n",
       "\n",
       "    .dataframe tbody tr th {\n",
       "        vertical-align: top;\n",
       "    }\n",
       "\n",
       "    .dataframe thead th {\n",
       "        text-align: right;\n",
       "    }\n",
       "</style>\n",
       "<table border=\"1\" class=\"dataframe\">\n",
       "  <thead>\n",
       "    <tr style=\"text-align: right;\">\n",
       "      <th></th>\n",
       "      <th>Unnamed: 0</th>\n",
       "      <th>age</th>\n",
       "      <th>balance</th>\n",
       "      <th>pdays</th>\n",
       "      <th>last_contact</th>\n",
       "      <th>housing_yes</th>\n",
       "      <th>poutcome_success</th>\n",
       "    </tr>\n",
       "  </thead>\n",
       "  <tbody>\n",
       "    <tr>\n",
       "      <th>0</th>\n",
       "      <td>0</td>\n",
       "      <td>45</td>\n",
       "      <td>8000</td>\n",
       "      <td>300</td>\n",
       "      <td>45</td>\n",
       "      <td>1</td>\n",
       "      <td>1</td>\n",
       "    </tr>\n",
       "    <tr>\n",
       "      <th>1</th>\n",
       "      <td>2</td>\n",
       "      <td>65</td>\n",
       "      <td>700</td>\n",
       "      <td>1</td>\n",
       "      <td>1</td>\n",
       "      <td>1</td>\n",
       "      <td>1</td>\n",
       "    </tr>\n",
       "    <tr>\n",
       "      <th>2</th>\n",
       "      <td>11</td>\n",
       "      <td>80</td>\n",
       "      <td>100</td>\n",
       "      <td>1</td>\n",
       "      <td>200</td>\n",
       "      <td>0</td>\n",
       "      <td>0</td>\n",
       "    </tr>\n",
       "    <tr>\n",
       "      <th>3</th>\n",
       "      <td>12</td>\n",
       "      <td>21</td>\n",
       "      <td>300</td>\n",
       "      <td>90</td>\n",
       "      <td>180</td>\n",
       "      <td>0</td>\n",
       "      <td>1</td>\n",
       "    </tr>\n",
       "  </tbody>\n",
       "</table>\n",
       "</div>"
      ],
      "text/plain": [
       "   Unnamed: 0  age  balance  pdays  last_contact  housing_yes  \\\n",
       "0           0   45     8000    300            45            1   \n",
       "1           2   65      700      1             1            1   \n",
       "2          11   80      100      1           200            0   \n",
       "3          12   21      300     90           180            0   \n",
       "\n",
       "   poutcome_success  \n",
       "0                 1  \n",
       "1                 1  \n",
       "2                 0  \n",
       "3                 1  "
      ]
     },
     "execution_count": 86,
     "metadata": {},
     "output_type": "execute_result"
    }
   ],
   "source": [
    "new_data_df_subset"
   ]
  },
  {
   "cell_type": "code",
   "execution_count": 87,
   "id": "429f6313-c3f2-4117-8bbd-607dc9c50956",
   "metadata": {
    "tags": []
   },
   "outputs": [
    {
     "name": "stderr",
     "output_type": "stream",
     "text": [
      "C:\\Users\\ibrah\\anaconda3\\Lib\\site-packages\\sklearn\\base.py:457: UserWarning: X has feature names, but RobustScaler was fitted without feature names\n",
      "  warnings.warn(\n"
     ]
    }
   ],
   "source": [
    "new_data_scaled = select_scale_pipeline2['scaler2'].transform(new_data_df_subset)"
   ]
  },
  {
   "cell_type": "code",
   "execution_count": 88,
   "id": "11d97b38-2e7d-4cbb-8d02-4f1b2809f0ba",
   "metadata": {
    "tags": []
   },
   "outputs": [
    {
     "name": "stderr",
     "output_type": "stream",
     "text": [
      "C:\\Users\\ibrah\\anaconda3\\Lib\\site-packages\\sklearn\\base.py:464: UserWarning: X does not have valid feature names, but RandomForestClassifier was fitted with feature names\n",
      "  warnings.warn(\n"
     ]
    }
   ],
   "source": [
    "rf_new= RandomForestClassifier(n_estimators=100, max_depth=5, random_state=42)\n",
    "rf_new.fit(X_train_second, y_train_second)\n",
    "y_pred_data_scaled = rf_new.predict(new_data_scaled)"
   ]
  },
  {
   "cell_type": "code",
   "execution_count": 89,
   "id": "73d1f0fb-1568-4087-9520-39d65509a3a6",
   "metadata": {
    "tags": []
   },
   "outputs": [
    {
     "data": {
      "text/plain": [
       "array([0, 0, 0, 0], dtype=uint8)"
      ]
     },
     "execution_count": 89,
     "metadata": {},
     "output_type": "execute_result"
    }
   ],
   "source": [
    "y_pred_data_scaled"
   ]
  },
  {
   "cell_type": "markdown",
   "id": "8e418555-7bf4-4a7a-9c82-c5283487fb16",
   "metadata": {
    "tags": []
   },
   "source": [
    "### Discussing our findings providing some suggestion to management on how to increase the number of people to agree to sign into the new product.\n",
    "Using our model, we tried to predict whether customers would buy the new product. All our results are 0 so, \n",
    "The model shows that all new customers will not buy the new product. Bank management needs to re-evaluate its marketing strategy. The bank can divide its customers into different groups and organize special campaigns for each group. For this, more data can be collected, especially regarding customer profiles and behaviors. As another recommendation, the bank can change its digital marketing strategies to reach its target audience."
   ]
  },
  {
   "cell_type": "markdown",
   "id": "a9a454a8-753f-4b0e-bdd6-1ea7df10f426",
   "metadata": {},
   "source": [
    "## B. COMPETITION "
   ]
  },
  {
   "cell_type": "markdown",
   "id": "2bdc7166-30db-44b6-a2db-df0e657f905e",
   "metadata": {
    "tags": []
   },
   "source": [
    "## 1. Dataset"
   ]
  },
  {
   "cell_type": "code",
   "execution_count": 90,
   "id": "4d25d87d-1b83-4f36-84f2-d7a3025b3d62",
   "metadata": {
    "tags": []
   },
   "outputs": [],
   "source": [
    "## reading data"
   ]
  },
  {
   "cell_type": "code",
   "execution_count": 91,
   "id": "546bec95-e488-476e-9933-b983728928f1",
   "metadata": {
    "tags": []
   },
   "outputs": [],
   "source": [
    "df_c = pd.read_csv(\"bank-sampled-9K.csv\", sep = \",\")"
   ]
  },
  {
   "cell_type": "code",
   "execution_count": 92,
   "id": "0264ffcf-d31c-4565-adcd-34faca83d04b",
   "metadata": {
    "tags": []
   },
   "outputs": [
    {
     "data": {
      "text/html": [
       "<div>\n",
       "<style scoped>\n",
       "    .dataframe tbody tr th:only-of-type {\n",
       "        vertical-align: middle;\n",
       "    }\n",
       "\n",
       "    .dataframe tbody tr th {\n",
       "        vertical-align: top;\n",
       "    }\n",
       "\n",
       "    .dataframe thead th {\n",
       "        text-align: right;\n",
       "    }\n",
       "</style>\n",
       "<table border=\"1\" class=\"dataframe\">\n",
       "  <thead>\n",
       "    <tr style=\"text-align: right;\">\n",
       "      <th></th>\n",
       "      <th>Unnamed: 0</th>\n",
       "      <th>age</th>\n",
       "      <th>job</th>\n",
       "      <th>marital</th>\n",
       "      <th>education</th>\n",
       "      <th>default</th>\n",
       "      <th>balance</th>\n",
       "      <th>housing</th>\n",
       "      <th>loan</th>\n",
       "      <th>contact</th>\n",
       "      <th>day</th>\n",
       "      <th>month</th>\n",
       "      <th>duration</th>\n",
       "      <th>campaign</th>\n",
       "      <th>pdays</th>\n",
       "      <th>previous</th>\n",
       "      <th>poutcome</th>\n",
       "      <th>y</th>\n",
       "    </tr>\n",
       "  </thead>\n",
       "  <tbody>\n",
       "    <tr>\n",
       "      <th>0</th>\n",
       "      <td>0</td>\n",
       "      <td>58</td>\n",
       "      <td>management</td>\n",
       "      <td>married</td>\n",
       "      <td>tertiary</td>\n",
       "      <td>no</td>\n",
       "      <td>2143</td>\n",
       "      <td>yes</td>\n",
       "      <td>no</td>\n",
       "      <td>unknown</td>\n",
       "      <td>5</td>\n",
       "      <td>may</td>\n",
       "      <td>261</td>\n",
       "      <td>1</td>\n",
       "      <td>-1</td>\n",
       "      <td>0</td>\n",
       "      <td>unknown</td>\n",
       "      <td>no</td>\n",
       "    </tr>\n",
       "    <tr>\n",
       "      <th>1</th>\n",
       "      <td>2</td>\n",
       "      <td>33</td>\n",
       "      <td>entrepreneur</td>\n",
       "      <td>married</td>\n",
       "      <td>secondary</td>\n",
       "      <td>no</td>\n",
       "      <td>2</td>\n",
       "      <td>yes</td>\n",
       "      <td>yes</td>\n",
       "      <td>unknown</td>\n",
       "      <td>5</td>\n",
       "      <td>may</td>\n",
       "      <td>76</td>\n",
       "      <td>1</td>\n",
       "      <td>-1</td>\n",
       "      <td>0</td>\n",
       "      <td>unknown</td>\n",
       "      <td>no</td>\n",
       "    </tr>\n",
       "    <tr>\n",
       "      <th>2</th>\n",
       "      <td>11</td>\n",
       "      <td>29</td>\n",
       "      <td>admin.</td>\n",
       "      <td>single</td>\n",
       "      <td>secondary</td>\n",
       "      <td>no</td>\n",
       "      <td>390</td>\n",
       "      <td>yes</td>\n",
       "      <td>no</td>\n",
       "      <td>unknown</td>\n",
       "      <td>5</td>\n",
       "      <td>may</td>\n",
       "      <td>137</td>\n",
       "      <td>1</td>\n",
       "      <td>-1</td>\n",
       "      <td>0</td>\n",
       "      <td>unknown</td>\n",
       "      <td>no</td>\n",
       "    </tr>\n",
       "    <tr>\n",
       "      <th>3</th>\n",
       "      <td>12</td>\n",
       "      <td>53</td>\n",
       "      <td>technician</td>\n",
       "      <td>married</td>\n",
       "      <td>secondary</td>\n",
       "      <td>no</td>\n",
       "      <td>6</td>\n",
       "      <td>yes</td>\n",
       "      <td>no</td>\n",
       "      <td>unknown</td>\n",
       "      <td>5</td>\n",
       "      <td>may</td>\n",
       "      <td>517</td>\n",
       "      <td>1</td>\n",
       "      <td>-1</td>\n",
       "      <td>0</td>\n",
       "      <td>unknown</td>\n",
       "      <td>no</td>\n",
       "    </tr>\n",
       "    <tr>\n",
       "      <th>4</th>\n",
       "      <td>17</td>\n",
       "      <td>57</td>\n",
       "      <td>blue-collar</td>\n",
       "      <td>married</td>\n",
       "      <td>primary</td>\n",
       "      <td>no</td>\n",
       "      <td>52</td>\n",
       "      <td>yes</td>\n",
       "      <td>no</td>\n",
       "      <td>unknown</td>\n",
       "      <td>5</td>\n",
       "      <td>may</td>\n",
       "      <td>38</td>\n",
       "      <td>1</td>\n",
       "      <td>-1</td>\n",
       "      <td>0</td>\n",
       "      <td>unknown</td>\n",
       "      <td>no</td>\n",
       "    </tr>\n",
       "    <tr>\n",
       "      <th>...</th>\n",
       "      <td>...</td>\n",
       "      <td>...</td>\n",
       "      <td>...</td>\n",
       "      <td>...</td>\n",
       "      <td>...</td>\n",
       "      <td>...</td>\n",
       "      <td>...</td>\n",
       "      <td>...</td>\n",
       "      <td>...</td>\n",
       "      <td>...</td>\n",
       "      <td>...</td>\n",
       "      <td>...</td>\n",
       "      <td>...</td>\n",
       "      <td>...</td>\n",
       "      <td>...</td>\n",
       "      <td>...</td>\n",
       "      <td>...</td>\n",
       "      <td>...</td>\n",
       "    </tr>\n",
       "    <tr>\n",
       "      <th>8995</th>\n",
       "      <td>45199</td>\n",
       "      <td>34</td>\n",
       "      <td>blue-collar</td>\n",
       "      <td>single</td>\n",
       "      <td>secondary</td>\n",
       "      <td>no</td>\n",
       "      <td>1475</td>\n",
       "      <td>yes</td>\n",
       "      <td>no</td>\n",
       "      <td>cellular</td>\n",
       "      <td>16</td>\n",
       "      <td>nov</td>\n",
       "      <td>1166</td>\n",
       "      <td>3</td>\n",
       "      <td>530</td>\n",
       "      <td>12</td>\n",
       "      <td>other</td>\n",
       "      <td>no</td>\n",
       "    </tr>\n",
       "    <tr>\n",
       "      <th>8996</th>\n",
       "      <td>45201</td>\n",
       "      <td>53</td>\n",
       "      <td>management</td>\n",
       "      <td>married</td>\n",
       "      <td>tertiary</td>\n",
       "      <td>no</td>\n",
       "      <td>583</td>\n",
       "      <td>no</td>\n",
       "      <td>no</td>\n",
       "      <td>cellular</td>\n",
       "      <td>17</td>\n",
       "      <td>nov</td>\n",
       "      <td>226</td>\n",
       "      <td>1</td>\n",
       "      <td>184</td>\n",
       "      <td>4</td>\n",
       "      <td>success</td>\n",
       "      <td>yes</td>\n",
       "    </tr>\n",
       "    <tr>\n",
       "      <th>8997</th>\n",
       "      <td>45204</td>\n",
       "      <td>73</td>\n",
       "      <td>retired</td>\n",
       "      <td>married</td>\n",
       "      <td>secondary</td>\n",
       "      <td>no</td>\n",
       "      <td>2850</td>\n",
       "      <td>no</td>\n",
       "      <td>no</td>\n",
       "      <td>cellular</td>\n",
       "      <td>17</td>\n",
       "      <td>nov</td>\n",
       "      <td>300</td>\n",
       "      <td>1</td>\n",
       "      <td>40</td>\n",
       "      <td>8</td>\n",
       "      <td>failure</td>\n",
       "      <td>yes</td>\n",
       "    </tr>\n",
       "    <tr>\n",
       "      <th>8998</th>\n",
       "      <td>45206</td>\n",
       "      <td>51</td>\n",
       "      <td>technician</td>\n",
       "      <td>married</td>\n",
       "      <td>tertiary</td>\n",
       "      <td>no</td>\n",
       "      <td>825</td>\n",
       "      <td>no</td>\n",
       "      <td>no</td>\n",
       "      <td>cellular</td>\n",
       "      <td>17</td>\n",
       "      <td>nov</td>\n",
       "      <td>977</td>\n",
       "      <td>3</td>\n",
       "      <td>-1</td>\n",
       "      <td>0</td>\n",
       "      <td>unknown</td>\n",
       "      <td>yes</td>\n",
       "    </tr>\n",
       "    <tr>\n",
       "      <th>8999</th>\n",
       "      <td>45207</td>\n",
       "      <td>71</td>\n",
       "      <td>retired</td>\n",
       "      <td>divorced</td>\n",
       "      <td>primary</td>\n",
       "      <td>no</td>\n",
       "      <td>1729</td>\n",
       "      <td>no</td>\n",
       "      <td>no</td>\n",
       "      <td>cellular</td>\n",
       "      <td>17</td>\n",
       "      <td>nov</td>\n",
       "      <td>456</td>\n",
       "      <td>2</td>\n",
       "      <td>-1</td>\n",
       "      <td>0</td>\n",
       "      <td>unknown</td>\n",
       "      <td>yes</td>\n",
       "    </tr>\n",
       "  </tbody>\n",
       "</table>\n",
       "<p>9000 rows × 18 columns</p>\n",
       "</div>"
      ],
      "text/plain": [
       "      Unnamed: 0  age           job   marital  education default  balance  \\\n",
       "0              0   58    management   married   tertiary      no     2143   \n",
       "1              2   33  entrepreneur   married  secondary      no        2   \n",
       "2             11   29        admin.    single  secondary      no      390   \n",
       "3             12   53    technician   married  secondary      no        6   \n",
       "4             17   57   blue-collar   married    primary      no       52   \n",
       "...          ...  ...           ...       ...        ...     ...      ...   \n",
       "8995       45199   34   blue-collar    single  secondary      no     1475   \n",
       "8996       45201   53    management   married   tertiary      no      583   \n",
       "8997       45204   73       retired   married  secondary      no     2850   \n",
       "8998       45206   51    technician   married   tertiary      no      825   \n",
       "8999       45207   71       retired  divorced    primary      no     1729   \n",
       "\n",
       "     housing loan   contact  day month  duration  campaign  pdays  previous  \\\n",
       "0        yes   no   unknown    5   may       261         1     -1         0   \n",
       "1        yes  yes   unknown    5   may        76         1     -1         0   \n",
       "2        yes   no   unknown    5   may       137         1     -1         0   \n",
       "3        yes   no   unknown    5   may       517         1     -1         0   \n",
       "4        yes   no   unknown    5   may        38         1     -1         0   \n",
       "...      ...  ...       ...  ...   ...       ...       ...    ...       ...   \n",
       "8995     yes   no  cellular   16   nov      1166         3    530        12   \n",
       "8996      no   no  cellular   17   nov       226         1    184         4   \n",
       "8997      no   no  cellular   17   nov       300         1     40         8   \n",
       "8998      no   no  cellular   17   nov       977         3     -1         0   \n",
       "8999      no   no  cellular   17   nov       456         2     -1         0   \n",
       "\n",
       "     poutcome    y  \n",
       "0     unknown   no  \n",
       "1     unknown   no  \n",
       "2     unknown   no  \n",
       "3     unknown   no  \n",
       "4     unknown   no  \n",
       "...       ...  ...  \n",
       "8995    other   no  \n",
       "8996  success  yes  \n",
       "8997  failure  yes  \n",
       "8998  unknown  yes  \n",
       "8999  unknown  yes  \n",
       "\n",
       "[9000 rows x 18 columns]"
      ]
     },
     "execution_count": 92,
     "metadata": {},
     "output_type": "execute_result"
    }
   ],
   "source": [
    "df_c"
   ]
  },
  {
   "cell_type": "code",
   "execution_count": 93,
   "id": "de415fc7-e075-4819-97ad-fd033a28029f",
   "metadata": {
    "tags": []
   },
   "outputs": [
    {
     "name": "stdout",
     "output_type": "stream",
     "text": [
      "<class 'pandas.core.frame.DataFrame'>\n",
      "RangeIndex: 9000 entries, 0 to 8999\n",
      "Data columns (total 18 columns):\n",
      " #   Column      Non-Null Count  Dtype \n",
      "---  ------      --------------  ----- \n",
      " 0   Unnamed: 0  9000 non-null   int64 \n",
      " 1   age         9000 non-null   int64 \n",
      " 2   job         9000 non-null   object\n",
      " 3   marital     9000 non-null   object\n",
      " 4   education   9000 non-null   object\n",
      " 5   default     9000 non-null   object\n",
      " 6   balance     9000 non-null   int64 \n",
      " 7   housing     9000 non-null   object\n",
      " 8   loan        9000 non-null   object\n",
      " 9   contact     9000 non-null   object\n",
      " 10  day         9000 non-null   int64 \n",
      " 11  month       9000 non-null   object\n",
      " 12  duration    9000 non-null   int64 \n",
      " 13  campaign    9000 non-null   int64 \n",
      " 14  pdays       9000 non-null   int64 \n",
      " 15  previous    9000 non-null   int64 \n",
      " 16  poutcome    9000 non-null   object\n",
      " 17  y           9000 non-null   object\n",
      "dtypes: int64(8), object(10)\n",
      "memory usage: 1.2+ MB\n"
     ]
    }
   ],
   "source": [
    "df_c.info()"
   ]
  },
  {
   "cell_type": "markdown",
   "id": "81dba206-be04-4fc1-a9ed-cc21f22396c6",
   "metadata": {
    "tags": []
   },
   "source": [
    "#### implementing dummy methods to all columns"
   ]
  },
  {
   "cell_type": "code",
   "execution_count": 94,
   "id": "4a6cd90a-d206-46da-bb57-3ab9433c764b",
   "metadata": {
    "tags": []
   },
   "outputs": [],
   "source": [
    "categorical_columns_comp = df_c.select_dtypes('object').columns"
   ]
  },
  {
   "cell_type": "code",
   "execution_count": 95,
   "id": "ee0bbb88-0010-4d48-b7cf-1e0330beb37c",
   "metadata": {
    "tags": []
   },
   "outputs": [
    {
     "data": {
      "text/plain": [
       "Index(['job', 'marital', 'education', 'default', 'housing', 'loan', 'contact',\n",
       "       'month', 'poutcome', 'y'],\n",
       "      dtype='object')"
      ]
     },
     "execution_count": 95,
     "metadata": {},
     "output_type": "execute_result"
    }
   ],
   "source": [
    "categorical_columns_comp"
   ]
  },
  {
   "cell_type": "code",
   "execution_count": 96,
   "id": "1c68d98c-1ce2-4a46-a3d5-7709c283bdff",
   "metadata": {
    "tags": []
   },
   "outputs": [],
   "source": [
    "## implementing of the all categorical columns\n",
    "\n",
    "for my_column_comp in categorical_columns_comp:\n",
    "    dummy_columns_comp = pd.get_dummies(df_c[my_column_comp], prefix = my_column_comp, drop_first = True)\n",
    "    df_c = df_c.join(dummy_columns_comp)\n",
    "    df_c.drop(my_column_comp, axis = 1, inplace = True)"
   ]
  },
  {
   "cell_type": "code",
   "execution_count": 97,
   "id": "0220306f-aa66-4a7e-8418-764804d33a33",
   "metadata": {
    "tags": []
   },
   "outputs": [
    {
     "data": {
      "text/html": [
       "<div>\n",
       "<style scoped>\n",
       "    .dataframe tbody tr th:only-of-type {\n",
       "        vertical-align: middle;\n",
       "    }\n",
       "\n",
       "    .dataframe tbody tr th {\n",
       "        vertical-align: top;\n",
       "    }\n",
       "\n",
       "    .dataframe thead th {\n",
       "        text-align: right;\n",
       "    }\n",
       "</style>\n",
       "<table border=\"1\" class=\"dataframe\">\n",
       "  <thead>\n",
       "    <tr style=\"text-align: right;\">\n",
       "      <th></th>\n",
       "      <th>Unnamed: 0</th>\n",
       "      <th>age</th>\n",
       "      <th>balance</th>\n",
       "      <th>day</th>\n",
       "      <th>duration</th>\n",
       "      <th>campaign</th>\n",
       "      <th>pdays</th>\n",
       "      <th>previous</th>\n",
       "      <th>job_blue-collar</th>\n",
       "      <th>job_entrepreneur</th>\n",
       "      <th>...</th>\n",
       "      <th>month_jun</th>\n",
       "      <th>month_mar</th>\n",
       "      <th>month_may</th>\n",
       "      <th>month_nov</th>\n",
       "      <th>month_oct</th>\n",
       "      <th>month_sep</th>\n",
       "      <th>poutcome_other</th>\n",
       "      <th>poutcome_success</th>\n",
       "      <th>poutcome_unknown</th>\n",
       "      <th>y_yes</th>\n",
       "    </tr>\n",
       "  </thead>\n",
       "  <tbody>\n",
       "    <tr>\n",
       "      <th>0</th>\n",
       "      <td>0</td>\n",
       "      <td>58</td>\n",
       "      <td>2143</td>\n",
       "      <td>5</td>\n",
       "      <td>261</td>\n",
       "      <td>1</td>\n",
       "      <td>-1</td>\n",
       "      <td>0</td>\n",
       "      <td>0</td>\n",
       "      <td>0</td>\n",
       "      <td>...</td>\n",
       "      <td>0</td>\n",
       "      <td>0</td>\n",
       "      <td>1</td>\n",
       "      <td>0</td>\n",
       "      <td>0</td>\n",
       "      <td>0</td>\n",
       "      <td>0</td>\n",
       "      <td>0</td>\n",
       "      <td>1</td>\n",
       "      <td>0</td>\n",
       "    </tr>\n",
       "    <tr>\n",
       "      <th>1</th>\n",
       "      <td>2</td>\n",
       "      <td>33</td>\n",
       "      <td>2</td>\n",
       "      <td>5</td>\n",
       "      <td>76</td>\n",
       "      <td>1</td>\n",
       "      <td>-1</td>\n",
       "      <td>0</td>\n",
       "      <td>0</td>\n",
       "      <td>1</td>\n",
       "      <td>...</td>\n",
       "      <td>0</td>\n",
       "      <td>0</td>\n",
       "      <td>1</td>\n",
       "      <td>0</td>\n",
       "      <td>0</td>\n",
       "      <td>0</td>\n",
       "      <td>0</td>\n",
       "      <td>0</td>\n",
       "      <td>1</td>\n",
       "      <td>0</td>\n",
       "    </tr>\n",
       "    <tr>\n",
       "      <th>2</th>\n",
       "      <td>11</td>\n",
       "      <td>29</td>\n",
       "      <td>390</td>\n",
       "      <td>5</td>\n",
       "      <td>137</td>\n",
       "      <td>1</td>\n",
       "      <td>-1</td>\n",
       "      <td>0</td>\n",
       "      <td>0</td>\n",
       "      <td>0</td>\n",
       "      <td>...</td>\n",
       "      <td>0</td>\n",
       "      <td>0</td>\n",
       "      <td>1</td>\n",
       "      <td>0</td>\n",
       "      <td>0</td>\n",
       "      <td>0</td>\n",
       "      <td>0</td>\n",
       "      <td>0</td>\n",
       "      <td>1</td>\n",
       "      <td>0</td>\n",
       "    </tr>\n",
       "    <tr>\n",
       "      <th>3</th>\n",
       "      <td>12</td>\n",
       "      <td>53</td>\n",
       "      <td>6</td>\n",
       "      <td>5</td>\n",
       "      <td>517</td>\n",
       "      <td>1</td>\n",
       "      <td>-1</td>\n",
       "      <td>0</td>\n",
       "      <td>0</td>\n",
       "      <td>0</td>\n",
       "      <td>...</td>\n",
       "      <td>0</td>\n",
       "      <td>0</td>\n",
       "      <td>1</td>\n",
       "      <td>0</td>\n",
       "      <td>0</td>\n",
       "      <td>0</td>\n",
       "      <td>0</td>\n",
       "      <td>0</td>\n",
       "      <td>1</td>\n",
       "      <td>0</td>\n",
       "    </tr>\n",
       "    <tr>\n",
       "      <th>4</th>\n",
       "      <td>17</td>\n",
       "      <td>57</td>\n",
       "      <td>52</td>\n",
       "      <td>5</td>\n",
       "      <td>38</td>\n",
       "      <td>1</td>\n",
       "      <td>-1</td>\n",
       "      <td>0</td>\n",
       "      <td>1</td>\n",
       "      <td>0</td>\n",
       "      <td>...</td>\n",
       "      <td>0</td>\n",
       "      <td>0</td>\n",
       "      <td>1</td>\n",
       "      <td>0</td>\n",
       "      <td>0</td>\n",
       "      <td>0</td>\n",
       "      <td>0</td>\n",
       "      <td>0</td>\n",
       "      <td>1</td>\n",
       "      <td>0</td>\n",
       "    </tr>\n",
       "  </tbody>\n",
       "</table>\n",
       "<p>5 rows × 44 columns</p>\n",
       "</div>"
      ],
      "text/plain": [
       "   Unnamed: 0  age  balance  day  duration  campaign  pdays  previous  \\\n",
       "0           0   58     2143    5       261         1     -1         0   \n",
       "1           2   33        2    5        76         1     -1         0   \n",
       "2          11   29      390    5       137         1     -1         0   \n",
       "3          12   53        6    5       517         1     -1         0   \n",
       "4          17   57       52    5        38         1     -1         0   \n",
       "\n",
       "   job_blue-collar  job_entrepreneur  ...  month_jun  month_mar  month_may  \\\n",
       "0                0                 0  ...          0          0          1   \n",
       "1                0                 1  ...          0          0          1   \n",
       "2                0                 0  ...          0          0          1   \n",
       "3                0                 0  ...          0          0          1   \n",
       "4                1                 0  ...          0          0          1   \n",
       "\n",
       "   month_nov  month_oct  month_sep  poutcome_other  poutcome_success  \\\n",
       "0          0          0          0               0                 0   \n",
       "1          0          0          0               0                 0   \n",
       "2          0          0          0               0                 0   \n",
       "3          0          0          0               0                 0   \n",
       "4          0          0          0               0                 0   \n",
       "\n",
       "   poutcome_unknown  y_yes  \n",
       "0                 1      0  \n",
       "1                 1      0  \n",
       "2                 1      0  \n",
       "3                 1      0  \n",
       "4                 1      0  \n",
       "\n",
       "[5 rows x 44 columns]"
      ]
     },
     "execution_count": 97,
     "metadata": {},
     "output_type": "execute_result"
    }
   ],
   "source": [
    "df_c.head()"
   ]
  },
  {
   "cell_type": "code",
   "execution_count": 98,
   "id": "6b561670-68db-4d3b-9118-c1d069c77984",
   "metadata": {
    "tags": []
   },
   "outputs": [],
   "source": [
    "## Training and Test split"
   ]
  },
  {
   "cell_type": "code",
   "execution_count": 99,
   "id": "e4f2aadd-a086-4887-8c86-7a577a36d3f3",
   "metadata": {
    "tags": []
   },
   "outputs": [],
   "source": [
    "X_comp = df_c.drop(['y_yes'], axis=1) ##independent values\n",
    "y_comp = df_c['y_yes'] ## dependent values"
   ]
  },
  {
   "cell_type": "code",
   "execution_count": 100,
   "id": "da12fe13-bb51-4312-9d90-a1007b15ffdd",
   "metadata": {
    "tags": []
   },
   "outputs": [],
   "source": [
    "X_train_c, X_test_c, y_train_c, y_test_c = train_test_split(X_comp, y_comp, test_size=0.25, random_state=1024)"
   ]
  },
  {
   "cell_type": "code",
   "execution_count": 101,
   "id": "3cb7b603-7045-4649-97cf-5c72e332eda6",
   "metadata": {
    "tags": []
   },
   "outputs": [],
   "source": [
    "from sklearn.tree import DecisionTreeClassifier\n",
    "from sklearn.preprocessing import StandardScaler, MinMaxScaler\n",
    "from sklearn.pipeline import make_pipeline\n",
    "from sklearn.model_selection import KFold"
   ]
  },
  {
   "cell_type": "code",
   "execution_count": 102,
   "id": "e0025383-ee13-4906-8ff7-f20e50b34132",
   "metadata": {
    "tags": []
   },
   "outputs": [],
   "source": [
    "# Initialize 10-fold cross-validation\n",
    "kf_c = KFold(n_splits=10, shuffle=True, random_state=1024)\n",
    "# Define different combinations of feature selection, scaling, and classification methods\n",
    "feature_selection_methods_cp = [SelectFromModel(estimator=LogisticRegression(max_iter=5000)),\n",
    "                             SelectFromModel(DecisionTreeClassifier(random_state=1024)),\n",
    "                             SelectFromModel(RandomForestClassifier(random_state=1024))]"
   ]
  },
  {
   "cell_type": "code",
   "execution_count": 103,
   "id": "9ddca49d-cb74-4cb0-9262-3c912d6d0aab",
   "metadata": {
    "tags": []
   },
   "outputs": [],
   "source": [
    "scaling_methods_cp = [StandardScaler(), \n",
    "                   RobustScaler(), \n",
    "                   MinMaxScaler()]"
   ]
  },
  {
   "cell_type": "code",
   "execution_count": 104,
   "id": "9d9ccf54-51a3-453f-9588-75ec986d4f14",
   "metadata": {
    "tags": []
   },
   "outputs": [],
   "source": [
    "classification_methods_cp = [LogisticRegression(max_iter=5000), \n",
    "                          DecisionTreeClassifier(random_state=1024), \n",
    "                          RandomForestClassifier(random_state=1024)]"
   ]
  },
  {
   "cell_type": "code",
   "execution_count": 105,
   "id": "0ffa40cc-2a2a-48bd-b648-5e888f8b009a",
   "metadata": {
    "tags": []
   },
   "outputs": [],
   "source": [
    "results_comp = {}\n",
    "\n",
    "\n",
    "for feature_selection_cp in feature_selection_methods_cp:\n",
    "    for scaling_cp in scaling_methods_cp:\n",
    "        for classification_cp in classification_methods_cp:\n",
    "            # Create a pipeline with the current combination\n",
    "            model_cp = make_pipeline(\n",
    "                feature_selection_cp,\n",
    "                scaling_cp,\n",
    "                classification_cp\n",
    "            )\n",
    "            \n",
    "            # Evaluate the model using cross-validation\n",
    "            accuracy_scores_cp = cross_val_score(model_cp, X_train_c, y_train_c, cv=kf_c)\n",
    "            \n",
    "            # Calculate the average accuracy\n",
    "            average_accuracy_cp = accuracy_scores_cp.mean()\n",
    "            \n",
    "           # Store the results in the dictionary\n",
    "            results_comp[(type(feature_selection_cp).__name__, type(scaling_cp).__name__, type(classification_cp).__name__)] = average_accuracy_cp\n"
   ]
  },
  {
   "cell_type": "code",
   "execution_count": 106,
   "id": "bb1123e4-7eeb-4583-a7a4-b6641cda954c",
   "metadata": {
    "tags": []
   },
   "outputs": [],
   "source": [
    "# Find the best-performing combination\n",
    "best_combination_cp = max(results_comp, key=results_comp.get)\n",
    "best_accuracy_cp = results_comp[best_combination_cp]\n"
   ]
  },
  {
   "cell_type": "code",
   "execution_count": 107,
   "id": "00ba0bb3-68c6-452b-a61b-0348fae5a40d",
   "metadata": {
    "tags": []
   },
   "outputs": [
    {
     "name": "stdout",
     "output_type": "stream",
     "text": [
      "Best Performing Combination: Feature Selection: SelectFromModel, Scaling: MinMaxScaler, Classification: RandomForestClassifier, Average Accuracy: 0.9132\n"
     ]
    }
   ],
   "source": [
    "# Print the best-performing combination\n",
    "print(f'Best Performing Combination: Feature Selection: {best_combination_cp[0]}, Scaling: {best_combination_cp[1]}, '\n",
    "      f'Classification: {best_combination_cp[2]}, Average Accuracy: {best_accuracy_cp:.4f}')"
   ]
  },
  {
   "cell_type": "code",
   "execution_count": null,
   "id": "5e0ba246-1db3-486f-b832-d0000f8d3809",
   "metadata": {},
   "outputs": [],
   "source": []
  }
 ],
 "metadata": {
  "kernelspec": {
   "display_name": "Python 3 (ipykernel)",
   "language": "python",
   "name": "python3"
  },
  "language_info": {
   "codemirror_mode": {
    "name": "ipython",
    "version": 3
   },
   "file_extension": ".py",
   "mimetype": "text/x-python",
   "name": "python",
   "nbconvert_exporter": "python",
   "pygments_lexer": "ipython3",
   "version": "3.11.4"
  }
 },
 "nbformat": 4,
 "nbformat_minor": 5
}
